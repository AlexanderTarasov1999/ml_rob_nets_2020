{
 "cells": [
  {
   "cell_type": "markdown",
   "metadata": {},
   "source": [
    "# Лабораторная работа № 3 – Регрессионный анализ данных\n"
   ]
  },
  {
   "cell_type": "markdown",
   "metadata": {},
   "source": [
    "## Выполнил: Кремлев Антон Алексеевич\n",
    "## Учебная группа: 18ивт2\n",
    "## 12 Вариант\n",
    "## Набор данных: 3_air_quality\n",
    "## Классификаторы:\n",
    "### *1 – линейная регрессия без использования регуляризаторов;\n",
    "### *2 – линейная регрессия, LASSO регуляризатор;\n",
    "\n"
   ]
  },
  {
   "cell_type": "markdown",
   "metadata": {},
   "source": [
    "### Цель лабораторной работы – получение навыков работы с методами регрессии"
   ]
  },
  {
   "cell_type": "markdown",
   "metadata": {},
   "source": [
    "### 1.\tИзучить набор данных. Создать описание набора данных на русском языке. Описать признаки, используемые в наборе данных (включить полученные описания в отчёт)."
   ]
  },
  {
   "cell_type": "markdown",
   "metadata": {},
   "source": [
    "##### Data Set Information: The dataset contains 9358 instances of hourly averaged responses from an array of 5 metal oxide chemical sensors embedded in an Air Quality Chemical Multisensor Device. The device was located on the field in a significantly polluted area, at road level,within an Italian city. Data were recorded from March 2004 to February 2005 (one year)representing the longest freely available recordings of on field deployed air quality chemical sensor devices responses. Ground Truth hourly averaged concentrations for CO, Non Metanic Hydrocarbons, Benzene, Total Nitrogen Oxides (NOx) and Nitrogen Dioxide (NO2) and were provided by a co-located reference certified analyzer. \n",
    "##### Информация о наборе данных: набор данных содержит 9358 экземпляров ежечасно усредненных ответов от набора из 5 металлооксидных химических датчиков, встроенных в мультисенсорное устройство для определения качества воздуха. Устройство находилось на поле в сильно загрязненной зоне, на уровне дороги, в итальянском городе. Данные были записаны с марта 2004 года по февраль 2005 года (один год), представляющие самые длинные свободно доступные записи ответов полевых химических устройств для определения качества воздуха. Среднечасовые среднечасовые концентрации CO, неметановых углеводородов, бензола, общих оксидов азота (NOx) и диоксида азота (NO2) были получены с помощью совмещенного эталонного сертифицированного анализатора. \n",
    " \n",
    "###### Attribute Information: \n",
    "###### 0 Date (DD/MM/YYYY)   - Дата\n",
    "###### 1 Time (HH.MM.SS)  - Время\n",
    "###### 2 True hourly averaged concentration CO in mg/m^3 (reference analyzer)  - Истинная среднечасовая концентрация СО в мг / м ^ 3 (контрольный анализатор)\n",
    "###### 3 PT08.S1 (tin oxide) hourly averaged sensor response (nominally CO targeted) - PT08.S1 (оксид олова) среднечасовая чувствительность датчика (номинально нацеленная на СО)\n",
    "###### 4 True hourly averaged overall Non Metanic HydroCarbons concentration in microg/m^3 (reference analyzer)  - Истинная среднечасовая концентрация неметановых углеводородов в микрог / м ^ 3 (эталонный анализатор)\n",
    "###### 5 True hourly averaged Benzene concentration in microg/m^3 (reference analyzer)  - Истинная среднечасовая концентрация бензола в микрог / м ^ 3 (контрольный анализатор)\n",
    "###### 6 PT08.S2 (titania) hourly averaged sensor response (nominally NMHC targeted) - PT08.S2 (диоксид титана) среднечасовой отклик сенсора (номинально для NMHC)\n",
    "###### 7 True hourly averaged NOx concentration in ppb (reference analyzer)  - Истинная среднечасовая концентрация NOx в миллионных долях (контрольный анализатор)\n",
    "###### 8 PT08.S3 (tungsten oxide) hourly averaged sensor response (nominally NOx targeted) - PT08.S3 (оксид вольфрама) среднечасовой отклик датчика (номинально на NOx)\n",
    "###### 9 True hourly averaged NO2 concentration in microg/m^3 (reference analyzer) - Истинная среднечасовая концентрация NO2 в микрог / м ^ 3 (контрольный анализатор)\n",
    "###### 10 PT08.S4 (tungsten oxide) hourly averaged sensor response (nominally NO2 targeted)  - PT08.S4 (оксид вольфрама) среднечасовой отклик датчика (номинально на NO2)\n",
    "###### 11 PT08.S5 (indium oxide) hourly averaged sensor response (nominally O3 targeted)   - PT08.S5 (оксид индия) среднечасовая чувствительность датчика (номинально O3)\n",
    "###### 12 Temperature in Â°C  - Температура в ° С\n",
    "###### 13 Relative Humidity (%) - Относительная влажность (%)\n",
    "###### 14 AH Absolute Humidity - Абсолютная влажность\n"
   ]
  },
  {
   "cell_type": "markdown",
   "metadata": {},
   "source": [
    "### 2.\tУдалите дубликаты строк в наборе данных; приведите размер набора данных до и после данной операции;"
   ]
  },
  {
   "cell_type": "code",
   "execution_count": 74,
   "metadata": {},
   "outputs": [],
   "source": [
    "import matplotlib.pyplot as plt\n",
    "%matplotlib inline\n",
    "\n",
    "import pandas as pd\n",
    "import numpy as np"
   ]
  },
  {
   "cell_type": "code",
   "execution_count": 75,
   "metadata": {},
   "outputs": [
    {
     "data": {
      "text/html": [
       "<div>\n",
       "<style scoped>\n",
       "    .dataframe tbody tr th:only-of-type {\n",
       "        vertical-align: middle;\n",
       "    }\n",
       "\n",
       "    .dataframe tbody tr th {\n",
       "        vertical-align: top;\n",
       "    }\n",
       "\n",
       "    .dataframe thead th {\n",
       "        text-align: right;\n",
       "    }\n",
       "</style>\n",
       "<table border=\"1\" class=\"dataframe\">\n",
       "  <thead>\n",
       "    <tr style=\"text-align: right;\">\n",
       "      <th></th>\n",
       "      <th>Date</th>\n",
       "      <th>Time</th>\n",
       "      <th>CO(GT)</th>\n",
       "      <th>PT08.S1(CO)</th>\n",
       "      <th>NMHC(GT)</th>\n",
       "      <th>C6H6(GT)</th>\n",
       "      <th>PT08.S2(NMHC)</th>\n",
       "      <th>NOx(GT)</th>\n",
       "      <th>PT08.S3(NOx)</th>\n",
       "      <th>NO2(GT)</th>\n",
       "      <th>PT08.S4(NO2)</th>\n",
       "      <th>PT08.S5(O3)</th>\n",
       "      <th>T</th>\n",
       "      <th>RH</th>\n",
       "      <th>AH</th>\n",
       "    </tr>\n",
       "  </thead>\n",
       "  <tbody>\n",
       "    <tr>\n",
       "      <th>0</th>\n",
       "      <td>10/03/2004</td>\n",
       "      <td>18.00.00</td>\n",
       "      <td>2,6</td>\n",
       "      <td>1360</td>\n",
       "      <td>150</td>\n",
       "      <td>11,9</td>\n",
       "      <td>1046</td>\n",
       "      <td>166</td>\n",
       "      <td>1056</td>\n",
       "      <td>113</td>\n",
       "      <td>1692</td>\n",
       "      <td>1268</td>\n",
       "      <td>13,6</td>\n",
       "      <td>48,9</td>\n",
       "      <td>0,7578</td>\n",
       "    </tr>\n",
       "    <tr>\n",
       "      <th>1</th>\n",
       "      <td>10/03/2004</td>\n",
       "      <td>19.00.00</td>\n",
       "      <td>2</td>\n",
       "      <td>1292</td>\n",
       "      <td>112</td>\n",
       "      <td>9,4</td>\n",
       "      <td>955</td>\n",
       "      <td>103</td>\n",
       "      <td>1174</td>\n",
       "      <td>92</td>\n",
       "      <td>1559</td>\n",
       "      <td>972</td>\n",
       "      <td>13,3</td>\n",
       "      <td>47,7</td>\n",
       "      <td>0,7255</td>\n",
       "    </tr>\n",
       "    <tr>\n",
       "      <th>2</th>\n",
       "      <td>10/03/2004</td>\n",
       "      <td>20.00.00</td>\n",
       "      <td>2,2</td>\n",
       "      <td>1402</td>\n",
       "      <td>88</td>\n",
       "      <td>9,0</td>\n",
       "      <td>939</td>\n",
       "      <td>131</td>\n",
       "      <td>1140</td>\n",
       "      <td>114</td>\n",
       "      <td>1555</td>\n",
       "      <td>1074</td>\n",
       "      <td>11,9</td>\n",
       "      <td>54,0</td>\n",
       "      <td>0,7502</td>\n",
       "    </tr>\n",
       "    <tr>\n",
       "      <th>3</th>\n",
       "      <td>10/03/2004</td>\n",
       "      <td>21.00.00</td>\n",
       "      <td>2,2</td>\n",
       "      <td>1376</td>\n",
       "      <td>80</td>\n",
       "      <td>9,2</td>\n",
       "      <td>948</td>\n",
       "      <td>172</td>\n",
       "      <td>1092</td>\n",
       "      <td>122</td>\n",
       "      <td>1584</td>\n",
       "      <td>1203</td>\n",
       "      <td>11,0</td>\n",
       "      <td>60,0</td>\n",
       "      <td>0,7867</td>\n",
       "    </tr>\n",
       "    <tr>\n",
       "      <th>4</th>\n",
       "      <td>10/03/2004</td>\n",
       "      <td>22.00.00</td>\n",
       "      <td>1,6</td>\n",
       "      <td>1272</td>\n",
       "      <td>51</td>\n",
       "      <td>6,5</td>\n",
       "      <td>836</td>\n",
       "      <td>131</td>\n",
       "      <td>1205</td>\n",
       "      <td>116</td>\n",
       "      <td>1490</td>\n",
       "      <td>1110</td>\n",
       "      <td>11,2</td>\n",
       "      <td>59,6</td>\n",
       "      <td>0,7888</td>\n",
       "    </tr>\n",
       "    <tr>\n",
       "      <th>...</th>\n",
       "      <td>...</td>\n",
       "      <td>...</td>\n",
       "      <td>...</td>\n",
       "      <td>...</td>\n",
       "      <td>...</td>\n",
       "      <td>...</td>\n",
       "      <td>...</td>\n",
       "      <td>...</td>\n",
       "      <td>...</td>\n",
       "      <td>...</td>\n",
       "      <td>...</td>\n",
       "      <td>...</td>\n",
       "      <td>...</td>\n",
       "      <td>...</td>\n",
       "      <td>...</td>\n",
       "    </tr>\n",
       "    <tr>\n",
       "      <th>9352</th>\n",
       "      <td>04/04/2005</td>\n",
       "      <td>10.00.00</td>\n",
       "      <td>3,1</td>\n",
       "      <td>1314</td>\n",
       "      <td>-200</td>\n",
       "      <td>13,5</td>\n",
       "      <td>1101</td>\n",
       "      <td>472</td>\n",
       "      <td>539</td>\n",
       "      <td>190</td>\n",
       "      <td>1374</td>\n",
       "      <td>1729</td>\n",
       "      <td>21,9</td>\n",
       "      <td>29,3</td>\n",
       "      <td>0,7568</td>\n",
       "    </tr>\n",
       "    <tr>\n",
       "      <th>9353</th>\n",
       "      <td>04/04/2005</td>\n",
       "      <td>11.00.00</td>\n",
       "      <td>2,4</td>\n",
       "      <td>1163</td>\n",
       "      <td>-200</td>\n",
       "      <td>11,4</td>\n",
       "      <td>1027</td>\n",
       "      <td>353</td>\n",
       "      <td>604</td>\n",
       "      <td>179</td>\n",
       "      <td>1264</td>\n",
       "      <td>1269</td>\n",
       "      <td>24,3</td>\n",
       "      <td>23,7</td>\n",
       "      <td>0,7119</td>\n",
       "    </tr>\n",
       "    <tr>\n",
       "      <th>9354</th>\n",
       "      <td>04/04/2005</td>\n",
       "      <td>12.00.00</td>\n",
       "      <td>2,4</td>\n",
       "      <td>1142</td>\n",
       "      <td>-200</td>\n",
       "      <td>12,4</td>\n",
       "      <td>1063</td>\n",
       "      <td>293</td>\n",
       "      <td>603</td>\n",
       "      <td>175</td>\n",
       "      <td>1241</td>\n",
       "      <td>1092</td>\n",
       "      <td>26,9</td>\n",
       "      <td>18,3</td>\n",
       "      <td>0,6406</td>\n",
       "    </tr>\n",
       "    <tr>\n",
       "      <th>9355</th>\n",
       "      <td>04/04/2005</td>\n",
       "      <td>13.00.00</td>\n",
       "      <td>2,1</td>\n",
       "      <td>1003</td>\n",
       "      <td>-200</td>\n",
       "      <td>9,5</td>\n",
       "      <td>961</td>\n",
       "      <td>235</td>\n",
       "      <td>702</td>\n",
       "      <td>156</td>\n",
       "      <td>1041</td>\n",
       "      <td>770</td>\n",
       "      <td>28,3</td>\n",
       "      <td>13,5</td>\n",
       "      <td>0,5139</td>\n",
       "    </tr>\n",
       "    <tr>\n",
       "      <th>9356</th>\n",
       "      <td>04/04/2005</td>\n",
       "      <td>14.00.00</td>\n",
       "      <td>2,2</td>\n",
       "      <td>1071</td>\n",
       "      <td>-200</td>\n",
       "      <td>11,9</td>\n",
       "      <td>1047</td>\n",
       "      <td>265</td>\n",
       "      <td>654</td>\n",
       "      <td>168</td>\n",
       "      <td>1129</td>\n",
       "      <td>816</td>\n",
       "      <td>28,5</td>\n",
       "      <td>13,1</td>\n",
       "      <td>0,5028</td>\n",
       "    </tr>\n",
       "  </tbody>\n",
       "</table>\n",
       "<p>9357 rows × 15 columns</p>\n",
       "</div>"
      ],
      "text/plain": [
       "            Date      Time CO(GT)  PT08.S1(CO)  NMHC(GT) C6H6(GT)  \\\n",
       "0     10/03/2004  18.00.00    2,6         1360       150     11,9   \n",
       "1     10/03/2004  19.00.00      2         1292       112      9,4   \n",
       "2     10/03/2004  20.00.00    2,2         1402        88      9,0   \n",
       "3     10/03/2004  21.00.00    2,2         1376        80      9,2   \n",
       "4     10/03/2004  22.00.00    1,6         1272        51      6,5   \n",
       "...          ...       ...    ...          ...       ...      ...   \n",
       "9352  04/04/2005  10.00.00    3,1         1314      -200     13,5   \n",
       "9353  04/04/2005  11.00.00    2,4         1163      -200     11,4   \n",
       "9354  04/04/2005  12.00.00    2,4         1142      -200     12,4   \n",
       "9355  04/04/2005  13.00.00    2,1         1003      -200      9,5   \n",
       "9356  04/04/2005  14.00.00    2,2         1071      -200     11,9   \n",
       "\n",
       "      PT08.S2(NMHC)  NOx(GT)  PT08.S3(NOx)  NO2(GT)  PT08.S4(NO2)  \\\n",
       "0              1046      166          1056      113          1692   \n",
       "1               955      103          1174       92          1559   \n",
       "2               939      131          1140      114          1555   \n",
       "3               948      172          1092      122          1584   \n",
       "4               836      131          1205      116          1490   \n",
       "...             ...      ...           ...      ...           ...   \n",
       "9352           1101      472           539      190          1374   \n",
       "9353           1027      353           604      179          1264   \n",
       "9354           1063      293           603      175          1241   \n",
       "9355            961      235           702      156          1041   \n",
       "9356           1047      265           654      168          1129   \n",
       "\n",
       "      PT08.S5(O3)     T    RH      AH  \n",
       "0            1268  13,6  48,9  0,7578  \n",
       "1             972  13,3  47,7  0,7255  \n",
       "2            1074  11,9  54,0  0,7502  \n",
       "3            1203  11,0  60,0  0,7867  \n",
       "4            1110  11,2  59,6  0,7888  \n",
       "...           ...   ...   ...     ...  \n",
       "9352         1729  21,9  29,3  0,7568  \n",
       "9353         1269  24,3  23,7  0,7119  \n",
       "9354         1092  26,9  18,3  0,6406  \n",
       "9355          770  28,3  13,5  0,5139  \n",
       "9356          816  28,5  13,1  0,5028  \n",
       "\n",
       "[9357 rows x 15 columns]"
      ]
     },
     "execution_count": 75,
     "metadata": {},
     "output_type": "execute_result"
    }
   ],
   "source": [
    "df = pd.read_csv(\"3_air_quality/AirQualityUCI.csv\",sep=';' )\n",
    "df"
   ]
  },
  {
   "cell_type": "code",
   "execution_count": 76,
   "metadata": {},
   "outputs": [
    {
     "name": "stdout",
     "output_type": "stream",
     "text": [
      "Всего удалено дубликатов 0\n"
     ]
    }
   ],
   "source": [
    "len1 = len(df)\n",
    "df.drop_duplicates(keep='first',inplace=True)\n",
    "len2 = len(df)\n",
    "#;; was deleted manualy, before reading df to correct opening\n",
    "print(\"Всего удалено дубликатов\" ,len1 - len2)\n"
   ]
  },
  {
   "cell_type": "markdown",
   "metadata": {},
   "source": [
    "### 3.\tВыполните масштабирование количественных признаков; Постройте диаграммы BoxPlot для признаков до и после масштабирования. Выберите способ масштабирования (например, нормализацию или стандартизацию);"
   ]
  },
  {
   "cell_type": "code",
   "execution_count": 77,
   "metadata": {},
   "outputs": [
    {
     "data": {
      "text/plain": [
       "<matplotlib.axes._subplots.AxesSubplot at 0x20fce75f3c8>"
      ]
     },
     "execution_count": 77,
     "metadata": {},
     "output_type": "execute_result"
    },
    {
     "data": {
      "image/png": "[encoded data removed]",
      "text/plain": [
       "<Figure size 432x288 with 1 Axes>"
      ]
     },
     "metadata": {
      "needs_background": "light"
     },
     "output_type": "display_data"
    }
   ],
   "source": [
    "import seaborn as sns\n",
    "df.head()\n",
    "numerical = [c for c in df.columns if df[c].dtype.name != 'object']\n",
    "sns.boxplot(data=df[numerical])"
   ]
  },
  {
   "cell_type": "code",
   "execution_count": 78,
   "metadata": {},
   "outputs": [
    {
     "data": {
      "text/plain": [
       "<matplotlib.axes._subplots.AxesSubplot at 0x20fce6ab1d0>"
      ]
     },
     "execution_count": 78,
     "metadata": {},
     "output_type": "execute_result"
    },
    {
     "data": {
      "image/png": "[encoded data removed]",
      "text/plain": [
       "<Figure size 432x288 with 1 Axes>"
      ]
     },
     "metadata": {
      "needs_background": "light"
     },
     "output_type": "display_data"
    }
   ],
   "source": [
    "from sklearn import preprocessing\n",
    "scaler = preprocessing.MinMaxScaler()\n",
    "df[numerical] = scaler.fit_transform(df[numerical].values.astype(float))\n",
    "sns.boxplot(data=df[numerical])"
   ]
  },
  {
   "cell_type": "markdown",
   "metadata": {},
   "source": [
    "### 4.\tВыполните замену категориальных признаков; выберите и обоснуйте способ замены;"
   ]
  },
  {
   "cell_type": "code",
   "execution_count": 79,
   "metadata": {},
   "outputs": [
    {
     "data": {
      "text/html": [
       "<div>\n",
       "<style scoped>\n",
       "    .dataframe tbody tr th:only-of-type {\n",
       "        vertical-align: middle;\n",
       "    }\n",
       "\n",
       "    .dataframe tbody tr th {\n",
       "        vertical-align: top;\n",
       "    }\n",
       "\n",
       "    .dataframe thead th {\n",
       "        text-align: right;\n",
       "    }\n",
       "</style>\n",
       "<table border=\"1\" class=\"dataframe\">\n",
       "  <thead>\n",
       "    <tr style=\"text-align: right;\">\n",
       "      <th></th>\n",
       "      <th>Date</th>\n",
       "      <th>Time</th>\n",
       "      <th>CO(GT)</th>\n",
       "      <th>PT08.S1(CO)</th>\n",
       "      <th>NMHC(GT)</th>\n",
       "      <th>C6H6(GT)</th>\n",
       "      <th>PT08.S2(NMHC)</th>\n",
       "      <th>NOx(GT)</th>\n",
       "      <th>PT08.S3(NOx)</th>\n",
       "      <th>NO2(GT)</th>\n",
       "      <th>PT08.S4(NO2)</th>\n",
       "      <th>PT08.S5(O3)</th>\n",
       "      <th>T</th>\n",
       "      <th>RH</th>\n",
       "      <th>AH</th>\n",
       "    </tr>\n",
       "  </thead>\n",
       "  <tbody>\n",
       "    <tr>\n",
       "      <th>0</th>\n",
       "      <td>114</td>\n",
       "      <td>18</td>\n",
       "      <td>33</td>\n",
       "      <td>666</td>\n",
       "      <td>136</td>\n",
       "      <td>39</td>\n",
       "      <td>623</td>\n",
       "      <td>163</td>\n",
       "      <td>700</td>\n",
       "      <td>108</td>\n",
       "      <td>986</td>\n",
       "      <td>977</td>\n",
       "      <td>66</td>\n",
       "      <td>375</td>\n",
       "      <td>1896</td>\n",
       "    </tr>\n",
       "    <tr>\n",
       "      <th>1</th>\n",
       "      <td>114</td>\n",
       "      <td>19</td>\n",
       "      <td>26</td>\n",
       "      <td>598</td>\n",
       "      <td>101</td>\n",
       "      <td>402</td>\n",
       "      <td>532</td>\n",
       "      <td>100</td>\n",
       "      <td>818</td>\n",
       "      <td>87</td>\n",
       "      <td>853</td>\n",
       "      <td>681</td>\n",
       "      <td>63</td>\n",
       "      <td>363</td>\n",
       "      <td>1727</td>\n",
       "    </tr>\n",
       "    <tr>\n",
       "      <th>2</th>\n",
       "      <td>114</td>\n",
       "      <td>20</td>\n",
       "      <td>29</td>\n",
       "      <td>708</td>\n",
       "      <td>78</td>\n",
       "      <td>398</td>\n",
       "      <td>516</td>\n",
       "      <td>128</td>\n",
       "      <td>784</td>\n",
       "      <td>109</td>\n",
       "      <td>849</td>\n",
       "      <td>783</td>\n",
       "      <td>49</td>\n",
       "      <td>426</td>\n",
       "      <td>1853</td>\n",
       "    </tr>\n",
       "    <tr>\n",
       "      <th>3</th>\n",
       "      <td>114</td>\n",
       "      <td>21</td>\n",
       "      <td>29</td>\n",
       "      <td>682</td>\n",
       "      <td>70</td>\n",
       "      <td>400</td>\n",
       "      <td>525</td>\n",
       "      <td>169</td>\n",
       "      <td>736</td>\n",
       "      <td>117</td>\n",
       "      <td>878</td>\n",
       "      <td>912</td>\n",
       "      <td>40</td>\n",
       "      <td>486</td>\n",
       "      <td>2056</td>\n",
       "    </tr>\n",
       "    <tr>\n",
       "      <th>4</th>\n",
       "      <td>114</td>\n",
       "      <td>22</td>\n",
       "      <td>18</td>\n",
       "      <td>578</td>\n",
       "      <td>41</td>\n",
       "      <td>372</td>\n",
       "      <td>413</td>\n",
       "      <td>128</td>\n",
       "      <td>848</td>\n",
       "      <td>111</td>\n",
       "      <td>784</td>\n",
       "      <td>819</td>\n",
       "      <td>42</td>\n",
       "      <td>482</td>\n",
       "      <td>2066</td>\n",
       "    </tr>\n",
       "  </tbody>\n",
       "</table>\n",
       "</div>"
      ],
      "text/plain": [
       "   Date  Time  CO(GT)  PT08.S1(CO)  NMHC(GT)  C6H6(GT)  PT08.S2(NMHC)  \\\n",
       "0   114    18      33          666       136        39            623   \n",
       "1   114    19      26          598       101       402            532   \n",
       "2   114    20      29          708        78       398            516   \n",
       "3   114    21      29          682        70       400            525   \n",
       "4   114    22      18          578        41       372            413   \n",
       "\n",
       "   NOx(GT)  PT08.S3(NOx)  NO2(GT)  PT08.S4(NO2)  PT08.S5(O3)   T   RH    AH  \n",
       "0      163           700      108           986          977  66  375  1896  \n",
       "1      100           818       87           853          681  63  363  1727  \n",
       "2      128           784      109           849          783  49  426  1853  \n",
       "3      169           736      117           878          912  40  486  2056  \n",
       "4      128           848      111           784          819  42  482  2066  "
      ]
     },
     "execution_count": 79,
     "metadata": {},
     "output_type": "execute_result"
    }
   ],
   "source": [
    "\n",
    "from sklearn.preprocessing import LabelEncoder\n",
    "from sklearn.preprocessing import OneHotEncoder\n",
    "label_encoder = LabelEncoder()\n",
    "ohe = OneHotEncoder(sparse=False)\n",
    "for column in list(df):\n",
    "    ### используем fit_transform, а не OneHotEncoder потому что у нас и так очень много параметров\n",
    "    df[column] = pd.Series(label_encoder.fit_transform(df[column]))\n",
    "### посмотрим результат \n",
    "df.head()"
   ]
  },
  {
   "cell_type": "markdown",
   "metadata": {},
   "source": [
    "### 5.\tОцените корреляцию между признаков и удалите те признаки, которые коррелируют с наибольшим числом других;"
   ]
  },
  {
   "cell_type": "code",
   "execution_count": 80,
   "metadata": {},
   "outputs": [
    {
     "data": {
      "text/plain": [
       "<matplotlib.axes._subplots.AxesSubplot at 0x20fce6a32e8>"
      ]
     },
     "execution_count": 80,
     "metadata": {},
     "output_type": "execute_result"
    },
    {
     "data": {
      "image/png": "[encoded data removed]",
      "text/plain": [
       "<Figure size 432x288 with 2 Axes>"
      ]
     },
     "metadata": {
      "needs_background": "light"
     },
     "output_type": "display_data"
    }
   ],
   "source": [
    "from sklearn.preprocessing import StandardScaler\n",
    "scaler = StandardScaler()\n",
    "\n",
    "sns.heatmap(df.corr())"
   ]
  },
  {
   "cell_type": "markdown",
   "metadata": {},
   "source": [
    "### 6.\tЗаполните пропущенные значения в данных;"
   ]
  },
  {
   "cell_type": "code",
   "execution_count": 81,
   "metadata": {},
   "outputs": [
    {
     "data": {
      "text/plain": [
       "Date             9357\n",
       "Time             9357\n",
       "CO(GT)           9357\n",
       "PT08.S1(CO)      9357\n",
       "NMHC(GT)         9357\n",
       "C6H6(GT)         9357\n",
       "PT08.S2(NMHC)    9357\n",
       "NOx(GT)          9357\n",
       "PT08.S3(NOx)     9357\n",
       "NO2(GT)          9357\n",
       "PT08.S4(NO2)     9357\n",
       "PT08.S5(O3)      9357\n",
       "T                9357\n",
       "RH               9357\n",
       "AH               9357\n",
       "dtype: int64"
      ]
     },
     "execution_count": 81,
     "metadata": {},
     "output_type": "execute_result"
    }
   ],
   "source": [
    "df.count()"
   ]
  },
  {
   "cell_type": "markdown",
   "metadata": {},
   "source": [
    "##### нет пропусков"
   ]
  },
  {
   "cell_type": "markdown",
   "metadata": {},
   "source": [
    "### 7.\tРешите поставленную задачу регрессии в соответствии с заданием. При подборе параметров метода принятия решения (метода регрессии) используйте перекрёстную проверку (изучите возможные для изменения параметры метода регрессии).  Вычислите точность решения задачи, вычислив разницу между реальным значением и предсказанным. Вычислите коэффициент корреляции (Пирсона, Спирмена) между реальным значением и предсказанным с учётом p-value. "
   ]
  },
  {
   "cell_type": "markdown",
   "metadata": {},
   "source": [
    "#### Классификаторы:\n",
    "#### *1 – линейная регрессия без использования регуляризаторов;\n",
    "#### *2 – линейная регрессия, LASSO регуляризатор;"
   ]
  },
  {
   "cell_type": "code",
   "execution_count": 85,
   "metadata": {},
   "outputs": [
    {
     "data": {
      "text/plain": [
       "Index(['Date', 'Time', 'CO(GT)', 'PT08.S1(CO)', 'NMHC(GT)', 'C6H6(GT)',\n",
       "       'PT08.S2(NMHC)', 'NOx(GT)', 'PT08.S3(NOx)', 'NO2(GT)', 'PT08.S4(NO2)',\n",
       "       'PT08.S5(O3)', 'T', 'RH', 'AH'],\n",
       "      dtype='object')"
      ]
     },
     "execution_count": 85,
     "metadata": {},
     "output_type": "execute_result"
    }
   ],
   "source": [
    "###\n",
    "from sklearn.neighbors import RadiusNeighborsClassifier\n",
    "from sklearn.neighbors import KNeighborsClassifier\n",
    "from sklearn.linear_model import Perceptron\n",
    "from sklearn.model_selection import cross_val_score\n",
    "from sklearn.model_selection import cross_validate\n",
    "from sklearn.model_selection import GridSearchCV\n",
    "from sklearn.model_selection import train_test_split\n",
    "from sklearn.multiclass import OneVsRestClassifier\n",
    "from  sklearn import linear_model\n",
    "from sklearn.svm import LinearSVC\n",
    "###\n",
    "from sklearn.metrics import accuracy_score, precision_recall_curve, average_precision_score, roc_curve, auc\n",
    "###\n",
    "df.columns\n"
   ]
  },
  {
   "cell_type": "code",
   "execution_count": 84,
   "metadata": {},
   "outputs": [],
   "source": [
    "X_data, Y_data = df.drop(columns=\"CO(GT)\", axis=1).values, df[\"CO(GT)\"].values\n",
    "X_train, X_test, y_train, y_test = train_test_split(X_data, Y_data, test_size=.3)"
   ]
  },
  {
   "cell_type": "markdown",
   "metadata": {},
   "source": [
    "### *1 – линейная регрессия без использования регуляризаторов"
   ]
  },
  {
   "cell_type": "code",
   "execution_count": 98,
   "metadata": {},
   "outputs": [],
   "source": [
    "reg = linear_model.LinearRegression()\n",
    "reg.fit(X_train,y_train)\n",
    "pred_reg = reg.predict(X_test)\n"
   ]
  },
  {
   "cell_type": "code",
   "execution_count": 101,
   "metadata": {},
   "outputs": [
    {
     "name": "stdout",
     "output_type": "stream",
     "text": [
      "Pearson correlation:  0.895816919582646\n",
      "Spearmen correlation:  0.8684295235341171\n",
      "P_VALUSE_P : 0.0\n",
      "P_VALUSE_S : 0.0\n"
     ]
    }
   ],
   "source": [
    "from scipy.stats import pearsonr, spearmanr\n",
    "P, p_value_P = pearsonr(pred_reg, y_test)\n",
    "print(\"Pearson correlation: \", P)\n",
    "S, p_value_S = spearmanr(pred_reg, y_test)\n",
    "print(\"Spearmen correlation: \", S)\n",
    "print(\"P_VALUSE_P :\", p_value_P)\n",
    "print(\"P_VALUSE_S :\", p_value_S)"
   ]
  },
  {
   "cell_type": "markdown",
   "metadata": {},
   "source": [
    "### *2 – линейная регрессия, LASSO регуляризатор;"
   ]
  },
  {
   "cell_type": "code",
   "execution_count": 121,
   "metadata": {},
   "outputs": [],
   "source": [
    "from sklearn.linear_model import Lasso"
   ]
  },
  {
   "cell_type": "code",
   "execution_count": 118,
   "metadata": {},
   "outputs": [
    {
     "name": "stdout",
     "output_type": "stream",
     "text": [
      "best alpha: 0.24000000000000005\n"
     ]
    }
   ],
   "source": [
    "params = {'alpha': np.arange(0.2, 0.5, 0.01)}\n",
    "lasso_grid = GridSearchCV(lasso, params)\n",
    "lasso_grid.fit(X_train, y_train)\n",
    "best_alpha = lasso_grid.best_estimator_.alpha\n",
    "print('best alpha:', best_alpha)"
   ]
  },
  {
   "cell_type": "code",
   "execution_count": 119,
   "metadata": {},
   "outputs": [],
   "source": [
    "lasso = Lasso(alpha=best_alpha)\n",
    "lasso.fit(X_train,y_train)\n",
    "pred_reg = lasso.predict(X_test)"
   ]
  },
  {
   "cell_type": "code",
   "execution_count": 123,
   "metadata": {},
   "outputs": [
    {
     "name": "stdout",
     "output_type": "stream",
     "text": [
      "Pearson correlation:  0.8958101412154589\n",
      "Spearmen correlation:  0.868439407731306\n",
      "P_VALUSE_P : 0.0\n",
      "P_VALUSE_S : 0.0\n"
     ]
    }
   ],
   "source": [
    "P, p_value_P = pearsonr(pred_reg, y_test)\n",
    "print(\"Pearson correlation: \", P)\n",
    "S, p_value_S = spearmanr(pred_reg, y_test)\n",
    "print(\"Spearmen correlation: \", S)\n",
    "print(\"P_VALUSE_P :\", p_value_P)\n",
    "print(\"P_VALUSE_S :\", p_value_S)\n"
   ]
  },
  {
   "cell_type": "code",
   "execution_count": null,
   "metadata": {},
   "outputs": [],
   "source": []
  }
 ],
 "metadata": {
  "kernelspec": {
   "display_name": "Python 3",
   "language": "python",
   "name": "python3"
  },
  "language_info": {
   "codemirror_mode": {
    "name": "ipython",
    "version": 3
   },
   "file_extension": ".py",
   "mimetype": "text/x-python",
   "name": "python",
   "nbconvert_exporter": "python",
   "pygments_lexer": "ipython3",
   "version": "3.7.3"
  }
 },
 "nbformat": 4,
 "nbformat_minor": 4
}
