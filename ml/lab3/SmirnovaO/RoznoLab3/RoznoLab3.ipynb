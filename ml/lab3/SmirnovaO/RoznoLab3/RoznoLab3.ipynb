{
 "cells": [
  {
   "cell_type": "markdown",
   "metadata": {},
   "source": [
    "# Лабораторная работа №3\n",
    "# Розно Константин 18-ИВТ-2 Вариант 19"
   ]
  },
  {
   "cell_type": "markdown",
   "metadata": {},
   "source": [
    "### Цель лабораторной работы – получение навыков работы с методами регрессии\n",
    "\n"
   ]
  },
  {
   "cell_type": "markdown",
   "metadata": {},
   "source": [
    "### 1. Изучить набор данных. Создать описание набора данных на русском языке. Описать признаки, используемые в наборе данных (включить полученные описания в отчёт).\n",
    "### 2. Удалите дубликаты строк в наборе данных; приведите размер набора данных до и после данной операции;\n",
    "### 3. Выполните масштабирование количественных признаков; Постройте диаграммы BoxPlot для признаков до и после масштабирования. Выберите способ масштабирования (например, нормализацию или стандартизацию);\n",
    "### 4. Выполните замену категориальных признаков; выберите и обоснуйте способ замены;\n",
    "### 5. Оцените корреляцию между признаков и удалите те признаки, которые коррелируют с наибольшим числом других;\n",
    "### 6. Заполните пропущенные значения в данных;\n",
    "### 7. Решите поставленную задачу регрессии в соответствии с заданием. При подборе параметров метода принятия решения (метода регрессии) используйте перекрёстную проверку (изучите возможные для изменения параметры метода регрессии).  Вычислите точность решения задачи, вычислив разницу между реальным значением и предсказанным. Вычислите коэффициент корреляции (Пирсона, Спирмена) между реальным значением и предсказанным с учётом p-value. \n",
    "\n",
    "Набор классификаторов:\n",
    "1 – линейная регрессия без использования регуляризаторов;\n",
    "2 – линейная регрессия, LASSO регуляризатор;\n"
   ]
  },
  {
   "cell_type": "code",
   "execution_count": 30,
   "metadata": {},
   "outputs": [],
   "source": [
    "import matplotlib.pyplot as plt\n",
    "import numpy as np\n",
    "import pandas as pd\n",
    "import seaborn as sns\n",
    "from scipy.stats import pearsonr, spearmanr\n",
    "from sklearn.model_selection import GridSearchCV\n",
    "from sklearn.model_selection import (train_test_split)\n",
    "from sklearn.preprocessing import MinMaxScaler\n",
    "from sklearn.linear_model import Lasso\n",
    "from  sklearn import linear_model\n",
    "%matplotlib inline\n",
    "import warnings"
   ]
  },
  {
   "cell_type": "code",
   "execution_count": 31,
   "metadata": {},
   "outputs": [],
   "source": [
    "df = pd.read_csv(\"airfoil_self_noise.dat.txt\",sep=\"\\t\")"
   ]
  },
  {
   "cell_type": "code",
   "execution_count": 32,
   "metadata": {},
   "outputs": [
    {
     "data": {
      "text/html": [
       "<div>\n",
       "<style scoped>\n",
       "    .dataframe tbody tr th:only-of-type {\n",
       "        vertical-align: middle;\n",
       "    }\n",
       "\n",
       "    .dataframe tbody tr th {\n",
       "        vertical-align: top;\n",
       "    }\n",
       "\n",
       "    .dataframe thead th {\n",
       "        text-align: right;\n",
       "    }\n",
       "</style>\n",
       "<table border=\"1\" class=\"dataframe\">\n",
       "  <thead>\n",
       "    <tr style=\"text-align: right;\">\n",
       "      <th></th>\n",
       "      <th>freq</th>\n",
       "      <th>ang</th>\n",
       "      <th>chord</th>\n",
       "      <th>Velocity</th>\n",
       "      <th>Ssdt</th>\n",
       "      <th>PresLvl</th>\n",
       "    </tr>\n",
       "  </thead>\n",
       "  <tbody>\n",
       "    <tr>\n",
       "      <th>0</th>\n",
       "      <td>800</td>\n",
       "      <td>0.0</td>\n",
       "      <td>0.3048</td>\n",
       "      <td>71.3</td>\n",
       "      <td>0.002663</td>\n",
       "      <td>126.201</td>\n",
       "    </tr>\n",
       "    <tr>\n",
       "      <th>1</th>\n",
       "      <td>1000</td>\n",
       "      <td>0.0</td>\n",
       "      <td>0.3048</td>\n",
       "      <td>71.3</td>\n",
       "      <td>0.002663</td>\n",
       "      <td>125.201</td>\n",
       "    </tr>\n",
       "    <tr>\n",
       "      <th>2</th>\n",
       "      <td>1250</td>\n",
       "      <td>0.0</td>\n",
       "      <td>0.3048</td>\n",
       "      <td>71.3</td>\n",
       "      <td>0.002663</td>\n",
       "      <td>125.951</td>\n",
       "    </tr>\n",
       "    <tr>\n",
       "      <th>3</th>\n",
       "      <td>1600</td>\n",
       "      <td>0.0</td>\n",
       "      <td>0.3048</td>\n",
       "      <td>71.3</td>\n",
       "      <td>0.002663</td>\n",
       "      <td>127.591</td>\n",
       "    </tr>\n",
       "    <tr>\n",
       "      <th>4</th>\n",
       "      <td>2000</td>\n",
       "      <td>0.0</td>\n",
       "      <td>0.3048</td>\n",
       "      <td>71.3</td>\n",
       "      <td>0.002663</td>\n",
       "      <td>127.461</td>\n",
       "    </tr>\n",
       "  </tbody>\n",
       "</table>\n",
       "</div>"
      ],
      "text/plain": [
       "   freq  ang   chord  Velocity      Ssdt  PresLvl\n",
       "0   800  0.0  0.3048      71.3  0.002663  126.201\n",
       "1  1000  0.0  0.3048      71.3  0.002663  125.201\n",
       "2  1250  0.0  0.3048      71.3  0.002663  125.951\n",
       "3  1600  0.0  0.3048      71.3  0.002663  127.591\n",
       "4  2000  0.0  0.3048      71.3  0.002663  127.461"
      ]
     },
     "execution_count": 32,
     "metadata": {},
     "output_type": "execute_result"
    }
   ],
   "source": [
    "df.head()"
   ]
  },
  {
   "cell_type": "code",
   "execution_count": 33,
   "metadata": {},
   "outputs": [
    {
     "data": {
      "text/plain": [
       "Index(['freq', 'ang', 'chord', 'Velocity', 'Ssdt', 'PresLvl'], dtype='object')"
      ]
     },
     "execution_count": 33,
     "metadata": {},
     "output_type": "execute_result"
    }
   ],
   "source": [
    "df.columns"
   ]
  },
  {
   "cell_type": "markdown",
   "metadata": {},
   "source": [
    "## 1"
   ]
  },
  {
   "cell_type": "markdown",
   "metadata": {},
   "source": [
    "##### 1. freq - Frequency - частота (в герцах)\n",
    "##### 2. ang - Angle of attack - Угол удара (в градусах)\n",
    "##### 3. chord - Chord length - Длина хорды (в метрах)\n",
    "##### 4. Velocity - Free-stream velocity - Скорость свободного потока (в м/с)\n",
    "##### 5. Ssdt - Suction side displacement thickness - Толщина смещения на стороне всасывания (в метрах)\n",
    "##### 6. PresLvl -  Scaled sound pressure level - Машстабированный уровень звукового давления (в децибелах)\n"
   ]
  },
  {
   "cell_type": "code",
   "execution_count": 34,
   "metadata": {},
   "outputs": [
    {
     "data": {
      "text/plain": [
       "(1503, 6)"
      ]
     },
     "execution_count": 34,
     "metadata": {},
     "output_type": "execute_result"
    }
   ],
   "source": [
    "df.shape"
   ]
  },
  {
   "cell_type": "markdown",
   "metadata": {},
   "source": [
    "### 2"
   ]
  },
  {
   "cell_type": "code",
   "execution_count": 35,
   "metadata": {},
   "outputs": [
    {
     "data": {
      "text/plain": [
       "<bound method DataFrame.dropna of       freq   ang   chord  Velocity      Ssdt  PresLvl\n",
       "0      800   0.0  0.3048      71.3  0.002663  126.201\n",
       "1     1000   0.0  0.3048      71.3  0.002663  125.201\n",
       "2     1250   0.0  0.3048      71.3  0.002663  125.951\n",
       "3     1600   0.0  0.3048      71.3  0.002663  127.591\n",
       "4     2000   0.0  0.3048      71.3  0.002663  127.461\n",
       "...    ...   ...     ...       ...       ...      ...\n",
       "1498  2500  15.6  0.1016      39.6  0.052849  110.264\n",
       "1499  3150  15.6  0.1016      39.6  0.052849  109.254\n",
       "1500  4000  15.6  0.1016      39.6  0.052849  106.604\n",
       "1501  5000  15.6  0.1016      39.6  0.052849  106.224\n",
       "1502  6300  15.6  0.1016      39.6  0.052849  104.204\n",
       "\n",
       "[1503 rows x 6 columns]>"
      ]
     },
     "execution_count": 35,
     "metadata": {},
     "output_type": "execute_result"
    }
   ],
   "source": [
    "df.drop_duplicates(keep=\"first\", inplace=True)\n",
    "df.dropna"
   ]
  },
  {
   "cell_type": "code",
   "execution_count": 36,
   "metadata": {},
   "outputs": [
    {
     "data": {
      "text/plain": [
       "(1503, 6)"
      ]
     },
     "execution_count": 36,
     "metadata": {},
     "output_type": "execute_result"
    }
   ],
   "source": [
    "df.shape"
   ]
  },
  {
   "cell_type": "markdown",
   "metadata": {},
   "source": [
    "### 3"
   ]
  },
  {
   "cell_type": "code",
   "execution_count": 37,
   "metadata": {},
   "outputs": [
    {
     "name": "stdout",
     "output_type": "stream",
     "text": [
      "Числовые признаки: ['freq', 'ang', 'chord', 'Velocity', 'Ssdt', 'PresLvl']\n"
     ]
    }
   ],
   "source": [
    "numerical_columns   = ['freq', 'ang', 'chord', \n",
    "                       'Velocity', 'Ssdt', 'PresLvl']\n",
    "print (f\"Числовые признаки: {numerical_columns}\")"
   ]
  },
  {
   "cell_type": "code",
   "execution_count": 38,
   "metadata": {},
   "outputs": [
    {
     "data": {
      "image/png": "[encoded data removed]",
      "text/plain": [
       "<Figure size 432x288 with 1 Axes>"
      ]
     },
     "metadata": {
      "needs_background": "light"
     },
     "output_type": "display_data"
    }
   ],
   "source": [
    "sns.boxplot(data=df[numerical_columns])\n",
    "plt.show()"
   ]
  },
  {
   "cell_type": "code",
   "execution_count": 39,
   "metadata": {},
   "outputs": [
    {
     "data": {
      "image/png": "[encoded data removed]",
      "text/plain": [
       "<Figure size 432x288 with 1 Axes>"
      ]
     },
     "metadata": {
      "needs_background": "light"
     },
     "output_type": "display_data"
    }
   ],
   "source": [
    "df[numerical_columns] = MinMaxScaler().fit_transform(df[numerical_columns].values.astype(float))\n",
    "sns.boxplot(data = df[numerical_columns])\n",
    "plt.show()"
   ]
  },
  {
   "cell_type": "markdown",
   "metadata": {},
   "source": [
    "### 4"
   ]
  },
  {
   "cell_type": "code",
   "execution_count": 40,
   "metadata": {},
   "outputs": [
    {
     "data": {
      "text/plain": [
       "freq          21\n",
       "ang           27\n",
       "chord          6\n",
       "Velocity       4\n",
       "Ssdt         105\n",
       "PresLvl     1456\n",
       "dtype: int64"
      ]
     },
     "execution_count": 40,
     "metadata": {},
     "output_type": "execute_result"
    }
   ],
   "source": [
    "df.nunique()"
   ]
  },
  {
   "cell_type": "markdown",
   "metadata": {},
   "source": [
    "#### Категориальных признаков нет"
   ]
  },
  {
   "cell_type": "code",
   "execution_count": 41,
   "metadata": {},
   "outputs": [
    {
     "data": {
      "text/plain": [
       "<matplotlib.axes._subplots.AxesSubplot at 0x19c586634f0>"
      ]
     },
     "execution_count": 41,
     "metadata": {},
     "output_type": "execute_result"
    },
    {
     "data": {
      "image/png": "[encoded data removed]",
      "text/plain": [
       "<Figure size 432x288 with 2 Axes>"
      ]
     },
     "metadata": {
      "needs_background": "light"
     },
     "output_type": "display_data"
    }
   ],
   "source": [
    "sns.heatmap(df.corr())"
   ]
  },
  {
   "cell_type": "markdown",
   "metadata": {},
   "source": [
    "### 6"
   ]
  },
  {
   "cell_type": "code",
   "execution_count": 42,
   "metadata": {},
   "outputs": [
    {
     "name": "stdout",
     "output_type": "stream",
     "text": [
      "<class 'pandas.core.frame.DataFrame'>\n",
      "Int64Index: 1503 entries, 0 to 1502\n",
      "Data columns (total 6 columns):\n",
      " #   Column    Non-Null Count  Dtype  \n",
      "---  ------    --------------  -----  \n",
      " 0   freq      1503 non-null   float64\n",
      " 1   ang       1503 non-null   float64\n",
      " 2   chord     1503 non-null   float64\n",
      " 3   Velocity  1503 non-null   float64\n",
      " 4   Ssdt      1503 non-null   float64\n",
      " 5   PresLvl   1503 non-null   float64\n",
      "dtypes: float64(6)\n",
      "memory usage: 82.2 KB\n"
     ]
    }
   ],
   "source": [
    "df.info()"
   ]
  },
  {
   "cell_type": "markdown",
   "metadata": {},
   "source": [
    "### 7 "
   ]
  },
  {
   "cell_type": "code",
   "execution_count": 43,
   "metadata": {},
   "outputs": [
    {
     "name": "stdout",
     "output_type": "stream",
     "text": [
      "61     -0.024157\n",
      "1025   -0.228608\n",
      "1333    0.048023\n",
      "817     0.042195\n",
      "725     0.236355\n",
      "569     0.074047\n",
      "1019    0.181611\n",
      "1023   -0.126704\n",
      "256    -0.064481\n",
      "1079   -0.088629\n",
      "1401    0.006241\n",
      "28     -0.287186\n",
      "712     0.044564\n",
      "981    -0.471656\n",
      "196    -0.067363\n",
      "Name: freq, dtype: float64\n"
     ]
    }
   ],
   "source": [
    "# Линейная регрессия без использования регуляризаторов\n",
    "x, y = df.drop(['freq'], axis=1), df['freq']\n",
    "x_train, x_test, y_train, y_test = train_test_split(x, y, test_size = 0.3, random_state = 123)\n",
    "\n",
    "reg = linear_model.LinearRegression()\n",
    "reg.fit(x_train,y_train)\n",
    "pred_reg = reg.predict(x_test)\n",
    "print(pred_reg[:15] - y_test[:15])"
   ]
  },
  {
   "cell_type": "code",
   "execution_count": 44,
   "metadata": {},
   "outputs": [
    {
     "name": "stdout",
     "output_type": "stream",
     "text": [
      "Pearson correlation: 0.6848137930947014 p_value: 1.0669886433688039e-63\n",
      "Spearmen correlation: 0.6841072472816374 p_value: 1.6070334978842746e-63\n"
     ]
    }
   ],
   "source": [
    "P, p_value_P = pearsonr(pred_reg, y_test)\n",
    "S, p_value_S = spearmanr(pred_reg, y_test)\n",
    "print(f\"Pearson correlation: {P} p_value: {p_value_P}\\nSpearmen correlation: {S} p_value: {p_value_S}\")"
   ]
  },
  {
   "cell_type": "code",
   "execution_count": 45,
   "metadata": {},
   "outputs": [
    {
     "name": "stdout",
     "output_type": "stream",
     "text": [
      "61     -0.055247\n",
      "1025   -0.257268\n",
      "1333    0.106369\n",
      "817    -0.055247\n",
      "725     0.106369\n",
      "569     0.126571\n",
      "1019    0.045763\n",
      "1023   -0.105752\n",
      "256    -0.257268\n",
      "1079   -0.105752\n",
      "1401    0.083642\n",
      "28     -0.484540\n",
      "712     0.126571\n",
      "981    -0.661308\n",
      "196    -0.257268\n",
      "Name: freq, dtype: float64\n"
     ]
    }
   ],
   "source": [
    "# Линейная регрессия, LASSO регуляризатор\n",
    "x, y = df.drop(['freq'], axis=1), df['freq']\n",
    "x_train, x_test, y_train, y_test = train_test_split(x, y, test_size = 0.3, random_state = 123)\n",
    "\n",
    "lasso = Lasso(alpha=0.1)\n",
    "lasso.fit(x_train,y_train)\n",
    "pred_reg = lasso.predict(x_test)\n",
    "print(pred_reg[:15] - y_test[:15])"
   ]
  },
  {
   "cell_type": "code",
   "execution_count": 47,
   "metadata": {
    "scrolled": false
   },
   "outputs": [
    {
     "name": "stdout",
     "output_type": "stream",
     "text": [
      "Pearson correlation: 0.6849317106558622 p_value: 9.963824613686225e-64\n",
      "Spearmen correlation: 0.6838715845963388 p_value: 1.8417815511354629e-63\n"
     ]
    }
   ],
   "source": [
    "P, p_value_P = pearsonr(pred_reg, y_test)\n",
    "S, p_value_S = spearmanr(pred_reg, y_test)\n",
    "print(f\"Pearson correlation: {P} p_value: {p_value_P}\\nSpearmen correlation: {S} p_value: {p_value_S}\")"
   ]
  }
 ],
 "metadata": {
  "kernelspec": {
   "display_name": "Python 3",
   "language": "python",
   "name": "python3"
  },
  "language_info": {
   "codemirror_mode": {
    "name": "ipython",
    "version": 3
   },
   "file_extension": ".py",
   "mimetype": "text/x-python",
   "name": "python",
   "nbconvert_exporter": "python",
   "pygments_lexer": "ipython3",
   "version": "3.8.2"
  }
 },
 "nbformat": 4,
 "nbformat_minor": 4
}
