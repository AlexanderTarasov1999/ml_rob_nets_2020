{
 "cells": [
  {
   "cell_type": "markdown",
   "metadata": {},
   "source": [
    "# Грачев Дмитрий\n",
    "# 18-ИВТ-2\n",
    "\n",
    "# Вариант 6\n",
    "# Задание:\n",
    "1.\tИзучить набор данных. Создать описание набора данных на русском языке. Описать признаки, используемые в наборе данных (включить полученные описания в отчёт).\n",
    "2.\tУдалите дубликаты строк в наборе данных; приведите размер набора данных до и после данной операции;\n",
    "3.\tВыполните масштабирование количественных признаков; Постройте диаграммы BoxPlot для признаков до и после масштабирования. Выберите способ масштабирования (например, нормализацию или стандартизацию);\n",
    "4.\tВыполните замену категориальных признаков; выберите и обоснуйте способ замены;\n",
    "5.\tОцените корреляцию между признаков и удалите те признаки, которые коррелируют с наибольшим числом других;\n",
    "6.\tЗаполните пропущенные значения в данных;\n",
    "7.\tРешите поставленную задачу регрессии в соответствии с заданием. При подборе параметров метода принятия решения (метода регрессии) используйте перекрёстную проверку (изучите возможные для изменения параметры метода регрессии).  Вычислите точность решения задачи, вычислив разницу между реальным значением и предсказанным. Вычислите коэффициент корреляции (Пирсона, Спирмена) между реальным значением и предсказанным с учётом p-value. \n",
    "\n",
    "\n",
    "###### Набор данных: 3_air_quality\n",
    "###### Классификаторы:\n",
    "1. Линейная регрессия без использования регуляризаторов\n",
    "2. Линейная регрессия, lasso-регуляризатор\n",
    "3. CART"
   ]
  },
  {
   "cell_type": "markdown",
   "metadata": {},
   "source": [
    "# 1\n",
    "###### Опишем признаки\n",
    "Date          -  Дата (ДД/ММ/ГГГГ)  \n",
    "Time          -  Время (ЧЧ.ММ.СС)  \n",
    "CO(GT)        -  Истинная среднечасовая концентрация СО в мг/м^3 (контрольный анализатор)  \n",
    "PT08.S1(CO)   -  PT08.S1 (оксид олова) среднечасовая чувствительность датчика (номинально нацеленная на СО)  \n",
    "NMHC(GT)      -  Истинная среднечасовая концентрация неметановых углеводородов в мкг/м^3 (эталонный анализатор)  \n",
    "C6H6(GT)      -  Истинная среднечасовая концентрация бензола в мкг/м^3 (контрольный анализатор)  \n",
    "PT08.S2(NMHC) -  PT08.S2 (диоксид титана) среднечасовой отклик сенсора (номинально для NMHC)  \n",
    "NOx(GT)       -  Истинная среднечасовая концентрация NOx в миллионных долях (контрольный анализатор)  \n",
    "PT08.S3(NOx)  -  PT08.S3 (оксид вольфрама) среднечасовой отклик датчика (номинально на NOx)  \n",
    "NO2(GT)       -  Истинная среднечасовая концентрация NO2 в мкг/м^3 (контрольный анализатор)  \n",
    "PT08.S4(NO2)  -  PT08.S4 (оксид вольфрама) среднечасовой отклик датчика (номинально на NO2)  \n",
    "PT08.S5(O3)   -  PT08.S5 (оксид индия) среднечасовая чувствительность датчика (номинально O3)  \n",
    "T             -  Температура в °С  \n",
    "RH            -  Относительная влажность (%)  \n",
    "AH            -  Абсолютная влажность  "
   ]
  },
  {
   "cell_type": "code",
   "execution_count": 1,
   "metadata": {},
   "outputs": [
    {
     "data": {
      "text/html": [
       "<div>\n",
       "<style scoped>\n",
       "    .dataframe tbody tr th:only-of-type {\n",
       "        vertical-align: middle;\n",
       "    }\n",
       "\n",
       "    .dataframe tbody tr th {\n",
       "        vertical-align: top;\n",
       "    }\n",
       "\n",
       "    .dataframe thead th {\n",
       "        text-align: right;\n",
       "    }\n",
       "</style>\n",
       "<table border=\"1\" class=\"dataframe\">\n",
       "  <thead>\n",
       "    <tr style=\"text-align: right;\">\n",
       "      <th></th>\n",
       "      <th>CO(GT)</th>\n",
       "      <th>PT08.S1(CO)</th>\n",
       "      <th>NMHC(GT)</th>\n",
       "      <th>C6H6(GT)</th>\n",
       "      <th>PT08.S2(NMHC)</th>\n",
       "      <th>NOx(GT)</th>\n",
       "      <th>PT08.S3(NOx)</th>\n",
       "      <th>NO2(GT)</th>\n",
       "      <th>PT08.S4(NO2)</th>\n",
       "      <th>PT08.S5(O3)</th>\n",
       "      <th>T</th>\n",
       "      <th>RH</th>\n",
       "      <th>AH</th>\n",
       "      <th>Unnamed: 15</th>\n",
       "      <th>Unnamed: 16</th>\n",
       "    </tr>\n",
       "    <tr>\n",
       "      <th>Date_Time</th>\n",
       "      <th></th>\n",
       "      <th></th>\n",
       "      <th></th>\n",
       "      <th></th>\n",
       "      <th></th>\n",
       "      <th></th>\n",
       "      <th></th>\n",
       "      <th></th>\n",
       "      <th></th>\n",
       "      <th></th>\n",
       "      <th></th>\n",
       "      <th></th>\n",
       "      <th></th>\n",
       "      <th></th>\n",
       "      <th></th>\n",
       "    </tr>\n",
       "  </thead>\n",
       "  <tbody>\n",
       "    <tr>\n",
       "      <th>10/03/2004 18.00.00</th>\n",
       "      <td>2.6</td>\n",
       "      <td>1360</td>\n",
       "      <td>150</td>\n",
       "      <td>11.9</td>\n",
       "      <td>1046</td>\n",
       "      <td>166</td>\n",
       "      <td>1056</td>\n",
       "      <td>113</td>\n",
       "      <td>1692</td>\n",
       "      <td>1268</td>\n",
       "      <td>13.6</td>\n",
       "      <td>48.9</td>\n",
       "      <td>0.7578</td>\n",
       "      <td>NaN</td>\n",
       "      <td>NaN</td>\n",
       "    </tr>\n",
       "    <tr>\n",
       "      <th>10/03/2004 19.00.00</th>\n",
       "      <td>2.0</td>\n",
       "      <td>1292</td>\n",
       "      <td>112</td>\n",
       "      <td>9.4</td>\n",
       "      <td>955</td>\n",
       "      <td>103</td>\n",
       "      <td>1174</td>\n",
       "      <td>92</td>\n",
       "      <td>1559</td>\n",
       "      <td>972</td>\n",
       "      <td>13.3</td>\n",
       "      <td>47.7</td>\n",
       "      <td>0.7255</td>\n",
       "      <td>NaN</td>\n",
       "      <td>NaN</td>\n",
       "    </tr>\n",
       "    <tr>\n",
       "      <th>10/03/2004 20.00.00</th>\n",
       "      <td>2.2</td>\n",
       "      <td>1402</td>\n",
       "      <td>88</td>\n",
       "      <td>9.0</td>\n",
       "      <td>939</td>\n",
       "      <td>131</td>\n",
       "      <td>1140</td>\n",
       "      <td>114</td>\n",
       "      <td>1555</td>\n",
       "      <td>1074</td>\n",
       "      <td>11.9</td>\n",
       "      <td>54.0</td>\n",
       "      <td>0.7502</td>\n",
       "      <td>NaN</td>\n",
       "      <td>NaN</td>\n",
       "    </tr>\n",
       "    <tr>\n",
       "      <th>10/03/2004 21.00.00</th>\n",
       "      <td>2.2</td>\n",
       "      <td>1376</td>\n",
       "      <td>80</td>\n",
       "      <td>9.2</td>\n",
       "      <td>948</td>\n",
       "      <td>172</td>\n",
       "      <td>1092</td>\n",
       "      <td>122</td>\n",
       "      <td>1584</td>\n",
       "      <td>1203</td>\n",
       "      <td>11.0</td>\n",
       "      <td>60.0</td>\n",
       "      <td>0.7867</td>\n",
       "      <td>NaN</td>\n",
       "      <td>NaN</td>\n",
       "    </tr>\n",
       "    <tr>\n",
       "      <th>10/03/2004 22.00.00</th>\n",
       "      <td>1.6</td>\n",
       "      <td>1272</td>\n",
       "      <td>51</td>\n",
       "      <td>6.5</td>\n",
       "      <td>836</td>\n",
       "      <td>131</td>\n",
       "      <td>1205</td>\n",
       "      <td>116</td>\n",
       "      <td>1490</td>\n",
       "      <td>1110</td>\n",
       "      <td>11.2</td>\n",
       "      <td>59.6</td>\n",
       "      <td>0.7888</td>\n",
       "      <td>NaN</td>\n",
       "      <td>NaN</td>\n",
       "    </tr>\n",
       "    <tr>\n",
       "      <th>...</th>\n",
       "      <td>...</td>\n",
       "      <td>...</td>\n",
       "      <td>...</td>\n",
       "      <td>...</td>\n",
       "      <td>...</td>\n",
       "      <td>...</td>\n",
       "      <td>...</td>\n",
       "      <td>...</td>\n",
       "      <td>...</td>\n",
       "      <td>...</td>\n",
       "      <td>...</td>\n",
       "      <td>...</td>\n",
       "      <td>...</td>\n",
       "      <td>...</td>\n",
       "      <td>...</td>\n",
       "    </tr>\n",
       "    <tr>\n",
       "      <th>04/04/2005 10.00.00</th>\n",
       "      <td>3.1</td>\n",
       "      <td>1314</td>\n",
       "      <td>-200</td>\n",
       "      <td>13.5</td>\n",
       "      <td>1101</td>\n",
       "      <td>472</td>\n",
       "      <td>539</td>\n",
       "      <td>190</td>\n",
       "      <td>1374</td>\n",
       "      <td>1729</td>\n",
       "      <td>21.9</td>\n",
       "      <td>29.3</td>\n",
       "      <td>0.7568</td>\n",
       "      <td>NaN</td>\n",
       "      <td>NaN</td>\n",
       "    </tr>\n",
       "    <tr>\n",
       "      <th>04/04/2005 11.00.00</th>\n",
       "      <td>2.4</td>\n",
       "      <td>1163</td>\n",
       "      <td>-200</td>\n",
       "      <td>11.4</td>\n",
       "      <td>1027</td>\n",
       "      <td>353</td>\n",
       "      <td>604</td>\n",
       "      <td>179</td>\n",
       "      <td>1264</td>\n",
       "      <td>1269</td>\n",
       "      <td>24.3</td>\n",
       "      <td>23.7</td>\n",
       "      <td>0.7119</td>\n",
       "      <td>NaN</td>\n",
       "      <td>NaN</td>\n",
       "    </tr>\n",
       "    <tr>\n",
       "      <th>04/04/2005 12.00.00</th>\n",
       "      <td>2.4</td>\n",
       "      <td>1142</td>\n",
       "      <td>-200</td>\n",
       "      <td>12.4</td>\n",
       "      <td>1063</td>\n",
       "      <td>293</td>\n",
       "      <td>603</td>\n",
       "      <td>175</td>\n",
       "      <td>1241</td>\n",
       "      <td>1092</td>\n",
       "      <td>26.9</td>\n",
       "      <td>18.3</td>\n",
       "      <td>0.6406</td>\n",
       "      <td>NaN</td>\n",
       "      <td>NaN</td>\n",
       "    </tr>\n",
       "    <tr>\n",
       "      <th>04/04/2005 13.00.00</th>\n",
       "      <td>2.1</td>\n",
       "      <td>1003</td>\n",
       "      <td>-200</td>\n",
       "      <td>9.5</td>\n",
       "      <td>961</td>\n",
       "      <td>235</td>\n",
       "      <td>702</td>\n",
       "      <td>156</td>\n",
       "      <td>1041</td>\n",
       "      <td>770</td>\n",
       "      <td>28.3</td>\n",
       "      <td>13.5</td>\n",
       "      <td>0.5139</td>\n",
       "      <td>NaN</td>\n",
       "      <td>NaN</td>\n",
       "    </tr>\n",
       "    <tr>\n",
       "      <th>04/04/2005 14.00.00</th>\n",
       "      <td>2.2</td>\n",
       "      <td>1071</td>\n",
       "      <td>-200</td>\n",
       "      <td>11.9</td>\n",
       "      <td>1047</td>\n",
       "      <td>265</td>\n",
       "      <td>654</td>\n",
       "      <td>168</td>\n",
       "      <td>1129</td>\n",
       "      <td>816</td>\n",
       "      <td>28.5</td>\n",
       "      <td>13.1</td>\n",
       "      <td>0.5028</td>\n",
       "      <td>NaN</td>\n",
       "      <td>NaN</td>\n",
       "    </tr>\n",
       "  </tbody>\n",
       "</table>\n",
       "<p>9357 rows × 15 columns</p>\n",
       "</div>"
      ],
      "text/plain": [
       "                     CO(GT)  PT08.S1(CO)  NMHC(GT)  C6H6(GT)  PT08.S2(NMHC)  \\\n",
       "Date_Time                                                                     \n",
       "10/03/2004 18.00.00     2.6         1360       150      11.9           1046   \n",
       "10/03/2004 19.00.00     2.0         1292       112       9.4            955   \n",
       "10/03/2004 20.00.00     2.2         1402        88       9.0            939   \n",
       "10/03/2004 21.00.00     2.2         1376        80       9.2            948   \n",
       "10/03/2004 22.00.00     1.6         1272        51       6.5            836   \n",
       "...                     ...          ...       ...       ...            ...   \n",
       "04/04/2005 10.00.00     3.1         1314      -200      13.5           1101   \n",
       "04/04/2005 11.00.00     2.4         1163      -200      11.4           1027   \n",
       "04/04/2005 12.00.00     2.4         1142      -200      12.4           1063   \n",
       "04/04/2005 13.00.00     2.1         1003      -200       9.5            961   \n",
       "04/04/2005 14.00.00     2.2         1071      -200      11.9           1047   \n",
       "\n",
       "                     NOx(GT)  PT08.S3(NOx)  NO2(GT)  PT08.S4(NO2)  \\\n",
       "Date_Time                                                           \n",
       "10/03/2004 18.00.00      166          1056      113          1692   \n",
       "10/03/2004 19.00.00      103          1174       92          1559   \n",
       "10/03/2004 20.00.00      131          1140      114          1555   \n",
       "10/03/2004 21.00.00      172          1092      122          1584   \n",
       "10/03/2004 22.00.00      131          1205      116          1490   \n",
       "...                      ...           ...      ...           ...   \n",
       "04/04/2005 10.00.00      472           539      190          1374   \n",
       "04/04/2005 11.00.00      353           604      179          1264   \n",
       "04/04/2005 12.00.00      293           603      175          1241   \n",
       "04/04/2005 13.00.00      235           702      156          1041   \n",
       "04/04/2005 14.00.00      265           654      168          1129   \n",
       "\n",
       "                     PT08.S5(O3)     T    RH      AH  Unnamed: 15  Unnamed: 16  \n",
       "Date_Time                                                                       \n",
       "10/03/2004 18.00.00         1268  13.6  48.9  0.7578          NaN          NaN  \n",
       "10/03/2004 19.00.00          972  13.3  47.7  0.7255          NaN          NaN  \n",
       "10/03/2004 20.00.00         1074  11.9  54.0  0.7502          NaN          NaN  \n",
       "10/03/2004 21.00.00         1203  11.0  60.0  0.7867          NaN          NaN  \n",
       "10/03/2004 22.00.00         1110  11.2  59.6  0.7888          NaN          NaN  \n",
       "...                          ...   ...   ...     ...          ...          ...  \n",
       "04/04/2005 10.00.00         1729  21.9  29.3  0.7568          NaN          NaN  \n",
       "04/04/2005 11.00.00         1269  24.3  23.7  0.7119          NaN          NaN  \n",
       "04/04/2005 12.00.00         1092  26.9  18.3  0.6406          NaN          NaN  \n",
       "04/04/2005 13.00.00          770  28.3  13.5  0.5139          NaN          NaN  \n",
       "04/04/2005 14.00.00          816  28.5  13.1  0.5028          NaN          NaN  \n",
       "\n",
       "[9357 rows x 15 columns]"
      ]
     },
     "execution_count": 1,
     "metadata": {},
     "output_type": "execute_result"
    }
   ],
   "source": [
    "import warnings\n",
    "\n",
    "import matplotlib.pyplot as plt\n",
    "import numpy as np\n",
    "import pandas as pd\n",
    "import seaborn as sns\n",
    "from sklearn.calibration import CalibratedClassifierCV\n",
    "from sklearn.tree import DecisionTreeRegressor\n",
    "from sklearn.metrics import accuracy_score, precision_recall_curve, average_precision_score, roc_curve, auc\n",
    "from sklearn.model_selection import GridSearchCV\n",
    "from sklearn.model_selection import train_test_split\n",
    "from sklearn.linear_model import LinearRegression\n",
    "from sklearn.linear_model import Lasso\n",
    "from sklearn.preprocessing import OrdinalEncoder\n",
    "from sklearn.preprocessing import LabelEncoder\n",
    "from sklearn.preprocessing import StandardScaler\n",
    "from scipy.stats import pearsonr, spearmanr\n",
    "%matplotlib inline\n",
    "warnings.simplefilter('ignore')\n",
    "label_encoder = LabelEncoder()\n",
    "scaler = StandardScaler()\n",
    "# Залез в файл и удалил лишние строки. При чтении объединил дату и время и сделал эту колонку индексом:\n",
    "train_data = pd.read_csv('AirQualityUCI.csv', sep=';', decimal=',', parse_dates=[['Date', 'Time']], dayfirst=True, index_col='Date_Time')\n",
    "train_data"
   ]
  },
  {
   "cell_type": "code",
   "execution_count": 2,
   "metadata": {},
   "outputs": [
    {
     "data": {
      "text/html": [
       "<div>\n",
       "<style scoped>\n",
       "    .dataframe tbody tr th:only-of-type {\n",
       "        vertical-align: middle;\n",
       "    }\n",
       "\n",
       "    .dataframe tbody tr th {\n",
       "        vertical-align: top;\n",
       "    }\n",
       "\n",
       "    .dataframe thead th {\n",
       "        text-align: right;\n",
       "    }\n",
       "</style>\n",
       "<table border=\"1\" class=\"dataframe\">\n",
       "  <thead>\n",
       "    <tr style=\"text-align: right;\">\n",
       "      <th></th>\n",
       "      <th>CO(GT)</th>\n",
       "      <th>PT08.S1(CO)</th>\n",
       "      <th>NMHC(GT)</th>\n",
       "      <th>C6H6(GT)</th>\n",
       "      <th>PT08.S2(NMHC)</th>\n",
       "      <th>NOx(GT)</th>\n",
       "      <th>PT08.S3(NOx)</th>\n",
       "      <th>NO2(GT)</th>\n",
       "      <th>PT08.S4(NO2)</th>\n",
       "      <th>PT08.S5(O3)</th>\n",
       "      <th>T</th>\n",
       "      <th>RH</th>\n",
       "      <th>AH</th>\n",
       "    </tr>\n",
       "    <tr>\n",
       "      <th>Date_Time</th>\n",
       "      <th></th>\n",
       "      <th></th>\n",
       "      <th></th>\n",
       "      <th></th>\n",
       "      <th></th>\n",
       "      <th></th>\n",
       "      <th></th>\n",
       "      <th></th>\n",
       "      <th></th>\n",
       "      <th></th>\n",
       "      <th></th>\n",
       "      <th></th>\n",
       "      <th></th>\n",
       "    </tr>\n",
       "  </thead>\n",
       "  <tbody>\n",
       "    <tr>\n",
       "      <th>10/03/2004 18.00.00</th>\n",
       "      <td>2.6</td>\n",
       "      <td>1360</td>\n",
       "      <td>150</td>\n",
       "      <td>11.9</td>\n",
       "      <td>1046</td>\n",
       "      <td>166</td>\n",
       "      <td>1056</td>\n",
       "      <td>113</td>\n",
       "      <td>1692</td>\n",
       "      <td>1268</td>\n",
       "      <td>13.6</td>\n",
       "      <td>48.9</td>\n",
       "      <td>0.7578</td>\n",
       "    </tr>\n",
       "    <tr>\n",
       "      <th>10/03/2004 19.00.00</th>\n",
       "      <td>2.0</td>\n",
       "      <td>1292</td>\n",
       "      <td>112</td>\n",
       "      <td>9.4</td>\n",
       "      <td>955</td>\n",
       "      <td>103</td>\n",
       "      <td>1174</td>\n",
       "      <td>92</td>\n",
       "      <td>1559</td>\n",
       "      <td>972</td>\n",
       "      <td>13.3</td>\n",
       "      <td>47.7</td>\n",
       "      <td>0.7255</td>\n",
       "    </tr>\n",
       "    <tr>\n",
       "      <th>10/03/2004 20.00.00</th>\n",
       "      <td>2.2</td>\n",
       "      <td>1402</td>\n",
       "      <td>88</td>\n",
       "      <td>9.0</td>\n",
       "      <td>939</td>\n",
       "      <td>131</td>\n",
       "      <td>1140</td>\n",
       "      <td>114</td>\n",
       "      <td>1555</td>\n",
       "      <td>1074</td>\n",
       "      <td>11.9</td>\n",
       "      <td>54.0</td>\n",
       "      <td>0.7502</td>\n",
       "    </tr>\n",
       "    <tr>\n",
       "      <th>10/03/2004 21.00.00</th>\n",
       "      <td>2.2</td>\n",
       "      <td>1376</td>\n",
       "      <td>80</td>\n",
       "      <td>9.2</td>\n",
       "      <td>948</td>\n",
       "      <td>172</td>\n",
       "      <td>1092</td>\n",
       "      <td>122</td>\n",
       "      <td>1584</td>\n",
       "      <td>1203</td>\n",
       "      <td>11.0</td>\n",
       "      <td>60.0</td>\n",
       "      <td>0.7867</td>\n",
       "    </tr>\n",
       "    <tr>\n",
       "      <th>10/03/2004 22.00.00</th>\n",
       "      <td>1.6</td>\n",
       "      <td>1272</td>\n",
       "      <td>51</td>\n",
       "      <td>6.5</td>\n",
       "      <td>836</td>\n",
       "      <td>131</td>\n",
       "      <td>1205</td>\n",
       "      <td>116</td>\n",
       "      <td>1490</td>\n",
       "      <td>1110</td>\n",
       "      <td>11.2</td>\n",
       "      <td>59.6</td>\n",
       "      <td>0.7888</td>\n",
       "    </tr>\n",
       "    <tr>\n",
       "      <th>...</th>\n",
       "      <td>...</td>\n",
       "      <td>...</td>\n",
       "      <td>...</td>\n",
       "      <td>...</td>\n",
       "      <td>...</td>\n",
       "      <td>...</td>\n",
       "      <td>...</td>\n",
       "      <td>...</td>\n",
       "      <td>...</td>\n",
       "      <td>...</td>\n",
       "      <td>...</td>\n",
       "      <td>...</td>\n",
       "      <td>...</td>\n",
       "    </tr>\n",
       "    <tr>\n",
       "      <th>04/04/2005 10.00.00</th>\n",
       "      <td>3.1</td>\n",
       "      <td>1314</td>\n",
       "      <td>-200</td>\n",
       "      <td>13.5</td>\n",
       "      <td>1101</td>\n",
       "      <td>472</td>\n",
       "      <td>539</td>\n",
       "      <td>190</td>\n",
       "      <td>1374</td>\n",
       "      <td>1729</td>\n",
       "      <td>21.9</td>\n",
       "      <td>29.3</td>\n",
       "      <td>0.7568</td>\n",
       "    </tr>\n",
       "    <tr>\n",
       "      <th>04/04/2005 11.00.00</th>\n",
       "      <td>2.4</td>\n",
       "      <td>1163</td>\n",
       "      <td>-200</td>\n",
       "      <td>11.4</td>\n",
       "      <td>1027</td>\n",
       "      <td>353</td>\n",
       "      <td>604</td>\n",
       "      <td>179</td>\n",
       "      <td>1264</td>\n",
       "      <td>1269</td>\n",
       "      <td>24.3</td>\n",
       "      <td>23.7</td>\n",
       "      <td>0.7119</td>\n",
       "    </tr>\n",
       "    <tr>\n",
       "      <th>04/04/2005 12.00.00</th>\n",
       "      <td>2.4</td>\n",
       "      <td>1142</td>\n",
       "      <td>-200</td>\n",
       "      <td>12.4</td>\n",
       "      <td>1063</td>\n",
       "      <td>293</td>\n",
       "      <td>603</td>\n",
       "      <td>175</td>\n",
       "      <td>1241</td>\n",
       "      <td>1092</td>\n",
       "      <td>26.9</td>\n",
       "      <td>18.3</td>\n",
       "      <td>0.6406</td>\n",
       "    </tr>\n",
       "    <tr>\n",
       "      <th>04/04/2005 13.00.00</th>\n",
       "      <td>2.1</td>\n",
       "      <td>1003</td>\n",
       "      <td>-200</td>\n",
       "      <td>9.5</td>\n",
       "      <td>961</td>\n",
       "      <td>235</td>\n",
       "      <td>702</td>\n",
       "      <td>156</td>\n",
       "      <td>1041</td>\n",
       "      <td>770</td>\n",
       "      <td>28.3</td>\n",
       "      <td>13.5</td>\n",
       "      <td>0.5139</td>\n",
       "    </tr>\n",
       "    <tr>\n",
       "      <th>04/04/2005 14.00.00</th>\n",
       "      <td>2.2</td>\n",
       "      <td>1071</td>\n",
       "      <td>-200</td>\n",
       "      <td>11.9</td>\n",
       "      <td>1047</td>\n",
       "      <td>265</td>\n",
       "      <td>654</td>\n",
       "      <td>168</td>\n",
       "      <td>1129</td>\n",
       "      <td>816</td>\n",
       "      <td>28.5</td>\n",
       "      <td>13.1</td>\n",
       "      <td>0.5028</td>\n",
       "    </tr>\n",
       "  </tbody>\n",
       "</table>\n",
       "<p>9357 rows × 13 columns</p>\n",
       "</div>"
      ],
      "text/plain": [
       "                     CO(GT)  PT08.S1(CO)  NMHC(GT)  C6H6(GT)  PT08.S2(NMHC)  \\\n",
       "Date_Time                                                                     \n",
       "10/03/2004 18.00.00     2.6         1360       150      11.9           1046   \n",
       "10/03/2004 19.00.00     2.0         1292       112       9.4            955   \n",
       "10/03/2004 20.00.00     2.2         1402        88       9.0            939   \n",
       "10/03/2004 21.00.00     2.2         1376        80       9.2            948   \n",
       "10/03/2004 22.00.00     1.6         1272        51       6.5            836   \n",
       "...                     ...          ...       ...       ...            ...   \n",
       "04/04/2005 10.00.00     3.1         1314      -200      13.5           1101   \n",
       "04/04/2005 11.00.00     2.4         1163      -200      11.4           1027   \n",
       "04/04/2005 12.00.00     2.4         1142      -200      12.4           1063   \n",
       "04/04/2005 13.00.00     2.1         1003      -200       9.5            961   \n",
       "04/04/2005 14.00.00     2.2         1071      -200      11.9           1047   \n",
       "\n",
       "                     NOx(GT)  PT08.S3(NOx)  NO2(GT)  PT08.S4(NO2)  \\\n",
       "Date_Time                                                           \n",
       "10/03/2004 18.00.00      166          1056      113          1692   \n",
       "10/03/2004 19.00.00      103          1174       92          1559   \n",
       "10/03/2004 20.00.00      131          1140      114          1555   \n",
       "10/03/2004 21.00.00      172          1092      122          1584   \n",
       "10/03/2004 22.00.00      131          1205      116          1490   \n",
       "...                      ...           ...      ...           ...   \n",
       "04/04/2005 10.00.00      472           539      190          1374   \n",
       "04/04/2005 11.00.00      353           604      179          1264   \n",
       "04/04/2005 12.00.00      293           603      175          1241   \n",
       "04/04/2005 13.00.00      235           702      156          1041   \n",
       "04/04/2005 14.00.00      265           654      168          1129   \n",
       "\n",
       "                     PT08.S5(O3)     T    RH      AH  \n",
       "Date_Time                                             \n",
       "10/03/2004 18.00.00         1268  13.6  48.9  0.7578  \n",
       "10/03/2004 19.00.00          972  13.3  47.7  0.7255  \n",
       "10/03/2004 20.00.00         1074  11.9  54.0  0.7502  \n",
       "10/03/2004 21.00.00         1203  11.0  60.0  0.7867  \n",
       "10/03/2004 22.00.00         1110  11.2  59.6  0.7888  \n",
       "...                          ...   ...   ...     ...  \n",
       "04/04/2005 10.00.00         1729  21.9  29.3  0.7568  \n",
       "04/04/2005 11.00.00         1269  24.3  23.7  0.7119  \n",
       "04/04/2005 12.00.00         1092  26.9  18.3  0.6406  \n",
       "04/04/2005 13.00.00          770  28.3  13.5  0.5139  \n",
       "04/04/2005 14.00.00          816  28.5  13.1  0.5028  \n",
       "\n",
       "[9357 rows x 13 columns]"
      ]
     },
     "execution_count": 2,
     "metadata": {},
     "output_type": "execute_result"
    }
   ],
   "source": [
    "# Удалим пустые колонки\n",
    "train_data = train_data.drop(columns='Unnamed: 15')\n",
    "train_data = train_data.drop(columns='Unnamed: 16')\n",
    "train_data"
   ]
  },
  {
   "cell_type": "code",
   "execution_count": 3,
   "metadata": {},
   "outputs": [
    {
     "data": {
      "text/plain": [
       "CO(GT)             97\n",
       "PT08.S1(CO)      1042\n",
       "NMHC(GT)          430\n",
       "C6H6(GT)          408\n",
       "PT08.S2(NMHC)    1246\n",
       "NOx(GT)           926\n",
       "PT08.S3(NOx)     1222\n",
       "NO2(GT)           284\n",
       "PT08.S4(NO2)     1604\n",
       "PT08.S5(O3)      1744\n",
       "T                 437\n",
       "RH                754\n",
       "AH               6684\n",
       "dtype: int64"
      ]
     },
     "execution_count": 3,
     "metadata": {},
     "output_type": "execute_result"
    }
   ],
   "source": [
    "train_data.nunique()"
   ]
  },
  {
   "cell_type": "markdown",
   "metadata": {},
   "source": [
    "# 2"
   ]
  },
  {
   "cell_type": "code",
   "execution_count": 4,
   "metadata": {},
   "outputs": [
    {
     "name": "stdout",
     "output_type": "stream",
     "text": [
      "До удаление дубликатов: 9357\n",
      "После удаление дубликатов: 9326\n"
     ]
    }
   ],
   "source": [
    "print('До удаление дубликатов: %d' % len(train_data))\n",
    "train_data.drop_duplicates(keep=\"first\", inplace=True)\n",
    "print('После удаление дубликатов: %d' % len(train_data))"
   ]
  },
  {
   "cell_type": "markdown",
   "metadata": {},
   "source": [
    "# 3\n",
    "\n",
    "Каждый количественный признак приведем к нулевому среднему и единичному среднеквадратичному отклонению"
   ]
  },
  {
   "cell_type": "code",
   "execution_count": 5,
   "metadata": {
    "scrolled": true
   },
   "outputs": [
    {
     "data": {
      "text/html": [
       "<div>\n",
       "<style scoped>\n",
       "    .dataframe tbody tr th:only-of-type {\n",
       "        vertical-align: middle;\n",
       "    }\n",
       "\n",
       "    .dataframe tbody tr th {\n",
       "        vertical-align: top;\n",
       "    }\n",
       "\n",
       "    .dataframe thead th {\n",
       "        text-align: right;\n",
       "    }\n",
       "</style>\n",
       "<table border=\"1\" class=\"dataframe\">\n",
       "  <thead>\n",
       "    <tr style=\"text-align: right;\">\n",
       "      <th></th>\n",
       "      <th>CO(GT)</th>\n",
       "      <th>PT08.S1(CO)</th>\n",
       "      <th>NMHC(GT)</th>\n",
       "      <th>C6H6(GT)</th>\n",
       "      <th>PT08.S2(NMHC)</th>\n",
       "      <th>NOx(GT)</th>\n",
       "      <th>PT08.S3(NOx)</th>\n",
       "      <th>NO2(GT)</th>\n",
       "      <th>PT08.S4(NO2)</th>\n",
       "      <th>PT08.S5(O3)</th>\n",
       "      <th>T</th>\n",
       "      <th>RH</th>\n",
       "      <th>AH</th>\n",
       "    </tr>\n",
       "  </thead>\n",
       "  <tbody>\n",
       "    <tr>\n",
       "      <th>count</th>\n",
       "      <td>9326.000000</td>\n",
       "      <td>9326.000000</td>\n",
       "      <td>9326.000000</td>\n",
       "      <td>9326.000000</td>\n",
       "      <td>9326.000000</td>\n",
       "      <td>9326.000000</td>\n",
       "      <td>9326.000000</td>\n",
       "      <td>9326.00000</td>\n",
       "      <td>9326.000000</td>\n",
       "      <td>9326.000000</td>\n",
       "      <td>9326.000000</td>\n",
       "      <td>9326.000000</td>\n",
       "      <td>9326.000000</td>\n",
       "    </tr>\n",
       "    <tr>\n",
       "      <th>mean</th>\n",
       "      <td>-33.677954</td>\n",
       "      <td>1053.141754</td>\n",
       "      <td>-158.954107</td>\n",
       "      <td>2.536693</td>\n",
       "      <td>898.233755</td>\n",
       "      <td>169.842269</td>\n",
       "      <td>798.297555</td>\n",
       "      <td>59.00697</td>\n",
       "      <td>1396.769783</td>\n",
       "      <td>978.978018</td>\n",
       "      <td>10.475617</td>\n",
       "      <td>40.281439</td>\n",
       "      <td>-6.195524</td>\n",
       "    </tr>\n",
       "    <tr>\n",
       "      <th>std</th>\n",
       "      <td>77.212965</td>\n",
       "      <td>322.409768</td>\n",
       "      <td>140.001322</td>\n",
       "      <td>39.775561</td>\n",
       "      <td>337.024212</td>\n",
       "      <td>256.981118</td>\n",
       "      <td>317.367940</td>\n",
       "      <td>126.27419</td>\n",
       "      <td>458.871357</td>\n",
       "      <td>452.637876</td>\n",
       "      <td>41.544860</td>\n",
       "      <td>49.401569</td>\n",
       "      <td>37.413633</td>\n",
       "    </tr>\n",
       "    <tr>\n",
       "      <th>min</th>\n",
       "      <td>-200.000000</td>\n",
       "      <td>-200.000000</td>\n",
       "      <td>-200.000000</td>\n",
       "      <td>-200.000000</td>\n",
       "      <td>-200.000000</td>\n",
       "      <td>-200.000000</td>\n",
       "      <td>-200.000000</td>\n",
       "      <td>-200.00000</td>\n",
       "      <td>-200.000000</td>\n",
       "      <td>-200.000000</td>\n",
       "      <td>-200.000000</td>\n",
       "      <td>-200.000000</td>\n",
       "      <td>-200.000000</td>\n",
       "    </tr>\n",
       "    <tr>\n",
       "      <th>25%</th>\n",
       "      <td>0.600000</td>\n",
       "      <td>923.000000</td>\n",
       "      <td>-200.000000</td>\n",
       "      <td>4.000000</td>\n",
       "      <td>713.000000</td>\n",
       "      <td>51.000000</td>\n",
       "      <td>639.000000</td>\n",
       "      <td>54.00000</td>\n",
       "      <td>1188.000000</td>\n",
       "      <td>702.000000</td>\n",
       "      <td>11.000000</td>\n",
       "      <td>34.200000</td>\n",
       "      <td>0.695925</td>\n",
       "    </tr>\n",
       "    <tr>\n",
       "      <th>50%</th>\n",
       "      <td>1.500000</td>\n",
       "      <td>1053.000000</td>\n",
       "      <td>-200.000000</td>\n",
       "      <td>7.900000</td>\n",
       "      <td>896.000000</td>\n",
       "      <td>142.000000</td>\n",
       "      <td>795.000000</td>\n",
       "      <td>96.00000</td>\n",
       "      <td>1447.000000</td>\n",
       "      <td>944.000000</td>\n",
       "      <td>17.300000</td>\n",
       "      <td>48.600000</td>\n",
       "      <td>0.979200</td>\n",
       "    </tr>\n",
       "    <tr>\n",
       "      <th>75%</th>\n",
       "      <td>2.600000</td>\n",
       "      <td>1222.000000</td>\n",
       "      <td>-200.000000</td>\n",
       "      <td>13.700000</td>\n",
       "      <td>1106.000000</td>\n",
       "      <td>285.000000</td>\n",
       "      <td>961.000000</td>\n",
       "      <td>133.00000</td>\n",
       "      <td>1662.750000</td>\n",
       "      <td>1257.000000</td>\n",
       "      <td>24.100000</td>\n",
       "      <td>61.900000</td>\n",
       "      <td>1.298625</td>\n",
       "    </tr>\n",
       "    <tr>\n",
       "      <th>max</th>\n",
       "      <td>11.900000</td>\n",
       "      <td>2040.000000</td>\n",
       "      <td>1189.000000</td>\n",
       "      <td>63.700000</td>\n",
       "      <td>2214.000000</td>\n",
       "      <td>1479.000000</td>\n",
       "      <td>2683.000000</td>\n",
       "      <td>340.00000</td>\n",
       "      <td>2775.000000</td>\n",
       "      <td>2523.000000</td>\n",
       "      <td>44.600000</td>\n",
       "      <td>88.700000</td>\n",
       "      <td>2.231000</td>\n",
       "    </tr>\n",
       "  </tbody>\n",
       "</table>\n",
       "</div>"
      ],
      "text/plain": [
       "            CO(GT)  PT08.S1(CO)     NMHC(GT)     C6H6(GT)  PT08.S2(NMHC)  \\\n",
       "count  9326.000000  9326.000000  9326.000000  9326.000000    9326.000000   \n",
       "mean    -33.677954  1053.141754  -158.954107     2.536693     898.233755   \n",
       "std      77.212965   322.409768   140.001322    39.775561     337.024212   \n",
       "min    -200.000000  -200.000000  -200.000000  -200.000000    -200.000000   \n",
       "25%       0.600000   923.000000  -200.000000     4.000000     713.000000   \n",
       "50%       1.500000  1053.000000  -200.000000     7.900000     896.000000   \n",
       "75%       2.600000  1222.000000  -200.000000    13.700000    1106.000000   \n",
       "max      11.900000  2040.000000  1189.000000    63.700000    2214.000000   \n",
       "\n",
       "           NOx(GT)  PT08.S3(NOx)     NO2(GT)  PT08.S4(NO2)  PT08.S5(O3)  \\\n",
       "count  9326.000000   9326.000000  9326.00000   9326.000000  9326.000000   \n",
       "mean    169.842269    798.297555    59.00697   1396.769783   978.978018   \n",
       "std     256.981118    317.367940   126.27419    458.871357   452.637876   \n",
       "min    -200.000000   -200.000000  -200.00000   -200.000000  -200.000000   \n",
       "25%      51.000000    639.000000    54.00000   1188.000000   702.000000   \n",
       "50%     142.000000    795.000000    96.00000   1447.000000   944.000000   \n",
       "75%     285.000000    961.000000   133.00000   1662.750000  1257.000000   \n",
       "max    1479.000000   2683.000000   340.00000   2775.000000  2523.000000   \n",
       "\n",
       "                 T           RH           AH  \n",
       "count  9326.000000  9326.000000  9326.000000  \n",
       "mean     10.475617    40.281439    -6.195524  \n",
       "std      41.544860    49.401569    37.413633  \n",
       "min    -200.000000  -200.000000  -200.000000  \n",
       "25%      11.000000    34.200000     0.695925  \n",
       "50%      17.300000    48.600000     0.979200  \n",
       "75%      24.100000    61.900000     1.298625  \n",
       "max      44.600000    88.700000     2.231000  "
      ]
     },
     "execution_count": 5,
     "metadata": {},
     "output_type": "execute_result"
    }
   ],
   "source": [
    "train_data.describe()"
   ]
  },
  {
   "cell_type": "code",
   "execution_count": 6,
   "metadata": {},
   "outputs": [
    {
     "data": {
      "text/plain": [
       "<matplotlib.axes._subplots.AxesSubplot at 0x11c25410>"
      ]
     },
     "execution_count": 6,
     "metadata": {},
     "output_type": "execute_result"
    },
    {
     "data": {
      "image/png": "[encoded data removed]",
      "text/plain": [
       "<Figure size 432x288 with 1 Axes>"
      ]
     },
     "metadata": {
      "needs_background": "light"
     },
     "output_type": "display_data"
    }
   ],
   "source": [
    "train_data.boxplot()"
   ]
  },
  {
   "cell_type": "code",
   "execution_count": 7,
   "metadata": {
    "scrolled": true
   },
   "outputs": [
    {
     "data": {
      "text/html": [
       "<div>\n",
       "<style scoped>\n",
       "    .dataframe tbody tr th:only-of-type {\n",
       "        vertical-align: middle;\n",
       "    }\n",
       "\n",
       "    .dataframe tbody tr th {\n",
       "        vertical-align: top;\n",
       "    }\n",
       "\n",
       "    .dataframe thead th {\n",
       "        text-align: right;\n",
       "    }\n",
       "</style>\n",
       "<table border=\"1\" class=\"dataframe\">\n",
       "  <thead>\n",
       "    <tr style=\"text-align: right;\">\n",
       "      <th></th>\n",
       "      <th>CO(GT)</th>\n",
       "      <th>PT08.S1(CO)</th>\n",
       "      <th>NMHC(GT)</th>\n",
       "      <th>C6H6(GT)</th>\n",
       "      <th>PT08.S2(NMHC)</th>\n",
       "      <th>NOx(GT)</th>\n",
       "      <th>PT08.S3(NOx)</th>\n",
       "      <th>NO2(GT)</th>\n",
       "      <th>PT08.S4(NO2)</th>\n",
       "      <th>PT08.S5(O3)</th>\n",
       "      <th>T</th>\n",
       "      <th>RH</th>\n",
       "      <th>AH</th>\n",
       "    </tr>\n",
       "  </thead>\n",
       "  <tbody>\n",
       "    <tr>\n",
       "      <th>count</th>\n",
       "      <td>9.326000e+03</td>\n",
       "      <td>9.326000e+03</td>\n",
       "      <td>9.326000e+03</td>\n",
       "      <td>9.326000e+03</td>\n",
       "      <td>9.326000e+03</td>\n",
       "      <td>9.326000e+03</td>\n",
       "      <td>9.326000e+03</td>\n",
       "      <td>9.326000e+03</td>\n",
       "      <td>9.326000e+03</td>\n",
       "      <td>9.326000e+03</td>\n",
       "      <td>9.326000e+03</td>\n",
       "      <td>9.326000e+03</td>\n",
       "      <td>9.326000e+03</td>\n",
       "    </tr>\n",
       "    <tr>\n",
       "      <th>mean</th>\n",
       "      <td>3.413287e-16</td>\n",
       "      <td>1.706644e-16</td>\n",
       "      <td>-3.657093e-17</td>\n",
       "      <td>2.285683e-16</td>\n",
       "      <td>1.554265e-16</td>\n",
       "      <td>1.828547e-17</td>\n",
       "      <td>-6.095155e-17</td>\n",
       "      <td>3.657093e-17</td>\n",
       "      <td>8.533218e-17</td>\n",
       "      <td>-2.209494e-17</td>\n",
       "      <td>-1.818642e-15</td>\n",
       "      <td>7.923702e-16</td>\n",
       "      <td>2.041877e-16</td>\n",
       "    </tr>\n",
       "    <tr>\n",
       "      <th>std</th>\n",
       "      <td>1.000000e+00</td>\n",
       "      <td>1.000000e+00</td>\n",
       "      <td>1.000000e+00</td>\n",
       "      <td>1.000000e+00</td>\n",
       "      <td>1.000000e+00</td>\n",
       "      <td>1.000000e+00</td>\n",
       "      <td>1.000000e+00</td>\n",
       "      <td>1.000000e+00</td>\n",
       "      <td>1.000000e+00</td>\n",
       "      <td>1.000000e+00</td>\n",
       "      <td>1.000000e+00</td>\n",
       "      <td>1.000000e+00</td>\n",
       "      <td>1.000000e+00</td>\n",
       "    </tr>\n",
       "    <tr>\n",
       "      <th>min</th>\n",
       "      <td>-2.154069e+00</td>\n",
       "      <td>-3.886798e+00</td>\n",
       "      <td>-2.931822e-01</td>\n",
       "      <td>-5.091988e+00</td>\n",
       "      <td>-3.258620e+00</td>\n",
       "      <td>-1.439181e+00</td>\n",
       "      <td>-3.145553e+00</td>\n",
       "      <td>-2.051147e+00</td>\n",
       "      <td>-3.479777e+00</td>\n",
       "      <td>-2.604683e+00</td>\n",
       "      <td>-5.066225e+00</td>\n",
       "      <td>-4.863842e+00</td>\n",
       "      <td>-5.180050e+00</td>\n",
       "    </tr>\n",
       "    <tr>\n",
       "      <th>25%</th>\n",
       "      <td>4.439404e-01</td>\n",
       "      <td>-4.036533e-01</td>\n",
       "      <td>-2.931822e-01</td>\n",
       "      <td>3.678909e-02</td>\n",
       "      <td>-5.496156e-01</td>\n",
       "      <td>-4.624553e-01</td>\n",
       "      <td>-5.019334e-01</td>\n",
       "      <td>-3.965157e-02</td>\n",
       "      <td>-4.549636e-01</td>\n",
       "      <td>-6.119197e-01</td>\n",
       "      <td>1.262210e-02</td>\n",
       "      <td>-1.231021e-01</td>\n",
       "      <td>1.841962e-01</td>\n",
       "    </tr>\n",
       "    <tr>\n",
       "      <th>50%</th>\n",
       "      <td>4.555965e-01</td>\n",
       "      <td>-4.396710e-04</td>\n",
       "      <td>-2.931822e-01</td>\n",
       "      <td>1.348393e-01</td>\n",
       "      <td>-6.627877e-03</td>\n",
       "      <td>-1.083436e-01</td>\n",
       "      <td>-1.039032e-02</td>\n",
       "      <td>2.929580e-01</td>\n",
       "      <td>1.094647e-01</td>\n",
       "      <td>-7.727594e-02</td>\n",
       "      <td>1.642654e-01</td>\n",
       "      <td>1.683866e-01</td>\n",
       "      <td>1.917676e-01</td>\n",
       "    </tr>\n",
       "    <tr>\n",
       "      <th>75%</th>\n",
       "      <td>4.698428e-01</td>\n",
       "      <td>5.237380e-01</td>\n",
       "      <td>-2.931822e-01</td>\n",
       "      <td>2.806574e-01</td>\n",
       "      <td>6.164728e-01</td>\n",
       "      <td>4.481175e-01</td>\n",
       "      <td>5.126619e-01</td>\n",
       "      <td>5.859711e-01</td>\n",
       "      <td>5.796401e-01</td>\n",
       "      <td>6.142261e-01</td>\n",
       "      <td>3.279439e-01</td>\n",
       "      <td>4.376088e-01</td>\n",
       "      <td>2.003053e-01</td>\n",
       "    </tr>\n",
       "    <tr>\n",
       "      <th>max</th>\n",
       "      <td>5.902889e-01</td>\n",
       "      <td>3.060882e+00</td>\n",
       "      <td>9.628153e+00</td>\n",
       "      <td>1.537711e+00</td>\n",
       "      <td>3.904070e+00</td>\n",
       "      <td>5.094373e+00</td>\n",
       "      <td>5.938541e+00</td>\n",
       "      <td>2.225261e+00</td>\n",
       "      <td>3.003522e+00</td>\n",
       "      <td>3.411164e+00</td>\n",
       "      <td>8.213864e-01</td>\n",
       "      <td>9.801017e-01</td>\n",
       "      <td>2.252260e-01</td>\n",
       "    </tr>\n",
       "  </tbody>\n",
       "</table>\n",
       "</div>"
      ],
      "text/plain": [
       "             CO(GT)   PT08.S1(CO)      NMHC(GT)      C6H6(GT)  PT08.S2(NMHC)  \\\n",
       "count  9.326000e+03  9.326000e+03  9.326000e+03  9.326000e+03   9.326000e+03   \n",
       "mean   3.413287e-16  1.706644e-16 -3.657093e-17  2.285683e-16   1.554265e-16   \n",
       "std    1.000000e+00  1.000000e+00  1.000000e+00  1.000000e+00   1.000000e+00   \n",
       "min   -2.154069e+00 -3.886798e+00 -2.931822e-01 -5.091988e+00  -3.258620e+00   \n",
       "25%    4.439404e-01 -4.036533e-01 -2.931822e-01  3.678909e-02  -5.496156e-01   \n",
       "50%    4.555965e-01 -4.396710e-04 -2.931822e-01  1.348393e-01  -6.627877e-03   \n",
       "75%    4.698428e-01  5.237380e-01 -2.931822e-01  2.806574e-01   6.164728e-01   \n",
       "max    5.902889e-01  3.060882e+00  9.628153e+00  1.537711e+00   3.904070e+00   \n",
       "\n",
       "            NOx(GT)  PT08.S3(NOx)       NO2(GT)  PT08.S4(NO2)   PT08.S5(O3)  \\\n",
       "count  9.326000e+03  9.326000e+03  9.326000e+03  9.326000e+03  9.326000e+03   \n",
       "mean   1.828547e-17 -6.095155e-17  3.657093e-17  8.533218e-17 -2.209494e-17   \n",
       "std    1.000000e+00  1.000000e+00  1.000000e+00  1.000000e+00  1.000000e+00   \n",
       "min   -1.439181e+00 -3.145553e+00 -2.051147e+00 -3.479777e+00 -2.604683e+00   \n",
       "25%   -4.624553e-01 -5.019334e-01 -3.965157e-02 -4.549636e-01 -6.119197e-01   \n",
       "50%   -1.083436e-01 -1.039032e-02  2.929580e-01  1.094647e-01 -7.727594e-02   \n",
       "75%    4.481175e-01  5.126619e-01  5.859711e-01  5.796401e-01  6.142261e-01   \n",
       "max    5.094373e+00  5.938541e+00  2.225261e+00  3.003522e+00  3.411164e+00   \n",
       "\n",
       "                  T            RH            AH  \n",
       "count  9.326000e+03  9.326000e+03  9.326000e+03  \n",
       "mean  -1.818642e-15  7.923702e-16  2.041877e-16  \n",
       "std    1.000000e+00  1.000000e+00  1.000000e+00  \n",
       "min   -5.066225e+00 -4.863842e+00 -5.180050e+00  \n",
       "25%    1.262210e-02 -1.231021e-01  1.841962e-01  \n",
       "50%    1.642654e-01  1.683866e-01  1.917676e-01  \n",
       "75%    3.279439e-01  4.376088e-01  2.003053e-01  \n",
       "max    8.213864e-01  9.801017e-01  2.252260e-01  "
      ]
     },
     "execution_count": 7,
     "metadata": {},
     "output_type": "execute_result"
    }
   ],
   "source": [
    "train_data = (train_data - train_data.mean()) / train_data.std()\n",
    "train_data.describe()"
   ]
  },
  {
   "cell_type": "code",
   "execution_count": 8,
   "metadata": {},
   "outputs": [
    {
     "data": {
      "text/plain": [
       "<matplotlib.axes._subplots.AxesSubplot at 0x11a65b90>"
      ]
     },
     "execution_count": 8,
     "metadata": {},
     "output_type": "execute_result"
    },
    {
     "data": {
      "image/png": "[encoded data removed]",
      "text/plain": [
       "<Figure size 432x288 with 1 Axes>"
      ]
     },
     "metadata": {
      "needs_background": "light"
     },
     "output_type": "display_data"
    }
   ],
   "source": [
    "train_data.boxplot()"
   ]
  },
  {
   "cell_type": "markdown",
   "metadata": {},
   "source": [
    "# 4\n",
    "Единственные категориальные признаки - дата и время, которые в совокупности используются в качестве индекса, т.к. эта пара уникальна для каждой записи"
   ]
  },
  {
   "cell_type": "markdown",
   "metadata": {},
   "source": [
    "# 5"
   ]
  },
  {
   "cell_type": "code",
   "execution_count": 9,
   "metadata": {
    "scrolled": true
   },
   "outputs": [
    {
     "data": {
      "text/plain": [
       "<matplotlib.axes._subplots.AxesSubplot at 0x11a65d50>"
      ]
     },
     "execution_count": 9,
     "metadata": {},
     "output_type": "execute_result"
    },
    {
     "data": {
      "image/png": "[encoded data removed]",
      "text/plain": [
       "<Figure size 432x288 with 2 Axes>"
      ]
     },
     "metadata": {
      "needs_background": "light"
     },
     "output_type": "display_data"
    }
   ],
   "source": [
    "corr = train_data.corr()\n",
    "sns.heatmap(corr)"
   ]
  },
  {
   "cell_type": "markdown",
   "metadata": {},
   "source": [
    "# 6"
   ]
  },
  {
   "cell_type": "code",
   "execution_count": 10,
   "metadata": {},
   "outputs": [
    {
     "data": {
      "text/plain": [
       "CO(GT)           9326\n",
       "PT08.S1(CO)      9326\n",
       "NMHC(GT)         9326\n",
       "C6H6(GT)         9326\n",
       "PT08.S2(NMHC)    9326\n",
       "NOx(GT)          9326\n",
       "PT08.S3(NOx)     9326\n",
       "NO2(GT)          9326\n",
       "PT08.S4(NO2)     9326\n",
       "PT08.S5(O3)      9326\n",
       "T                9326\n",
       "RH               9326\n",
       "AH               9326\n",
       "dtype: int64"
      ]
     },
     "execution_count": 10,
     "metadata": {},
     "output_type": "execute_result"
    }
   ],
   "source": [
    "train_data.count()"
   ]
  },
  {
   "cell_type": "markdown",
   "metadata": {},
   "source": [
    "Пропущенных данных нет\n",
    "\n",
    "# 8\n",
    "### Предскажем признак 'C6H6(GT)'"
   ]
  },
  {
   "cell_type": "code",
   "execution_count": 11,
   "metadata": {},
   "outputs": [],
   "source": [
    "data_X, data_Y = train_data.drop(columns='C6H6(GT)', axis=1).values, train_data['C6H6(GT)']\n",
    "train_x, test_x, train_y, test_y = train_test_split(data_X, data_Y, test_size=0.3)"
   ]
  },
  {
   "cell_type": "markdown",
   "metadata": {},
   "source": [
    "###### Линейная регрессия без использования регуляризаторов"
   ]
  },
  {
   "cell_type": "code",
   "execution_count": 12,
   "metadata": {},
   "outputs": [
    {
     "name": "stdout",
     "output_type": "stream",
     "text": [
      "Pearson correlation:  0.9995458338758447\n",
      "Spearmen correlation:  0.9965908964278801\n",
      "P_VALUSE_P : 0.0\n",
      "P_VALUSE_S : 0.0\n"
     ]
    },
    {
     "data": {
      "text/plain": [
       "count    2798.000000\n",
       "mean       -0.000623\n",
       "std         0.030654\n",
       "min        -0.448610\n",
       "25%        -0.013163\n",
       "50%         0.005096\n",
       "75%         0.017753\n",
       "max         0.155917\n",
       "Name: C6H6(GT), dtype: float64"
      ]
     },
     "execution_count": 12,
     "metadata": {},
     "output_type": "execute_result"
    }
   ],
   "source": [
    "reg = LinearRegression()\n",
    "reg.fit(train_x, train_y)\n",
    "reg_predict = reg.predict(test_x)\n",
    "\n",
    "P, p_value_P = pearsonr(reg_predict, test_y)\n",
    "print(\"Pearson correlation: \", P)\n",
    "S, p_value_S = spearmanr(reg_predict, test_y)\n",
    "print(\"Spearmen correlation: \", S)\n",
    "print(\"P_VALUSE_P :\", p_value_P)\n",
    "print(\"P_VALUSE_S :\", p_value_S)\n",
    "(reg_predict - test_y).describe()"
   ]
  },
  {
   "cell_type": "markdown",
   "metadata": {},
   "source": [
    "###### CART (бинарное решающее дерево)"
   ]
  },
  {
   "cell_type": "code",
   "execution_count": 13,
   "metadata": {
    "scrolled": true
   },
   "outputs": [
    {
     "name": "stdout",
     "output_type": "stream",
     "text": [
      "best: 0.9999951471423799, max depth: 37\n",
      "Pearson correlation:  0.9999791181080111\n",
      "Spearmen correlation:  0.9999868758018365\n",
      "P_VALUSE_P : 0.0\n",
      "P_VALUSE_S : 0.0\n"
     ]
    },
    {
     "data": {
      "text/plain": [
       "count    1.500000e+01\n",
       "mean    -1.340857e-03\n",
       "std      3.132441e-03\n",
       "min     -1.005643e-02\n",
       "25%     -2.775558e-17\n",
       "50%      0.000000e+00\n",
       "75%      2.081668e-17\n",
       "max      1.110223e-16\n",
       "Name: C6H6(GT), dtype: float64"
      ]
     },
     "execution_count": 13,
     "metadata": {},
     "output_type": "execute_result"
    }
   ],
   "source": [
    "dtr = DecisionTreeRegressor()\n",
    "\n",
    "search = GridSearchCV(dtr, {'max_depth': [x for x in range(1, 50)]})\n",
    "search.fit(train_x, train_y)\n",
    "\n",
    "n = search.best_estimator_.max_depth\n",
    "best = search.best_score_\n",
    "print('best: ', best, ', max depth: ', n, sep='')\n",
    "\n",
    "dtr = DecisionTreeRegressor(max_depth=n)\n",
    "dtr.fit(train_x, train_y)\n",
    "dtr_predict = dtr.predict(test_x)\n",
    "\n",
    "P, p_value_P = pearsonr(dtr_predict, test_y)\n",
    "print(\"Pearson correlation: \", P)\n",
    "S, p_value_S = spearmanr(dtr_predict, test_y)\n",
    "print(\"Spearmen correlation: \", S)\n",
    "print(\"P_VALUSE_P :\", p_value_P)\n",
    "print(\"P_VALUSE_S :\", p_value_S)\n",
    "(dtr_predict[:15] - test_y[:15]).describe()"
   ]
  },
  {
   "cell_type": "markdown",
   "metadata": {},
   "source": [
    "###### Lasso-регуляризатор"
   ]
  },
  {
   "cell_type": "code",
   "execution_count": 14,
   "metadata": {},
   "outputs": [
    {
     "name": "stdout",
     "output_type": "stream",
     "text": [
      "Лучшее значение Альфа: 0.005\n",
      "Коррелция по Пирсону:  0.9993963823506579\n",
      "Корреляция по Спирмену:  0.9977827079180018\n",
      "P_VALUSE_P : 0.0\n",
      "P_VALUSE_S : 0.0\n"
     ]
    },
    {
     "data": {
      "text/plain": [
       "count    15.000000\n",
       "mean     -0.028791\n",
       "std       0.082749\n",
       "min      -0.237559\n",
       "25%      -0.026578\n",
       "50%      -0.003081\n",
       "75%       0.015893\n",
       "max       0.036174\n",
       "Name: C6H6(GT), dtype: float64"
      ]
     },
     "execution_count": 14,
     "metadata": {},
     "output_type": "execute_result"
    }
   ],
   "source": [
    "lasso = Lasso()\n",
    "\n",
    "search = GridSearchCV(lasso, {'alpha': np.arange(0.005, 5, 0.005)})\n",
    "search.fit(train_x, train_y)\n",
    "best = search.best_estimator_.alpha\n",
    "print('Лучшее значение Альфа:', best)\n",
    "\n",
    "lasso = Lasso(alpha=best)\n",
    "lasso.fit(train_x, train_y)\n",
    "lasso_predict = lasso.predict(test_x)\n",
    "P, p_value_P = pearsonr(lasso_predict, test_y)\n",
    "print(\"Коррелция по Пирсону: \", P)\n",
    "S, p_value_S = spearmanr(lasso_predict, test_y)\n",
    "print(\"Корреляция по Спирмену: \", S)\n",
    "print(\"P_VALUSE_P :\", p_value_P)\n",
    "print(\"P_VALUSE_S :\", p_value_S)\n",
    "(lasso_predict[:15] - test_y[:15]).describe()"
   ]
  },
  {
   "cell_type": "markdown",
   "metadata": {},
   "source": [
    "### Предскажем признак 'CO(GT)'"
   ]
  },
  {
   "cell_type": "code",
   "execution_count": 15,
   "metadata": {},
   "outputs": [],
   "source": [
    "data_X, data_Y = train_data.drop(columns='CO(GT)', axis=1).values, train_data['CO(GT)']\n",
    "train_x, test_x, train_y, test_y = train_test_split(data_X, data_Y, test_size=0.3)"
   ]
  },
  {
   "cell_type": "markdown",
   "metadata": {},
   "source": [
    "###### Линейная регрессия без использования регуляризаторов"
   ]
  },
  {
   "cell_type": "code",
   "execution_count": 16,
   "metadata": {},
   "outputs": [
    {
     "name": "stdout",
     "output_type": "stream",
     "text": [
      "Pearson correlation:  0.6458820431394139\n",
      "Spearmen correlation:  0.5924625772817175\n",
      "P_VALUSE_P : 0.0\n",
      "P_VALUSE_S : 8.177745430716572e-265\n"
     ]
    },
    {
     "data": {
      "text/plain": [
       "count    2798.000000\n",
       "mean        0.010956\n",
       "std         0.770341\n",
       "min        -2.481278\n",
       "25%        -0.295451\n",
       "50%        -0.126053\n",
       "75%         0.122662\n",
       "max         2.868663\n",
       "Name: CO(GT), dtype: float64"
      ]
     },
     "execution_count": 16,
     "metadata": {},
     "output_type": "execute_result"
    }
   ],
   "source": [
    "reg = LinearRegression()\n",
    "reg.fit(train_x, train_y)\n",
    "reg_predict = reg.predict(test_x)\n",
    "\n",
    "P, p_value_P = pearsonr(reg_predict, test_y)\n",
    "print(\"Pearson correlation: \", P)\n",
    "S, p_value_S = spearmanr(reg_predict, test_y)\n",
    "print(\"Spearmen correlation: \", S)\n",
    "print(\"P_VALUSE_P :\", p_value_P)\n",
    "print(\"P_VALUSE_S :\", p_value_S)\n",
    "(reg_predict - test_y).describe()"
   ]
  },
  {
   "cell_type": "markdown",
   "metadata": {},
   "source": [
    "###### CART (бинарное решающее дерево)"
   ]
  },
  {
   "cell_type": "code",
   "execution_count": 17,
   "metadata": {},
   "outputs": [
    {
     "name": "stdout",
     "output_type": "stream",
     "text": [
      "best: 0.5294530476944158, max depth: 4\n",
      "Pearson correlation:  0.6910069517321713\n",
      "Spearmen correlation:  0.7526221578141932\n",
      "P_VALUSE_P : 0.0\n",
      "P_VALUSE_S : 0.0\n"
     ]
    },
    {
     "data": {
      "text/plain": [
       "count    15.000000\n",
       "mean     -0.076106\n",
       "std       0.236919\n",
       "min      -0.796103\n",
       "25%      -0.106580\n",
       "50%      -0.006955\n",
       "75%       0.007939\n",
       "max       0.228476\n",
       "Name: CO(GT), dtype: float64"
      ]
     },
     "execution_count": 17,
     "metadata": {},
     "output_type": "execute_result"
    }
   ],
   "source": [
    "dtr = DecisionTreeRegressor()\n",
    "\n",
    "search = GridSearchCV(dtr, {'max_depth': [x for x in range(1, 50)]})\n",
    "search.fit(train_x, train_y)\n",
    "\n",
    "n = search.best_estimator_.max_depth\n",
    "best = search.best_score_\n",
    "print('best: ', best, ', max depth: ', n, sep='')\n",
    "\n",
    "dtr = DecisionTreeRegressor(max_depth=n)\n",
    "dtr.fit(train_x, train_y)\n",
    "dtr_predict = dtr.predict(test_x)\n",
    "\n",
    "P, p_value_P = pearsonr(dtr_predict, test_y)\n",
    "print(\"Pearson correlation: \", P)\n",
    "S, p_value_S = spearmanr(dtr_predict, test_y)\n",
    "print(\"Spearmen correlation: \", S)\n",
    "print(\"P_VALUSE_P :\", p_value_P)\n",
    "print(\"P_VALUSE_S :\", p_value_S)\n",
    "(dtr_predict[:15] - test_y[:15]).describe()"
   ]
  },
  {
   "cell_type": "markdown",
   "metadata": {},
   "source": [
    "###### Lasso-регуляризатор"
   ]
  },
  {
   "cell_type": "code",
   "execution_count": 18,
   "metadata": {},
   "outputs": [
    {
     "name": "stdout",
     "output_type": "stream",
     "text": [
      "Лучшее значение Альфа: 0.005\n",
      "Коррелция по Пирсону:  0.6460423873831933\n",
      "Корреляция по Спирмену:  0.6010756369798399\n",
      "P_VALUSE_P : 0.0\n",
      "P_VALUSE_S : 1.6300382014240086e-274\n"
     ]
    },
    {
     "data": {
      "text/plain": [
       "count    15.000000\n",
       "mean      0.023738\n",
       "std       0.257313\n",
       "min      -0.356118\n",
       "25%      -0.156820\n",
       "50%       0.008277\n",
       "75%       0.147885\n",
       "max       0.517997\n",
       "Name: CO(GT), dtype: float64"
      ]
     },
     "execution_count": 18,
     "metadata": {},
     "output_type": "execute_result"
    }
   ],
   "source": [
    "lasso = Lasso()\n",
    "\n",
    "search = GridSearchCV(lasso, {'alpha': np.arange(0.005, 5, 0.005)})\n",
    "search.fit(train_x, train_y)\n",
    "best = search.best_estimator_.alpha\n",
    "print('Лучшее значение Альфа:', best)\n",
    "\n",
    "lasso = Lasso(alpha=best)\n",
    "lasso.fit(train_x, train_y)\n",
    "lasso_predict = lasso.predict(test_x)\n",
    "P, p_value_P = pearsonr(lasso_predict, test_y)\n",
    "print(\"Коррелция по Пирсону: \", P)\n",
    "S, p_value_S = spearmanr(lasso_predict, test_y)\n",
    "print(\"Корреляция по Спирмену: \", S)\n",
    "print(\"P_VALUSE_P :\", p_value_P)\n",
    "print(\"P_VALUSE_S :\", p_value_S)\n",
    "(lasso_predict[:15] - test_y[:15]).describe()"
   ]
  },
  {
   "cell_type": "markdown",
   "metadata": {},
   "source": [
    "### Попробуем избавиться от коррелирующих признаков"
   ]
  },
  {
   "cell_type": "code",
   "execution_count": 19,
   "metadata": {},
   "outputs": [
    {
     "data": {
      "text/plain": [
       "<matplotlib.axes._subplots.AxesSubplot at 0xfc7a90>"
      ]
     },
     "execution_count": 19,
     "metadata": {},
     "output_type": "execute_result"
    },
    {
     "data": {
      "image/png": "[encoded data removed]",
      "text/plain": [
       "<Figure size 432x288 with 2 Axes>"
      ]
     },
     "metadata": {
      "needs_background": "light"
     },
     "output_type": "display_data"
    }
   ],
   "source": [
    "train_data = train_data.drop(columns='C6H6(GT)')\n",
    "train_data = train_data.drop(columns='PT08.S1(CO)')\n",
    "train_data = train_data.drop(columns='PT08.S2(NMHC)')\n",
    "train_data = train_data.drop(columns='PT08.S4(NO2)')\n",
    "train_data = train_data.drop(columns='AH')\n",
    "train_data = train_data.drop(columns='RH')\n",
    "corr = train_data.corr()\n",
    "sns.heatmap(corr)"
   ]
  },
  {
   "cell_type": "code",
   "execution_count": 20,
   "metadata": {},
   "outputs": [],
   "source": [
    "data_X, data_Y = train_data.drop(columns='CO(GT)', axis=1).values, train_data['CO(GT)']\n",
    "train_x, test_x, train_y, test_y = train_test_split(data_X, data_Y, test_size=0.3)"
   ]
  },
  {
   "cell_type": "markdown",
   "metadata": {},
   "source": [
    "###### Линейная регрессия без использования регуляризаторов"
   ]
  },
  {
   "cell_type": "code",
   "execution_count": 21,
   "metadata": {},
   "outputs": [
    {
     "name": "stdout",
     "output_type": "stream",
     "text": [
      "Pearson correlation:  0.6823875755404708\n",
      "Spearmen correlation:  0.6556506180482436\n",
      "P_VALUSE_P : 0.0\n",
      "P_VALUSE_S : 0.0\n"
     ]
    },
    {
     "data": {
      "text/plain": [
       "count    2798.000000\n",
       "mean        0.003551\n",
       "std         0.752461\n",
       "min        -2.318690\n",
       "25%        -0.311137\n",
       "50%        -0.133642\n",
       "75%         0.153235\n",
       "max         2.755206\n",
       "Name: CO(GT), dtype: float64"
      ]
     },
     "execution_count": 21,
     "metadata": {},
     "output_type": "execute_result"
    }
   ],
   "source": [
    "reg = LinearRegression()\n",
    "reg.fit(train_x, train_y)\n",
    "reg_predict = reg.predict(test_x)\n",
    "\n",
    "P, p_value_P = pearsonr(reg_predict, test_y)\n",
    "print(\"Pearson correlation: \", P)\n",
    "S, p_value_S = spearmanr(reg_predict, test_y)\n",
    "print(\"Spearmen correlation: \", S)\n",
    "print(\"P_VALUSE_P :\", p_value_P)\n",
    "print(\"P_VALUSE_S :\", p_value_S)\n",
    "(reg_predict - test_y).describe()"
   ]
  },
  {
   "cell_type": "markdown",
   "metadata": {},
   "source": [
    "###### CART (бинарное решающее дерево)"
   ]
  },
  {
   "cell_type": "code",
   "execution_count": 22,
   "metadata": {},
   "outputs": [
    {
     "name": "stdout",
     "output_type": "stream",
     "text": [
      "best: 0.5104022597593152, max depth: 4\n",
      "Pearson correlation:  0.7221286359627421\n",
      "Spearmen correlation:  0.7592131578536246\n",
      "P_VALUSE_P : 0.0\n",
      "P_VALUSE_S : 0.0\n"
     ]
    },
    {
     "data": {
      "text/plain": [
       "count    15.000000\n",
       "mean     -0.006040\n",
       "std       0.325863\n",
       "min      -0.587310\n",
       "25%      -0.156672\n",
       "50%      -0.054161\n",
       "75%      -0.011018\n",
       "max       0.662125\n",
       "Name: CO(GT), dtype: float64"
      ]
     },
     "execution_count": 22,
     "metadata": {},
     "output_type": "execute_result"
    }
   ],
   "source": [
    "dtr = DecisionTreeRegressor()\n",
    "\n",
    "search = GridSearchCV(dtr, {'max_depth': [x for x in range(1, 50)]})\n",
    "search.fit(train_x, train_y)\n",
    "\n",
    "n = search.best_estimator_.max_depth\n",
    "best = search.best_score_\n",
    "print('best: ', best, ', max depth: ', n, sep='')\n",
    "\n",
    "dtr = DecisionTreeRegressor(max_depth=n)\n",
    "dtr.fit(train_x, train_y)\n",
    "dtr_predict = dtr.predict(test_x)\n",
    "\n",
    "P, p_value_P = pearsonr(dtr_predict, test_y)\n",
    "print(\"Pearson correlation: \", P)\n",
    "S, p_value_S = spearmanr(dtr_predict, test_y)\n",
    "print(\"Spearmen correlation: \", S)\n",
    "print(\"P_VALUSE_P :\", p_value_P)\n",
    "print(\"P_VALUSE_S :\", p_value_S)\n",
    "(dtr_predict[:15] - test_y[:15]).describe()"
   ]
  },
  {
   "cell_type": "markdown",
   "metadata": {},
   "source": [
    "###### Lasso-регуляризатор"
   ]
  },
  {
   "cell_type": "code",
   "execution_count": 23,
   "metadata": {},
   "outputs": [
    {
     "name": "stdout",
     "output_type": "stream",
     "text": [
      "Лучшее значение Альфа: 0.005\n",
      "Коррелция по Пирсону:  0.6829714279033798\n",
      "Корреляция по Спирмену:  0.6664178598416585\n",
      "P_VALUSE_P : 0.0\n",
      "P_VALUSE_S : 0.0\n"
     ]
    },
    {
     "data": {
      "text/plain": [
       "count    15.000000\n",
       "mean     -0.093625\n",
       "std       0.597518\n",
       "min      -1.796850\n",
       "25%      -0.303216\n",
       "50%      -0.068954\n",
       "75%       0.104376\n",
       "max       0.741965\n",
       "Name: CO(GT), dtype: float64"
      ]
     },
     "execution_count": 23,
     "metadata": {},
     "output_type": "execute_result"
    }
   ],
   "source": [
    "lasso = Lasso()\n",
    "\n",
    "search = GridSearchCV(lasso, {'alpha': np.arange(0.005, 5, 0.005)})\n",
    "search.fit(train_x, train_y)\n",
    "best = search.best_estimator_.alpha\n",
    "print('Лучшее значение Альфа:', best)\n",
    "\n",
    "lasso = Lasso(alpha=best)\n",
    "lasso.fit(train_x, train_y)\n",
    "lasso_predict = lasso.predict(test_x)\n",
    "P, p_value_P = pearsonr(lasso_predict, test_y)\n",
    "print(\"Коррелция по Пирсону: \", P)\n",
    "S, p_value_S = spearmanr(lasso_predict, test_y)\n",
    "print(\"Корреляция по Спирмену: \", S)\n",
    "print(\"P_VALUSE_P :\", p_value_P)\n",
    "print(\"P_VALUSE_S :\", p_value_S)\n",
    "(lasso_predict[:15] - test_y[:15]).describe()"
   ]
  },
  {
   "cell_type": "markdown",
   "metadata": {},
   "source": [
    "# Выводы\n",
    "Опробовав методы регрессии предложенные для моего варианта в старой и новой версии методических рекомендаций для предсказания сильно- и слабокоррелирующих признаков, я пришел к следующему выводу:  \n",
    "1. Методы регрессии прекрасно справляются с предсказанием признаков, сильно коррелирующих с другими\n",
    "2. На признаках, слабокоррелирующих с другими, методы регрессии показывают не такие хорошие результаты\n",
    "3. Результаты можно улучшить, если отбросить сильнокоррелирующие признаки\n",
    "4. Метод CART показывает лучший результат по сравнению с линейной регрессией\n",
    "5. Использование Lasso-регуляризатора позволяет улучшить результат линейной регрессии"
   ]
  }
 ],
 "metadata": {
  "kernelspec": {
   "display_name": "Python 3",
   "language": "python",
   "name": "python3"
  },
  "language_info": {
   "codemirror_mode": {
    "name": "ipython",
    "version": 3
   },
   "file_extension": ".py",
   "mimetype": "text/x-python",
   "name": "python",
   "nbconvert_exporter": "python",
   "pygments_lexer": "ipython3",
   "version": "3.7.3"
  }
 },
 "nbformat": 4,
 "nbformat_minor": 4
}
