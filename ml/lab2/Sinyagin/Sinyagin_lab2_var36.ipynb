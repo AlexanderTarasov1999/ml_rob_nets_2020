{
 "cells": [
  {
   "cell_type": "markdown",
   "metadata": {},
   "source": [
    "### ФИО студента: Синягин Илья\n",
    "\n",
    "### Группа: 18-ИВТ-3\n",
    "\n",
    "### Вариант: 36\n",
    "\n",
    "### Задание: Poker"
   ]
  },
  {
   "cell_type": "markdown",
   "metadata": {},
   "source": [
    "1. Изучить набор данных. Создать описание набора данных на русском языке. Описать признаки, используемые в наборе данных (включить полученные описания в отчёт).\n",
    "2. Удалите дубликаты строк в наборе данных; приведите размер набора данных до и после данной операции;\n",
    "3. Оцените сбалансированность данных по классам (постройте гистограмму). Используйте полученную информацию при выборе метрики оценки качества классификации (PR или ROC кривая)\n",
    "4. Выполните масштабирование количественных признаков; Постройте диаграммы BoxPlot для признаков до и после масштабирования. Выберите способ масштабирования (например, нормализацию или стандартизацию);\n",
    "5. Выполните замену категориальных признаков; выберите и обоснуйте способ замены;\n",
    "6. Оцените корреляцию между признаков и удалите те признаки, которые коррелируют с наибольшим числом других (удалять признаки нужно только для линейных методов классификации);\n",
    "7. Заполните пропущенные значения в данных;\n",
    "8. Решите поставленную задачу классификации в соответствии с заданием. При подборе параметров классификатора используйте метод GridSearchCV и перекрёстную проверку (изучите возможные для изменения параметры классификации). Определите схему построения многоклассового классификатора, используемую по умолчанию (опишите используемую схему кодирования, обоснуйте свой выбор). Постройте, если это возможно, многоклассовую классификацию на основе схем «один-против-всех» и «все-против-всех». Оцените точность классификации для каждой их схем. Постройте кривые PR и ROC (для каждого из классов должны быть построены отдельные кривые, а также кривые для микро и макроусреднения метрик качества). Для линейного классификатора используйте регуляризацию.\n",
    "9. Сравните кривые для классификаторов, указанных в задании, сделайте выводы."
   ]
  },
  {
   "cell_type": "markdown",
   "metadata": {},
   "source": [
    "## 1. Изучить набор данных. Создать описание набора данных на русском языке. Описать признаки, используемые в наборе данных."
   ]
  },
  {
   "cell_type": "markdown",
   "metadata": {},
   "source": [
    "1. Suit of card #n - Масть карты\n",
    "    * 1 - Черви\n",
    "    * 2 - Пики\n",
    "    * 3 - Буби\n",
    "    * 4 - Крести\n",
    "2. Rank of card #n - Ранг карты\n",
    "    * 1 - Туз\n",
    "    * 2 - Два\n",
    "    * .......\n",
    "    * 12 - Дама\n",
    "    * 13 - Король\n",
    "3. Poker Hand - Покерная комбинация\n",
    "    * 0: Ничего в руке; нет комбинаций\n",
    "    * 1: Одна пара; одна пара равных рангов в пределах пяти карт\n",
    "    * 2: Две пары; две пары равных рангов в пределах пяти карт\n",
    "    * 3: Сет; три карты равных рангов в пределах пяти карт\n",
    "    * 4: Стрит; пять карт, последовательно ранжированных без пробелов\n",
    "    * 5: Флэш; пять карт одной масти\n",
    "    * 6: Фулл Хаус - пара + сет\n",
    "    * 7: Каре - четыре карты равных рангов в пределах пяти карт\n",
    "    * 8: Стрит Флэш - Стрит + Флэш\n",
    "    * 9: Флэш-Рояль - {туз, король, дама, валет, десятка} + флэш"
   ]
  },
  {
   "cell_type": "markdown",
   "metadata": {},
   "source": [
    "## 2. Удалите дубликаты строк в наборе данных; приведите размер набора данных до и после данной операции;"
   ]
  },
  {
   "cell_type": "code",
   "execution_count": 1,
   "metadata": {},
   "outputs": [],
   "source": [
    "import pandas as pd"
   ]
  },
  {
   "cell_type": "code",
   "execution_count": 2,
   "metadata": {},
   "outputs": [
    {
     "data": {
      "text/html": [
       "<div>\n",
       "<style scoped>\n",
       "    .dataframe tbody tr th:only-of-type {\n",
       "        vertical-align: middle;\n",
       "    }\n",
       "\n",
       "    .dataframe tbody tr th {\n",
       "        vertical-align: top;\n",
       "    }\n",
       "\n",
       "    .dataframe thead th {\n",
       "        text-align: right;\n",
       "    }\n",
       "</style>\n",
       "<table border=\"1\" class=\"dataframe\">\n",
       "  <thead>\n",
       "    <tr style=\"text-align: right;\">\n",
       "      <th></th>\n",
       "      <th>Suit_of_card_#1</th>\n",
       "      <th>Rank_of_card_#1</th>\n",
       "      <th>Suit_of_card_#2</th>\n",
       "      <th>Rank_of_card_#2</th>\n",
       "      <th>Suit_of_card_#3</th>\n",
       "      <th>Rank_of_card_#3</th>\n",
       "      <th>Suit_of_card_#4</th>\n",
       "      <th>Rank_of_card_#4</th>\n",
       "      <th>Suit_of_card_#5</th>\n",
       "      <th>Rank_of_card_#5</th>\n",
       "      <th>Poker_Hand</th>\n",
       "    </tr>\n",
       "  </thead>\n",
       "  <tbody>\n",
       "    <tr>\n",
       "      <th>0</th>\n",
       "      <td>2</td>\n",
       "      <td>11</td>\n",
       "      <td>2</td>\n",
       "      <td>13</td>\n",
       "      <td>2</td>\n",
       "      <td>10</td>\n",
       "      <td>2</td>\n",
       "      <td>12</td>\n",
       "      <td>2</td>\n",
       "      <td>1</td>\n",
       "      <td>9</td>\n",
       "    </tr>\n",
       "    <tr>\n",
       "      <th>1</th>\n",
       "      <td>3</td>\n",
       "      <td>12</td>\n",
       "      <td>3</td>\n",
       "      <td>11</td>\n",
       "      <td>3</td>\n",
       "      <td>13</td>\n",
       "      <td>3</td>\n",
       "      <td>10</td>\n",
       "      <td>3</td>\n",
       "      <td>1</td>\n",
       "      <td>9</td>\n",
       "    </tr>\n",
       "    <tr>\n",
       "      <th>2</th>\n",
       "      <td>4</td>\n",
       "      <td>10</td>\n",
       "      <td>4</td>\n",
       "      <td>11</td>\n",
       "      <td>4</td>\n",
       "      <td>1</td>\n",
       "      <td>4</td>\n",
       "      <td>13</td>\n",
       "      <td>4</td>\n",
       "      <td>12</td>\n",
       "      <td>9</td>\n",
       "    </tr>\n",
       "    <tr>\n",
       "      <th>3</th>\n",
       "      <td>4</td>\n",
       "      <td>1</td>\n",
       "      <td>4</td>\n",
       "      <td>13</td>\n",
       "      <td>4</td>\n",
       "      <td>12</td>\n",
       "      <td>4</td>\n",
       "      <td>11</td>\n",
       "      <td>4</td>\n",
       "      <td>10</td>\n",
       "      <td>9</td>\n",
       "    </tr>\n",
       "    <tr>\n",
       "      <th>4</th>\n",
       "      <td>1</td>\n",
       "      <td>2</td>\n",
       "      <td>1</td>\n",
       "      <td>4</td>\n",
       "      <td>1</td>\n",
       "      <td>5</td>\n",
       "      <td>1</td>\n",
       "      <td>3</td>\n",
       "      <td>1</td>\n",
       "      <td>6</td>\n",
       "      <td>8</td>\n",
       "    </tr>\n",
       "    <tr>\n",
       "      <th>...</th>\n",
       "      <td>...</td>\n",
       "      <td>...</td>\n",
       "      <td>...</td>\n",
       "      <td>...</td>\n",
       "      <td>...</td>\n",
       "      <td>...</td>\n",
       "      <td>...</td>\n",
       "      <td>...</td>\n",
       "      <td>...</td>\n",
       "      <td>...</td>\n",
       "      <td>...</td>\n",
       "    </tr>\n",
       "    <tr>\n",
       "      <th>25004</th>\n",
       "      <td>3</td>\n",
       "      <td>9</td>\n",
       "      <td>2</td>\n",
       "      <td>6</td>\n",
       "      <td>4</td>\n",
       "      <td>11</td>\n",
       "      <td>4</td>\n",
       "      <td>12</td>\n",
       "      <td>2</td>\n",
       "      <td>4</td>\n",
       "      <td>0</td>\n",
       "    </tr>\n",
       "    <tr>\n",
       "      <th>25005</th>\n",
       "      <td>4</td>\n",
       "      <td>1</td>\n",
       "      <td>4</td>\n",
       "      <td>10</td>\n",
       "      <td>3</td>\n",
       "      <td>13</td>\n",
       "      <td>3</td>\n",
       "      <td>4</td>\n",
       "      <td>1</td>\n",
       "      <td>10</td>\n",
       "      <td>1</td>\n",
       "    </tr>\n",
       "    <tr>\n",
       "      <th>25006</th>\n",
       "      <td>2</td>\n",
       "      <td>1</td>\n",
       "      <td>2</td>\n",
       "      <td>10</td>\n",
       "      <td>4</td>\n",
       "      <td>4</td>\n",
       "      <td>4</td>\n",
       "      <td>1</td>\n",
       "      <td>4</td>\n",
       "      <td>13</td>\n",
       "      <td>1</td>\n",
       "    </tr>\n",
       "    <tr>\n",
       "      <th>25007</th>\n",
       "      <td>2</td>\n",
       "      <td>12</td>\n",
       "      <td>4</td>\n",
       "      <td>3</td>\n",
       "      <td>1</td>\n",
       "      <td>10</td>\n",
       "      <td>1</td>\n",
       "      <td>12</td>\n",
       "      <td>4</td>\n",
       "      <td>9</td>\n",
       "      <td>1</td>\n",
       "    </tr>\n",
       "    <tr>\n",
       "      <th>25008</th>\n",
       "      <td>1</td>\n",
       "      <td>7</td>\n",
       "      <td>3</td>\n",
       "      <td>11</td>\n",
       "      <td>3</td>\n",
       "      <td>3</td>\n",
       "      <td>4</td>\n",
       "      <td>8</td>\n",
       "      <td>3</td>\n",
       "      <td>7</td>\n",
       "      <td>1</td>\n",
       "    </tr>\n",
       "  </tbody>\n",
       "</table>\n",
       "<p>25009 rows × 11 columns</p>\n",
       "</div>"
      ],
      "text/plain": [
       "       Suit_of_card_#1  Rank_of_card_#1  Suit_of_card_#2  Rank_of_card_#2  \\\n",
       "0                    2               11                2               13   \n",
       "1                    3               12                3               11   \n",
       "2                    4               10                4               11   \n",
       "3                    4                1                4               13   \n",
       "4                    1                2                1                4   \n",
       "...                ...              ...              ...              ...   \n",
       "25004                3                9                2                6   \n",
       "25005                4                1                4               10   \n",
       "25006                2                1                2               10   \n",
       "25007                2               12                4                3   \n",
       "25008                1                7                3               11   \n",
       "\n",
       "       Suit_of_card_#3  Rank_of_card_#3  Suit_of_card_#4  Rank_of_card_#4  \\\n",
       "0                    2               10                2               12   \n",
       "1                    3               13                3               10   \n",
       "2                    4                1                4               13   \n",
       "3                    4               12                4               11   \n",
       "4                    1                5                1                3   \n",
       "...                ...              ...              ...              ...   \n",
       "25004                4               11                4               12   \n",
       "25005                3               13                3                4   \n",
       "25006                4                4                4                1   \n",
       "25007                1               10                1               12   \n",
       "25008                3                3                4                8   \n",
       "\n",
       "       Suit_of_card_#5  Rank_of_card_#5  Poker_Hand  \n",
       "0                    2                1           9  \n",
       "1                    3                1           9  \n",
       "2                    4               12           9  \n",
       "3                    4               10           9  \n",
       "4                    1                6           8  \n",
       "...                ...              ...         ...  \n",
       "25004                2                4           0  \n",
       "25005                1               10           1  \n",
       "25006                4               13           1  \n",
       "25007                4                9           1  \n",
       "25008                3                7           1  \n",
       "\n",
       "[25009 rows x 11 columns]"
      ]
     },
     "execution_count": 2,
     "metadata": {},
     "output_type": "execute_result"
    }
   ],
   "source": [
    "poker_df = pd.read_csv('poker-hand-training-true.data.txt')\n",
    "poker_df.columns = ['Suit_of_card_#1', 'Rank_of_card_#1', 'Suit_of_card_#2', 'Rank_of_card_#2', 'Suit_of_card_#3', 'Rank_of_card_#3',\n",
    "                   'Suit_of_card_#4', 'Rank_of_card_#4',  'Suit_of_card_#5',  'Rank_of_card_#5', \n",
    "                   'Poker_Hand']\n",
    "poker_df"
   ]
  },
  {
   "cell_type": "code",
   "execution_count": 3,
   "metadata": {},
   "outputs": [
    {
     "name": "stdout",
     "output_type": "stream",
     "text": [
      "Количество строк до удаления дубликатов:  25009\n",
      "Количество строк после удаления дубликатов:  25007\n"
     ]
    }
   ],
   "source": [
    "print('Количество строк до удаления дубликатов: ', len(poker_df.index))\n",
    "poker_df.drop_duplicates(keep = 'first', inplace = True)\n",
    "print('Количество строк после удаления дубликатов: ', len(poker_df.index))"
   ]
  },
  {
   "cell_type": "markdown",
   "metadata": {},
   "source": [
    "## 3. Оцените сбалансированность данных по классам (постройте гистограмму)."
   ]
  },
  {
   "cell_type": "code",
   "execution_count": 4,
   "metadata": {},
   "outputs": [
    {
     "data": {
      "text/plain": [
       "<matplotlib.axes._subplots.AxesSubplot at 0x1d05863d520>"
      ]
     },
     "execution_count": 4,
     "metadata": {},
     "output_type": "execute_result"
    },
    {
     "data": {
      "image/png": "[encoded data removed]",
      "text/plain": [
       "<Figure size 432x288 with 1 Axes>"
      ]
     },
     "metadata": {
      "needs_background": "light"
     },
     "output_type": "display_data"
    }
   ],
   "source": [
    "import seaborn as sns\n",
    "sns.countplot(x='Poker_Hand', data=poker_df)"
   ]
  },
  {
   "cell_type": "markdown",
   "metadata": {},
   "source": [
    "## 4. Выполните масштабирование количественных признаков; Постройте диаграммы BoxPlot для признаков до и после масштабирования."
   ]
  },
  {
   "cell_type": "code",
   "execution_count": 5,
   "metadata": {},
   "outputs": [],
   "source": [
    "from sklearn.preprocessing import MinMaxScaler\n",
    "\n",
    "quantitative_df = poker_df.drop('Poker_Hand', axis = 1)"
   ]
  },
  {
   "cell_type": "code",
   "execution_count": 6,
   "metadata": {},
   "outputs": [
    {
     "name": "stdout",
     "output_type": "stream",
     "text": [
      "BoxPlot до масштабирования:\n"
     ]
    },
    {
     "data": {
      "image/png": "[encoded data removed]",
      "text/plain": [
       "<Figure size 432x288 with 1 Axes>"
      ]
     },
     "metadata": {
      "needs_background": "light"
     },
     "output_type": "display_data"
    }
   ],
   "source": [
    "sns.boxplot(data = quantitative_df, orient = 'h')\n",
    "print('BoxPlot до масштабирования:')"
   ]
  },
  {
   "cell_type": "code",
   "execution_count": 7,
   "metadata": {},
   "outputs": [
    {
     "name": "stdout",
     "output_type": "stream",
     "text": [
      "BoxPlot после масштабирования:\n"
     ]
    },
    {
     "data": {
      "text/plain": [
       "<matplotlib.axes._subplots.AxesSubplot at 0x1d05bcb92b0>"
      ]
     },
     "execution_count": 7,
     "metadata": {},
     "output_type": "execute_result"
    },
    {
     "data": {
      "image/png": "[encoded data removed]",
      "text/plain": [
       "<Figure size 432x288 with 1 Axes>"
      ]
     },
     "metadata": {
      "needs_background": "light"
     },
     "output_type": "display_data"
    }
   ],
   "source": [
    "scaler = MinMaxScaler()\n",
    "scaler.fit(quantitative_df)\n",
    "quantitative_df = scaler.transform(quantitative_df)\n",
    "\n",
    "print('BoxPlot после масштабирования:')\n",
    "sns.boxplot(data = quantitative_df, orient = 'h')"
   ]
  },
  {
   "cell_type": "markdown",
   "metadata": {},
   "source": [
    "## 5. Выполните замену категориальных признаков; выберите и обоснуйте способ замены;"
   ]
  },
  {
   "cell_type": "code",
   "execution_count": 8,
   "metadata": {},
   "outputs": [
    {
     "data": {
      "text/html": [
       "<div>\n",
       "<style scoped>\n",
       "    .dataframe tbody tr th:only-of-type {\n",
       "        vertical-align: middle;\n",
       "    }\n",
       "\n",
       "    .dataframe tbody tr th {\n",
       "        vertical-align: top;\n",
       "    }\n",
       "\n",
       "    .dataframe thead th {\n",
       "        text-align: right;\n",
       "    }\n",
       "</style>\n",
       "<table border=\"1\" class=\"dataframe\">\n",
       "  <thead>\n",
       "    <tr style=\"text-align: right;\">\n",
       "      <th></th>\n",
       "      <th>Suit_of_card_#1</th>\n",
       "      <th>Rank_of_card_#1</th>\n",
       "      <th>Suit_of_card_#2</th>\n",
       "      <th>Rank_of_card_#2</th>\n",
       "      <th>Suit_of_card_#3</th>\n",
       "      <th>Rank_of_card_#3</th>\n",
       "      <th>Suit_of_card_#4</th>\n",
       "      <th>Rank_of_card_#4</th>\n",
       "      <th>Suit_of_card_#5</th>\n",
       "      <th>Rank_of_card_#5</th>\n",
       "      <th>Poker_Hand=0</th>\n",
       "      <th>Poker_Hand=1</th>\n",
       "      <th>Poker_Hand=2</th>\n",
       "      <th>Poker_Hand=3</th>\n",
       "      <th>Poker_Hand=4</th>\n",
       "      <th>Poker_Hand=5</th>\n",
       "      <th>Poker_Hand=6</th>\n",
       "      <th>Poker_Hand=7</th>\n",
       "      <th>Poker_Hand=8</th>\n",
       "      <th>Poker_Hand=9</th>\n",
       "    </tr>\n",
       "  </thead>\n",
       "  <tbody>\n",
       "    <tr>\n",
       "      <th>0</th>\n",
       "      <td>2.0</td>\n",
       "      <td>11.0</td>\n",
       "      <td>2.0</td>\n",
       "      <td>13.0</td>\n",
       "      <td>2.0</td>\n",
       "      <td>10.0</td>\n",
       "      <td>2.0</td>\n",
       "      <td>12.0</td>\n",
       "      <td>2.0</td>\n",
       "      <td>1.0</td>\n",
       "      <td>0.0</td>\n",
       "      <td>0.0</td>\n",
       "      <td>0.0</td>\n",
       "      <td>0.0</td>\n",
       "      <td>0.0</td>\n",
       "      <td>0.0</td>\n",
       "      <td>0.0</td>\n",
       "      <td>0.0</td>\n",
       "      <td>0.0</td>\n",
       "      <td>1.0</td>\n",
       "    </tr>\n",
       "    <tr>\n",
       "      <th>1</th>\n",
       "      <td>3.0</td>\n",
       "      <td>12.0</td>\n",
       "      <td>3.0</td>\n",
       "      <td>11.0</td>\n",
       "      <td>3.0</td>\n",
       "      <td>13.0</td>\n",
       "      <td>3.0</td>\n",
       "      <td>10.0</td>\n",
       "      <td>3.0</td>\n",
       "      <td>1.0</td>\n",
       "      <td>0.0</td>\n",
       "      <td>0.0</td>\n",
       "      <td>0.0</td>\n",
       "      <td>0.0</td>\n",
       "      <td>0.0</td>\n",
       "      <td>0.0</td>\n",
       "      <td>0.0</td>\n",
       "      <td>0.0</td>\n",
       "      <td>0.0</td>\n",
       "      <td>1.0</td>\n",
       "    </tr>\n",
       "    <tr>\n",
       "      <th>2</th>\n",
       "      <td>4.0</td>\n",
       "      <td>10.0</td>\n",
       "      <td>4.0</td>\n",
       "      <td>11.0</td>\n",
       "      <td>4.0</td>\n",
       "      <td>1.0</td>\n",
       "      <td>4.0</td>\n",
       "      <td>13.0</td>\n",
       "      <td>4.0</td>\n",
       "      <td>12.0</td>\n",
       "      <td>0.0</td>\n",
       "      <td>0.0</td>\n",
       "      <td>0.0</td>\n",
       "      <td>0.0</td>\n",
       "      <td>0.0</td>\n",
       "      <td>0.0</td>\n",
       "      <td>0.0</td>\n",
       "      <td>0.0</td>\n",
       "      <td>0.0</td>\n",
       "      <td>1.0</td>\n",
       "    </tr>\n",
       "    <tr>\n",
       "      <th>3</th>\n",
       "      <td>4.0</td>\n",
       "      <td>1.0</td>\n",
       "      <td>4.0</td>\n",
       "      <td>13.0</td>\n",
       "      <td>4.0</td>\n",
       "      <td>12.0</td>\n",
       "      <td>4.0</td>\n",
       "      <td>11.0</td>\n",
       "      <td>4.0</td>\n",
       "      <td>10.0</td>\n",
       "      <td>0.0</td>\n",
       "      <td>0.0</td>\n",
       "      <td>0.0</td>\n",
       "      <td>0.0</td>\n",
       "      <td>0.0</td>\n",
       "      <td>0.0</td>\n",
       "      <td>0.0</td>\n",
       "      <td>0.0</td>\n",
       "      <td>0.0</td>\n",
       "      <td>1.0</td>\n",
       "    </tr>\n",
       "    <tr>\n",
       "      <th>4</th>\n",
       "      <td>1.0</td>\n",
       "      <td>2.0</td>\n",
       "      <td>1.0</td>\n",
       "      <td>4.0</td>\n",
       "      <td>1.0</td>\n",
       "      <td>5.0</td>\n",
       "      <td>1.0</td>\n",
       "      <td>3.0</td>\n",
       "      <td>1.0</td>\n",
       "      <td>6.0</td>\n",
       "      <td>0.0</td>\n",
       "      <td>0.0</td>\n",
       "      <td>0.0</td>\n",
       "      <td>0.0</td>\n",
       "      <td>0.0</td>\n",
       "      <td>0.0</td>\n",
       "      <td>0.0</td>\n",
       "      <td>0.0</td>\n",
       "      <td>1.0</td>\n",
       "      <td>0.0</td>\n",
       "    </tr>\n",
       "    <tr>\n",
       "      <th>...</th>\n",
       "      <td>...</td>\n",
       "      <td>...</td>\n",
       "      <td>...</td>\n",
       "      <td>...</td>\n",
       "      <td>...</td>\n",
       "      <td>...</td>\n",
       "      <td>...</td>\n",
       "      <td>...</td>\n",
       "      <td>...</td>\n",
       "      <td>...</td>\n",
       "      <td>...</td>\n",
       "      <td>...</td>\n",
       "      <td>...</td>\n",
       "      <td>...</td>\n",
       "      <td>...</td>\n",
       "      <td>...</td>\n",
       "      <td>...</td>\n",
       "      <td>...</td>\n",
       "      <td>...</td>\n",
       "      <td>...</td>\n",
       "    </tr>\n",
       "    <tr>\n",
       "      <th>25002</th>\n",
       "      <td>1.0</td>\n",
       "      <td>12.0</td>\n",
       "      <td>2.0</td>\n",
       "      <td>9.0</td>\n",
       "      <td>2.0</td>\n",
       "      <td>12.0</td>\n",
       "      <td>4.0</td>\n",
       "      <td>8.0</td>\n",
       "      <td>1.0</td>\n",
       "      <td>13.0</td>\n",
       "      <td>1.0</td>\n",
       "      <td>0.0</td>\n",
       "      <td>0.0</td>\n",
       "      <td>0.0</td>\n",
       "      <td>0.0</td>\n",
       "      <td>0.0</td>\n",
       "      <td>0.0</td>\n",
       "      <td>0.0</td>\n",
       "      <td>0.0</td>\n",
       "      <td>0.0</td>\n",
       "    </tr>\n",
       "    <tr>\n",
       "      <th>25003</th>\n",
       "      <td>3.0</td>\n",
       "      <td>5.0</td>\n",
       "      <td>3.0</td>\n",
       "      <td>7.0</td>\n",
       "      <td>4.0</td>\n",
       "      <td>11.0</td>\n",
       "      <td>3.0</td>\n",
       "      <td>11.0</td>\n",
       "      <td>3.0</td>\n",
       "      <td>2.0</td>\n",
       "      <td>0.0</td>\n",
       "      <td>1.0</td>\n",
       "      <td>0.0</td>\n",
       "      <td>0.0</td>\n",
       "      <td>0.0</td>\n",
       "      <td>0.0</td>\n",
       "      <td>0.0</td>\n",
       "      <td>0.0</td>\n",
       "      <td>0.0</td>\n",
       "      <td>0.0</td>\n",
       "    </tr>\n",
       "    <tr>\n",
       "      <th>25004</th>\n",
       "      <td>3.0</td>\n",
       "      <td>9.0</td>\n",
       "      <td>2.0</td>\n",
       "      <td>6.0</td>\n",
       "      <td>4.0</td>\n",
       "      <td>11.0</td>\n",
       "      <td>4.0</td>\n",
       "      <td>12.0</td>\n",
       "      <td>2.0</td>\n",
       "      <td>4.0</td>\n",
       "      <td>0.0</td>\n",
       "      <td>1.0</td>\n",
       "      <td>0.0</td>\n",
       "      <td>0.0</td>\n",
       "      <td>0.0</td>\n",
       "      <td>0.0</td>\n",
       "      <td>0.0</td>\n",
       "      <td>0.0</td>\n",
       "      <td>0.0</td>\n",
       "      <td>0.0</td>\n",
       "    </tr>\n",
       "    <tr>\n",
       "      <th>25005</th>\n",
       "      <td>4.0</td>\n",
       "      <td>1.0</td>\n",
       "      <td>4.0</td>\n",
       "      <td>10.0</td>\n",
       "      <td>3.0</td>\n",
       "      <td>13.0</td>\n",
       "      <td>3.0</td>\n",
       "      <td>4.0</td>\n",
       "      <td>1.0</td>\n",
       "      <td>10.0</td>\n",
       "      <td>0.0</td>\n",
       "      <td>1.0</td>\n",
       "      <td>0.0</td>\n",
       "      <td>0.0</td>\n",
       "      <td>0.0</td>\n",
       "      <td>0.0</td>\n",
       "      <td>0.0</td>\n",
       "      <td>0.0</td>\n",
       "      <td>0.0</td>\n",
       "      <td>0.0</td>\n",
       "    </tr>\n",
       "    <tr>\n",
       "      <th>25006</th>\n",
       "      <td>2.0</td>\n",
       "      <td>1.0</td>\n",
       "      <td>2.0</td>\n",
       "      <td>10.0</td>\n",
       "      <td>4.0</td>\n",
       "      <td>4.0</td>\n",
       "      <td>4.0</td>\n",
       "      <td>1.0</td>\n",
       "      <td>4.0</td>\n",
       "      <td>13.0</td>\n",
       "      <td>0.0</td>\n",
       "      <td>1.0</td>\n",
       "      <td>0.0</td>\n",
       "      <td>0.0</td>\n",
       "      <td>0.0</td>\n",
       "      <td>0.0</td>\n",
       "      <td>0.0</td>\n",
       "      <td>0.0</td>\n",
       "      <td>0.0</td>\n",
       "      <td>0.0</td>\n",
       "    </tr>\n",
       "  </tbody>\n",
       "</table>\n",
       "<p>25005 rows × 20 columns</p>\n",
       "</div>"
      ],
      "text/plain": [
       "       Suit_of_card_#1  Rank_of_card_#1  Suit_of_card_#2  Rank_of_card_#2  \\\n",
       "0                  2.0             11.0              2.0             13.0   \n",
       "1                  3.0             12.0              3.0             11.0   \n",
       "2                  4.0             10.0              4.0             11.0   \n",
       "3                  4.0              1.0              4.0             13.0   \n",
       "4                  1.0              2.0              1.0              4.0   \n",
       "...                ...              ...              ...              ...   \n",
       "25002              1.0             12.0              2.0              9.0   \n",
       "25003              3.0              5.0              3.0              7.0   \n",
       "25004              3.0              9.0              2.0              6.0   \n",
       "25005              4.0              1.0              4.0             10.0   \n",
       "25006              2.0              1.0              2.0             10.0   \n",
       "\n",
       "       Suit_of_card_#3  Rank_of_card_#3  Suit_of_card_#4  Rank_of_card_#4  \\\n",
       "0                  2.0             10.0              2.0             12.0   \n",
       "1                  3.0             13.0              3.0             10.0   \n",
       "2                  4.0              1.0              4.0             13.0   \n",
       "3                  4.0             12.0              4.0             11.0   \n",
       "4                  1.0              5.0              1.0              3.0   \n",
       "...                ...              ...              ...              ...   \n",
       "25002              2.0             12.0              4.0              8.0   \n",
       "25003              4.0             11.0              3.0             11.0   \n",
       "25004              4.0             11.0              4.0             12.0   \n",
       "25005              3.0             13.0              3.0              4.0   \n",
       "25006              4.0              4.0              4.0              1.0   \n",
       "\n",
       "       Suit_of_card_#5  Rank_of_card_#5  Poker_Hand=0  Poker_Hand=1  \\\n",
       "0                  2.0              1.0           0.0           0.0   \n",
       "1                  3.0              1.0           0.0           0.0   \n",
       "2                  4.0             12.0           0.0           0.0   \n",
       "3                  4.0             10.0           0.0           0.0   \n",
       "4                  1.0              6.0           0.0           0.0   \n",
       "...                ...              ...           ...           ...   \n",
       "25002              1.0             13.0           1.0           0.0   \n",
       "25003              3.0              2.0           0.0           1.0   \n",
       "25004              2.0              4.0           0.0           1.0   \n",
       "25005              1.0             10.0           0.0           1.0   \n",
       "25006              4.0             13.0           0.0           1.0   \n",
       "\n",
       "       Poker_Hand=2  Poker_Hand=3  Poker_Hand=4  Poker_Hand=5  Poker_Hand=6  \\\n",
       "0               0.0           0.0           0.0           0.0           0.0   \n",
       "1               0.0           0.0           0.0           0.0           0.0   \n",
       "2               0.0           0.0           0.0           0.0           0.0   \n",
       "3               0.0           0.0           0.0           0.0           0.0   \n",
       "4               0.0           0.0           0.0           0.0           0.0   \n",
       "...             ...           ...           ...           ...           ...   \n",
       "25002           0.0           0.0           0.0           0.0           0.0   \n",
       "25003           0.0           0.0           0.0           0.0           0.0   \n",
       "25004           0.0           0.0           0.0           0.0           0.0   \n",
       "25005           0.0           0.0           0.0           0.0           0.0   \n",
       "25006           0.0           0.0           0.0           0.0           0.0   \n",
       "\n",
       "       Poker_Hand=7  Poker_Hand=8  Poker_Hand=9  \n",
       "0               0.0           0.0           1.0  \n",
       "1               0.0           0.0           1.0  \n",
       "2               0.0           0.0           1.0  \n",
       "3               0.0           0.0           1.0  \n",
       "4               0.0           1.0           0.0  \n",
       "...             ...           ...           ...  \n",
       "25002           0.0           0.0           0.0  \n",
       "25003           0.0           0.0           0.0  \n",
       "25004           0.0           0.0           0.0  \n",
       "25005           0.0           0.0           0.0  \n",
       "25006           0.0           0.0           0.0  \n",
       "\n",
       "[25005 rows x 20 columns]"
      ]
     },
     "execution_count": 8,
     "metadata": {},
     "output_type": "execute_result"
    }
   ],
   "source": [
    "from sklearn.preprocessing import OneHotEncoder\n",
    "ohe = OneHotEncoder(sparse=False)\n",
    "new_ohe_features = ohe.fit_transform(poker_df.Poker_Hand.values.reshape(-1, 1))\n",
    "tmp = pd.DataFrame(new_ohe_features, columns=['Poker_Hand=' + str(i) for i in range(new_ohe_features.shape[1])])\n",
    "poker_df1 = pd.concat([poker_df, tmp], axis=1)\n",
    "poker_df1.drop('Poker_Hand', axis = 1, inplace = True)\n",
    "poker_df1.dropna(how = 'any', inplace = True)\n",
    "poker_df1"
   ]
  },
  {
   "cell_type": "markdown",
   "metadata": {},
   "source": [
    "## 6. Оцените корреляцию между признаков и удалите те признаки, которые коррелируют с наибольшим числом других (удалять признаки нужно только для линейных методов классификации);"
   ]
  },
  {
   "cell_type": "code",
   "execution_count": 9,
   "metadata": {},
   "outputs": [
    {
     "data": {
      "text/html": [
       "<div>\n",
       "<style scoped>\n",
       "    .dataframe tbody tr th:only-of-type {\n",
       "        vertical-align: middle;\n",
       "    }\n",
       "\n",
       "    .dataframe tbody tr th {\n",
       "        vertical-align: top;\n",
       "    }\n",
       "\n",
       "    .dataframe thead th {\n",
       "        text-align: right;\n",
       "    }\n",
       "</style>\n",
       "<table border=\"1\" class=\"dataframe\">\n",
       "  <thead>\n",
       "    <tr style=\"text-align: right;\">\n",
       "      <th></th>\n",
       "      <th>Suit_of_card_#1</th>\n",
       "      <th>Rank_of_card_#1</th>\n",
       "      <th>Suit_of_card_#2</th>\n",
       "      <th>Rank_of_card_#2</th>\n",
       "      <th>Suit_of_card_#3</th>\n",
       "      <th>Rank_of_card_#3</th>\n",
       "      <th>Suit_of_card_#4</th>\n",
       "      <th>Rank_of_card_#4</th>\n",
       "      <th>Suit_of_card_#5</th>\n",
       "      <th>Rank_of_card_#5</th>\n",
       "      <th>Poker_Hand</th>\n",
       "    </tr>\n",
       "  </thead>\n",
       "  <tbody>\n",
       "    <tr>\n",
       "      <th>Suit_of_card_#1</th>\n",
       "      <td>1.000000</td>\n",
       "      <td>-0.010230</td>\n",
       "      <td>-0.021322</td>\n",
       "      <td>0.008347</td>\n",
       "      <td>-0.019757</td>\n",
       "      <td>-0.009895</td>\n",
       "      <td>-0.017328</td>\n",
       "      <td>0.003920</td>\n",
       "      <td>-0.024211</td>\n",
       "      <td>0.006630</td>\n",
       "      <td>0.008805</td>\n",
       "    </tr>\n",
       "    <tr>\n",
       "      <th>Rank_of_card_#1</th>\n",
       "      <td>-0.010230</td>\n",
       "      <td>1.000000</td>\n",
       "      <td>0.004456</td>\n",
       "      <td>-0.010986</td>\n",
       "      <td>-0.000245</td>\n",
       "      <td>-0.026326</td>\n",
       "      <td>0.004152</td>\n",
       "      <td>-0.014413</td>\n",
       "      <td>0.004897</td>\n",
       "      <td>-0.016933</td>\n",
       "      <td>0.001976</td>\n",
       "    </tr>\n",
       "    <tr>\n",
       "      <th>Suit_of_card_#2</th>\n",
       "      <td>-0.021322</td>\n",
       "      <td>0.004456</td>\n",
       "      <td>1.000000</td>\n",
       "      <td>-0.002368</td>\n",
       "      <td>-0.029350</td>\n",
       "      <td>-0.005214</td>\n",
       "      <td>-0.021018</td>\n",
       "      <td>0.012123</td>\n",
       "      <td>-0.011914</td>\n",
       "      <td>0.005693</td>\n",
       "      <td>-0.000569</td>\n",
       "    </tr>\n",
       "    <tr>\n",
       "      <th>Rank_of_card_#2</th>\n",
       "      <td>0.008347</td>\n",
       "      <td>-0.010986</td>\n",
       "      <td>-0.002368</td>\n",
       "      <td>1.000000</td>\n",
       "      <td>-0.005290</td>\n",
       "      <td>-0.024747</td>\n",
       "      <td>-0.008415</td>\n",
       "      <td>-0.013062</td>\n",
       "      <td>0.000664</td>\n",
       "      <td>-0.016403</td>\n",
       "      <td>-0.005618</td>\n",
       "    </tr>\n",
       "    <tr>\n",
       "      <th>Suit_of_card_#3</th>\n",
       "      <td>-0.019757</td>\n",
       "      <td>-0.000245</td>\n",
       "      <td>-0.029350</td>\n",
       "      <td>-0.005290</td>\n",
       "      <td>1.000000</td>\n",
       "      <td>0.018007</td>\n",
       "      <td>-0.013073</td>\n",
       "      <td>0.001922</td>\n",
       "      <td>-0.030366</td>\n",
       "      <td>-0.002057</td>\n",
       "      <td>0.004516</td>\n",
       "    </tr>\n",
       "    <tr>\n",
       "      <th>Rank_of_card_#3</th>\n",
       "      <td>-0.009895</td>\n",
       "      <td>-0.026326</td>\n",
       "      <td>-0.005214</td>\n",
       "      <td>-0.024747</td>\n",
       "      <td>0.018007</td>\n",
       "      <td>1.000000</td>\n",
       "      <td>-0.003082</td>\n",
       "      <td>-0.016398</td>\n",
       "      <td>0.003831</td>\n",
       "      <td>-0.010804</td>\n",
       "      <td>-0.006966</td>\n",
       "    </tr>\n",
       "    <tr>\n",
       "      <th>Suit_of_card_#4</th>\n",
       "      <td>-0.017328</td>\n",
       "      <td>0.004152</td>\n",
       "      <td>-0.021018</td>\n",
       "      <td>-0.008415</td>\n",
       "      <td>-0.013073</td>\n",
       "      <td>-0.003082</td>\n",
       "      <td>1.000000</td>\n",
       "      <td>-0.008694</td>\n",
       "      <td>-0.018305</td>\n",
       "      <td>0.005180</td>\n",
       "      <td>-0.000950</td>\n",
       "    </tr>\n",
       "    <tr>\n",
       "      <th>Rank_of_card_#4</th>\n",
       "      <td>0.003920</td>\n",
       "      <td>-0.014413</td>\n",
       "      <td>0.012123</td>\n",
       "      <td>-0.013062</td>\n",
       "      <td>0.001922</td>\n",
       "      <td>-0.016398</td>\n",
       "      <td>-0.008694</td>\n",
       "      <td>1.000000</td>\n",
       "      <td>0.002860</td>\n",
       "      <td>-0.014653</td>\n",
       "      <td>0.009637</td>\n",
       "    </tr>\n",
       "    <tr>\n",
       "      <th>Suit_of_card_#5</th>\n",
       "      <td>-0.024211</td>\n",
       "      <td>0.004897</td>\n",
       "      <td>-0.011914</td>\n",
       "      <td>0.000664</td>\n",
       "      <td>-0.030366</td>\n",
       "      <td>0.003831</td>\n",
       "      <td>-0.018305</td>\n",
       "      <td>0.002860</td>\n",
       "      <td>1.000000</td>\n",
       "      <td>-0.003285</td>\n",
       "      <td>-0.005042</td>\n",
       "    </tr>\n",
       "    <tr>\n",
       "      <th>Rank_of_card_#5</th>\n",
       "      <td>0.006630</td>\n",
       "      <td>-0.016933</td>\n",
       "      <td>0.005693</td>\n",
       "      <td>-0.016403</td>\n",
       "      <td>-0.002057</td>\n",
       "      <td>-0.010804</td>\n",
       "      <td>0.005180</td>\n",
       "      <td>-0.014653</td>\n",
       "      <td>-0.003285</td>\n",
       "      <td>1.000000</td>\n",
       "      <td>-0.001695</td>\n",
       "    </tr>\n",
       "    <tr>\n",
       "      <th>Poker_Hand</th>\n",
       "      <td>0.008805</td>\n",
       "      <td>0.001976</td>\n",
       "      <td>-0.000569</td>\n",
       "      <td>-0.005618</td>\n",
       "      <td>0.004516</td>\n",
       "      <td>-0.006966</td>\n",
       "      <td>-0.000950</td>\n",
       "      <td>0.009637</td>\n",
       "      <td>-0.005042</td>\n",
       "      <td>-0.001695</td>\n",
       "      <td>1.000000</td>\n",
       "    </tr>\n",
       "  </tbody>\n",
       "</table>\n",
       "</div>"
      ],
      "text/plain": [
       "                 Suit_of_card_#1  Rank_of_card_#1  Suit_of_card_#2  \\\n",
       "Suit_of_card_#1         1.000000        -0.010230        -0.021322   \n",
       "Rank_of_card_#1        -0.010230         1.000000         0.004456   \n",
       "Suit_of_card_#2        -0.021322         0.004456         1.000000   \n",
       "Rank_of_card_#2         0.008347        -0.010986        -0.002368   \n",
       "Suit_of_card_#3        -0.019757        -0.000245        -0.029350   \n",
       "Rank_of_card_#3        -0.009895        -0.026326        -0.005214   \n",
       "Suit_of_card_#4        -0.017328         0.004152        -0.021018   \n",
       "Rank_of_card_#4         0.003920        -0.014413         0.012123   \n",
       "Suit_of_card_#5        -0.024211         0.004897        -0.011914   \n",
       "Rank_of_card_#5         0.006630        -0.016933         0.005693   \n",
       "Poker_Hand              0.008805         0.001976        -0.000569   \n",
       "\n",
       "                 Rank_of_card_#2  Suit_of_card_#3  Rank_of_card_#3  \\\n",
       "Suit_of_card_#1         0.008347        -0.019757        -0.009895   \n",
       "Rank_of_card_#1        -0.010986        -0.000245        -0.026326   \n",
       "Suit_of_card_#2        -0.002368        -0.029350        -0.005214   \n",
       "Rank_of_card_#2         1.000000        -0.005290        -0.024747   \n",
       "Suit_of_card_#3        -0.005290         1.000000         0.018007   \n",
       "Rank_of_card_#3        -0.024747         0.018007         1.000000   \n",
       "Suit_of_card_#4        -0.008415        -0.013073        -0.003082   \n",
       "Rank_of_card_#4        -0.013062         0.001922        -0.016398   \n",
       "Suit_of_card_#5         0.000664        -0.030366         0.003831   \n",
       "Rank_of_card_#5        -0.016403        -0.002057        -0.010804   \n",
       "Poker_Hand             -0.005618         0.004516        -0.006966   \n",
       "\n",
       "                 Suit_of_card_#4  Rank_of_card_#4  Suit_of_card_#5  \\\n",
       "Suit_of_card_#1        -0.017328         0.003920        -0.024211   \n",
       "Rank_of_card_#1         0.004152        -0.014413         0.004897   \n",
       "Suit_of_card_#2        -0.021018         0.012123        -0.011914   \n",
       "Rank_of_card_#2        -0.008415        -0.013062         0.000664   \n",
       "Suit_of_card_#3        -0.013073         0.001922        -0.030366   \n",
       "Rank_of_card_#3        -0.003082        -0.016398         0.003831   \n",
       "Suit_of_card_#4         1.000000        -0.008694        -0.018305   \n",
       "Rank_of_card_#4        -0.008694         1.000000         0.002860   \n",
       "Suit_of_card_#5        -0.018305         0.002860         1.000000   \n",
       "Rank_of_card_#5         0.005180        -0.014653        -0.003285   \n",
       "Poker_Hand             -0.000950         0.009637        -0.005042   \n",
       "\n",
       "                 Rank_of_card_#5  Poker_Hand  \n",
       "Suit_of_card_#1         0.006630    0.008805  \n",
       "Rank_of_card_#1        -0.016933    0.001976  \n",
       "Suit_of_card_#2         0.005693   -0.000569  \n",
       "Rank_of_card_#2        -0.016403   -0.005618  \n",
       "Suit_of_card_#3        -0.002057    0.004516  \n",
       "Rank_of_card_#3        -0.010804   -0.006966  \n",
       "Suit_of_card_#4         0.005180   -0.000950  \n",
       "Rank_of_card_#4        -0.014653    0.009637  \n",
       "Suit_of_card_#5        -0.003285   -0.005042  \n",
       "Rank_of_card_#5         1.000000   -0.001695  \n",
       "Poker_Hand             -0.001695    1.000000  "
      ]
     },
     "execution_count": 9,
     "metadata": {},
     "output_type": "execute_result"
    }
   ],
   "source": [
    "correlation_df = poker_df.corr()\n",
    "correlation_df"
   ]
  },
  {
   "cell_type": "code",
   "execution_count": 10,
   "metadata": {},
   "outputs": [
    {
     "data": {
      "text/plain": [
       "<matplotlib.axes._subplots.AxesSubplot at 0x1d05b69fd60>"
      ]
     },
     "execution_count": 10,
     "metadata": {},
     "output_type": "execute_result"
    },
    {
     "data": {
      "image/png": "[encoded data removed]",
      "text/plain": [
       "<Figure size 432x288 with 2 Axes>"
      ]
     },
     "metadata": {
      "needs_background": "light"
     },
     "output_type": "display_data"
    }
   ],
   "source": [
    "sns.heatmap(correlation_df)"
   ]
  },
  {
   "cell_type": "markdown",
   "metadata": {},
   "source": [
    "## 7. Заполните пропущенные значения в данных;"
   ]
  },
  {
   "cell_type": "code",
   "execution_count": 11,
   "metadata": {},
   "outputs": [
    {
     "data": {
      "text/plain": [
       "Suit_of_card_#1    0\n",
       "Rank_of_card_#1    0\n",
       "Suit_of_card_#2    0\n",
       "Rank_of_card_#2    0\n",
       "Suit_of_card_#3    0\n",
       "Rank_of_card_#3    0\n",
       "Suit_of_card_#4    0\n",
       "Rank_of_card_#4    0\n",
       "Suit_of_card_#5    0\n",
       "Rank_of_card_#5    0\n",
       "Poker_Hand         0\n",
       "dtype: int64"
      ]
     },
     "execution_count": 11,
     "metadata": {},
     "output_type": "execute_result"
    }
   ],
   "source": [
    "poker_df.isnull().sum()"
   ]
  },
  {
   "cell_type": "markdown",
   "metadata": {},
   "source": [
    "***В данном наборе данных нет пропущенных значений***"
   ]
  },
  {
   "cell_type": "markdown",
   "metadata": {},
   "source": [
    "## 8. Решите поставленную задачу классификации в соответствии с заданием."
   ]
  },
  {
   "cell_type": "code",
   "execution_count": 12,
   "metadata": {},
   "outputs": [],
   "source": [
    "from sklearn.model_selection import train_test_split\n",
    "\n",
    "# x_data, y_data = poker_df1.drop(columns=['Poker_Hand=0', 'Poker_Hand=1', 'Poker_Hand=2', 'Poker_Hand=3', 'Poker_Hand=4', 'Poker_Hand=5', 'Poker_Hand=6', 'Poker_Hand=7', 'Poker_Hand=8', 'Poker_Hand=9'], axis=1).values, poker_df1['Poker_Hand=9'].values\n",
    "\n",
    "# x_train, x_test, y_train, y_test = train_test_split(x_data, y_data, test_size=0.3)\n",
    "\n",
    "x = poker_df1.drop(columns=['Poker_Hand=0', 'Poker_Hand=1', 'Poker_Hand=2', 'Poker_Hand=3', 'Poker_Hand=4', 'Poker_Hand=5', 'Poker_Hand=6', 'Poker_Hand=7', 'Poker_Hand=8', 'Poker_Hand=9'], axis=1)\n",
    "y = poker_df1['Poker_Hand=0']\n",
    "\n",
    "x_train, x_test, y_train, y_test = train_test_split(x, y, test_size = 0.2, random_state = 0)"
   ]
  },
  {
   "cell_type": "markdown",
   "metadata": {},
   "source": [
    "### Классификатор K ближайших соседей (задаётся количество ближайших объектов)"
   ]
  },
  {
   "cell_type": "code",
   "execution_count": 13,
   "metadata": {},
   "outputs": [
    {
     "name": "stdout",
     "output_type": "stream",
     "text": [
      "best: 0.5401419145213697\n",
      "accuracy: 0.5480903819236153\n"
     ]
    }
   ],
   "source": [
    "from sklearn.neighbors import KNeighborsClassifier\n",
    "from sklearn.model_selection import GridSearchCV\n",
    "from sklearn.metrics import accuracy_score, precision_recall_curve, average_precision_score, roc_curve, auc\n",
    "\n",
    "knn = KNeighborsClassifier()\n",
    "\n",
    "search = GridSearchCV(knn, {'n_neighbors': [x for x in range(1, 50)]})\n",
    "search.fit(x_train, y_train)\n",
    "\n",
    "n = search.best_estimator_.n_neighbors\n",
    "best = search.best_score_\n",
    "\n",
    "knn = KNeighborsClassifier(n_neighbors=n)\n",
    "knn.fit(x_train, y_train)\n",
    "knn_predict = knn.predict(x_test)\n",
    "print('best:', best)\n",
    "print(\"accuracy:\", accuracy_score(y_test, knn_predict))"
   ]
  },
  {
   "cell_type": "markdown",
   "metadata": {},
   "source": [
    "### Логический классификатор (бинарное решающее дерево)"
   ]
  },
  {
   "cell_type": "code",
   "execution_count": 14,
   "metadata": {},
   "outputs": [
    {
     "name": "stdout",
     "output_type": "stream",
     "text": [
      " best: 0.5354927143214196 \n",
      " at features number: 9 \n",
      " at depth: 7\n",
      " Accuracy dtc: 0.52889\n"
     ]
    }
   ],
   "source": [
    "import numpy as np\n",
    "import warnings\n",
    "\n",
    "from sklearn.tree import DecisionTreeClassifier\n",
    "\n",
    "warnings.filterwarnings('ignore')\n",
    "\n",
    "dtc = DecisionTreeClassifier()\n",
    "params = {'max_depth': list(range(1,12)), 'max_features': list(range(1,12))}\n",
    "\n",
    "dtc_grid = GridSearchCV(dtc, params)\n",
    "dtc_grid.fit (x_train, y_train)\n",
    "\n",
    "best_features = dtc_grid.best_estimator_.max_features\n",
    "best_depth = dtc_grid.best_estimator_.max_depth\n",
    "best_score = dtc_grid.best_score_\n",
    "\n",
    "dtc = DecisionTreeClassifier(max_depth=best_depth, max_features=best_features)\n",
    "dtc.fit(x_train, y_train)\n",
    "accuracy_score  = np.mean(y_test == dtc.predict(x_test))\n",
    "print(' best:', best_score, \"\\n\", 'at features number:', best_features, \"\\n\", 'at depth:', best_depth)\n",
    "print(' Accuracy dtc: %.5f' % accuracy_score)"
   ]
  },
  {
   "cell_type": "markdown",
   "metadata": {},
   "source": [
    "## 9. Сравните кривые для классификаторов"
   ]
  },
  {
   "cell_type": "code",
   "execution_count": 15,
   "metadata": {},
   "outputs": [],
   "source": [
    "y_test_inversion = [1-y for y in y_test]\n",
    "\n",
    "prob_knn = knn.predict_proba(x_test)\n",
    "prob_dtc = dtc.predict_proba(x_test)"
   ]
  },
  {
   "cell_type": "markdown",
   "metadata": {},
   "source": [
    "### PR-Кривые"
   ]
  },
  {
   "cell_type": "code",
   "execution_count": 16,
   "metadata": {},
   "outputs": [],
   "source": [
    "def PR(prob, occupancy, label, test):\n",
    "    precision, recall, _ = precision_recall_curve(test, prob[:, occupancy])\n",
    "    aps = average_precision_score(test, prob[:, occupancy])\n",
    "    plt.plot(recall, precision, label='%s PR (area = %f)' % (label, aps))"
   ]
  },
  {
   "cell_type": "code",
   "execution_count": 17,
   "metadata": {},
   "outputs": [
    {
     "data": {
      "image/png": "[encoded data removed]",
      "text/plain": [
       "<Figure size 792x792 with 1 Axes>"
      ]
     },
     "metadata": {
      "needs_background": "light"
     },
     "output_type": "display_data"
    }
   ],
   "source": [
    "import matplotlib.pyplot as plt\n",
    "\n",
    "plt.figure(figsize=(11,11))\n",
    "\n",
    "PR(prob_knn, 0, 'KNeighborsClassifier', y_test_inversion)\n",
    "PR(prob_dtc, 0, 'DecisionTreeClassifier', y_test_inversion)\n",
    "\n",
    "plt.xlabel('Recall')\n",
    "plt.ylabel('Precision')\n",
    "plt.xlim([0.0, 1.0])\n",
    "plt.ylim([0.0, 1.0])\n",
    "plt.legend(loc=4, fontsize='medium')\n",
    "plt.show()"
   ]
  },
  {
   "cell_type": "code",
   "execution_count": 19,
   "metadata": {},
   "outputs": [
    {
     "data": {
      "image/png": "[encoded data removed]",
      "text/plain": [
       "<Figure size 792x792 with 1 Axes>"
      ]
     },
     "metadata": {
      "needs_background": "light"
     },
     "output_type": "display_data"
    }
   ],
   "source": [
    "plt.figure(figsize=(11,11))\n",
    "\n",
    "PR(prob_dtc, 1, 'DecisionTreeClassifier', y_test)\n",
    "PR(prob_knn, 1, 'KNeighborsClassifier', y_test)\n",
    "\n",
    "plt.xlabel('Recall')\n",
    "plt.ylabel('Precision')\n",
    "plt.xlim([0.0, 1.0])\n",
    "plt.ylim([0.0, 1.0])\n",
    "plt.legend(loc=4, fontsize='medium')\n",
    "plt.show()"
   ]
  },
  {
   "cell_type": "markdown",
   "metadata": {},
   "source": [
    "### ROC-Кривые"
   ]
  },
  {
   "cell_type": "code",
   "execution_count": 20,
   "metadata": {},
   "outputs": [],
   "source": [
    "def ROC0(prob, label, test):\n",
    "    tpr, fpr, _ = roc_curve(test, prob[:, 0])\n",
    "    roc_auc  = auc(fpr, tpr)\n",
    "    plt.plot(fpr, tpr, label='%s ROC (area = %f)' % (label, roc_auc)) \n",
    "\n",
    "def ROC1(prob, label, test):\n",
    "    fpr, tpr, _ = roc_curve(test, prob[:, 1])\n",
    "    roc_auc  = auc(fpr, tpr)\n",
    "    plt.plot(fpr, tpr, label='%s ROC (area = %f)' % (label, roc_auc))"
   ]
  },
  {
   "cell_type": "code",
   "execution_count": 21,
   "metadata": {},
   "outputs": [
    {
     "data": {
      "image/png": "[encoded data removed]",
      "text/plain": [
       "<Figure size 792x792 with 1 Axes>"
      ]
     },
     "metadata": {
      "needs_background": "light"
     },
     "output_type": "display_data"
    }
   ],
   "source": [
    "plt.figure(figsize=(11,11))\n",
    "\n",
    "ROC0(prob_knn, 'KNeighborsClassifier', y_test_inversion)\n",
    "ROC0(prob_dtc, 'DecisionTreeClassifier', y_test_inversion)\n",
    "\n",
    "plt.xlabel('False Positive Rate')\n",
    "plt.ylabel('True Positive Rate')\n",
    "plt.plot([0, 1], [0, 1], 'k--')\n",
    "plt.xlim([0.0, 1.0])\n",
    "plt.ylim([0.0, 1.0])\n",
    "plt.legend(loc=4, fontsize='medium')\n",
    "plt.show()"
   ]
  },
  {
   "cell_type": "code",
   "execution_count": 22,
   "metadata": {},
   "outputs": [
    {
     "data": {
      "image/png": "[encoded data removed]",
      "text/plain": [
       "<Figure size 792x792 with 1 Axes>"
      ]
     },
     "metadata": {
      "needs_background": "light"
     },
     "output_type": "display_data"
    }
   ],
   "source": [
    "plt.figure(figsize=(11,11))\n",
    "\n",
    "ROC1(prob_knn, 'KNeighborsClassifier', y_test)\n",
    "ROC1(prob_dtc, 'DecisionTreeClassifier', y_test)\n",
    "\n",
    "plt.xlabel('False Positive Rate')\n",
    "plt.ylabel('True Positive Rate')\n",
    "plt.plot([0, 1], [0, 1], 'k--')\n",
    "plt.xlim([0.0, 1.0])\n",
    "plt.ylim([0.0, 1.0])\n",
    "plt.legend(loc=4, fontsize='medium')\n",
    "plt.show()"
   ]
  },
  {
   "cell_type": "code",
   "execution_count": null,
   "metadata": {},
   "outputs": [],
   "source": []
  }
 ],
 "metadata": {
  "kernelspec": {
   "display_name": "Python 3",
   "language": "python",
   "name": "python3"
  },
  "language_info": {
   "codemirror_mode": {
    "name": "ipython",
    "version": 3
   },
   "file_extension": ".py",
   "mimetype": "text/x-python",
   "name": "python",
   "nbconvert_exporter": "python",
   "pygments_lexer": "ipython3",
   "version": "3.8.3rc1"
  }
 },
 "nbformat": 4,
 "nbformat_minor": 4
}
