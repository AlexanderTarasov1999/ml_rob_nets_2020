{
 "cells": [
  {
   "cell_type": "markdown",
   "metadata": {},
   "source": [
    "### Лабараторная работа 3"
   ]
  },
  {
   "cell_type": "markdown",
   "metadata": {},
   "source": [
    "## Тарасов Александр 17-АС вариант 20 "
   ]
  },
  {
   "cell_type": "markdown",
   "metadata": {},
   "source": [
    " 1.Изучить набор данных. Создать описание набора данных на русском языке. Описать признаки, используемые в наборе данных (включить полученные описания в отчёт).\n",
    "\n",
    "2.Удалите дубликаты строк в наборе данных; приведите размер набора данных до и после данной операции;\n",
    "\n",
    "3.Выполните масштабирование количественных признаков; Постройте диаграммы BoxPlot для признаков до и после масштабирования. Выберите способ масштабирования (например, нормализацию или стандартизацию);\n",
    "\n",
    "4.Выполните замену категориальных признаков; выберите и обоснуйте способ замены;\n",
    "\n",
    "5.Оцените корреляцию между признаков и удалите те признаки, которые коррелируют с наибольшим числом других;\n",
    "\n",
    "6.Заполните пропущенные значения в данных;\n",
    "\n",
    "7.Решите поставленную задачу регрессии в соответствии с заданием. При подборе параметров метода принятия решения (метода регрессии) используйте перекрёстную проверку (изучите возможные для изменения параметры метода регрессии).  Вычислите точность решения задачи, вычислив разницу между реальным значением и предсказанным. Вычислите коэффициент корреляции (Пирсона, Спирмена) между реальным значением и предсказанным с учётом p-value. \n",
    "\n",
    "\n",
    "**Кодировка классификаторов:**\n",
    "\n",
    "**1 – линейная регрессия без использования регуляризаторов;**\n",
    "\n",
    "**2 – линейная регрессия, LASSO регуляризатор;**\n",
    " \n",
    "\n",
    " \n"
   ]
  },
  {
   "cell_type": "markdown",
   "metadata": {},
   "source": [
    "**1.Изучить набор данных. Создать описание набора данных на русском языке. Описать признаки, используемые в наборе данных .**"
   ]
  },
  {
   "cell_type": "code",
   "execution_count": 2,
   "metadata": {},
   "outputs": [],
   "source": [
    "import pandas as pd\n",
    "%matplotlib inline\n"
   ]
  },
  {
   "cell_type": "code",
   "execution_count": 3,
   "metadata": {},
   "outputs": [
    {
     "data": {
      "text/html": [
       "<div>\n",
       "<style scoped>\n",
       "    .dataframe tbody tr th:only-of-type {\n",
       "        vertical-align: middle;\n",
       "    }\n",
       "\n",
       "    .dataframe tbody tr th {\n",
       "        vertical-align: top;\n",
       "    }\n",
       "\n",
       "    .dataframe thead th {\n",
       "        text-align: right;\n",
       "    }\n",
       "</style>\n",
       "<table border=\"1\" class=\"dataframe\">\n",
       "  <thead>\n",
       "    <tr style=\"text-align: right;\">\n",
       "      <th></th>\n",
       "      <th>Frequency</th>\n",
       "      <th>Angle of attack</th>\n",
       "      <th>Chord length</th>\n",
       "      <th>Free-stream velocity</th>\n",
       "      <th>Suction side displacement thickness</th>\n",
       "      <th>Scaled sound pressure level</th>\n",
       "    </tr>\n",
       "  </thead>\n",
       "  <tbody>\n",
       "    <tr>\n",
       "      <th>0</th>\n",
       "      <td>800</td>\n",
       "      <td>0</td>\n",
       "      <td>0.3048</td>\n",
       "      <td>71.3</td>\n",
       "      <td>0.002663</td>\n",
       "      <td>126.201</td>\n",
       "    </tr>\n",
       "    <tr>\n",
       "      <th>1</th>\n",
       "      <td>1000</td>\n",
       "      <td>0</td>\n",
       "      <td>0.3048</td>\n",
       "      <td>71.3</td>\n",
       "      <td>0.002663</td>\n",
       "      <td>125.201</td>\n",
       "    </tr>\n",
       "    <tr>\n",
       "      <th>2</th>\n",
       "      <td>1250</td>\n",
       "      <td>0</td>\n",
       "      <td>0.3048</td>\n",
       "      <td>71.3</td>\n",
       "      <td>0.002663</td>\n",
       "      <td>125.951</td>\n",
       "    </tr>\n",
       "    <tr>\n",
       "      <th>3</th>\n",
       "      <td>1600</td>\n",
       "      <td>0</td>\n",
       "      <td>0.3048</td>\n",
       "      <td>71.3</td>\n",
       "      <td>0.002663</td>\n",
       "      <td>127.591</td>\n",
       "    </tr>\n",
       "    <tr>\n",
       "      <th>4</th>\n",
       "      <td>2000</td>\n",
       "      <td>0</td>\n",
       "      <td>0.3048</td>\n",
       "      <td>71.3</td>\n",
       "      <td>0.002663</td>\n",
       "      <td>127.461</td>\n",
       "    </tr>\n",
       "  </tbody>\n",
       "</table>\n",
       "</div>"
      ],
      "text/plain": [
       "   Frequency  Angle of attack  Chord length  Free-stream velocity  \\\n",
       "0        800                0        0.3048                  71.3   \n",
       "1       1000                0        0.3048                  71.3   \n",
       "2       1250                0        0.3048                  71.3   \n",
       "3       1600                0        0.3048                  71.3   \n",
       "4       2000                0        0.3048                  71.3   \n",
       "\n",
       "   Suction side displacement thickness  Scaled sound pressure level  \n",
       "0                             0.002663                      126.201  \n",
       "1                             0.002663                      125.201  \n",
       "2                             0.002663                      125.951  \n",
       "3                             0.002663                      127.591  \n",
       "4                             0.002663                      127.461  "
      ]
     },
     "execution_count": 3,
     "metadata": {},
     "output_type": "execute_result"
    }
   ],
   "source": [
    "nasa = pd.read_csv('airfoil_self_noise.dat.txt')\n",
    "nasa.head()"
   ]
  },
  {
   "cell_type": "code",
   "execution_count": 3,
   "metadata": {},
   "outputs": [
    {
     "data": {
      "text/plain": [
       "(1503, 6)"
      ]
     },
     "execution_count": 3,
     "metadata": {},
     "output_type": "execute_result"
    }
   ],
   "source": [
    "nasa.shape"
   ]
  },
  {
   "cell_type": "code",
   "execution_count": 4,
   "metadata": {},
   "outputs": [
    {
     "data": {
      "text/plain": [
       "Frequency                                21\n",
       "Angle of attack                          27\n",
       "Chord length                              6\n",
       "Free-stream velocity                      4\n",
       "Suction side displacement thickness     105\n",
       "Scaled sound pressure level            1456\n",
       "dtype: int64"
      ]
     },
     "execution_count": 4,
     "metadata": {},
     "output_type": "execute_result"
    }
   ],
   "source": [
    "nasa.nunique()"
   ]
  },
  {
   "cell_type": "markdown",
   "metadata": {},
   "source": [
    "1.Frequency - Частота, в герцах\n",
    "\n",
    "2.Angle of attack - Угол атаки, в градусах \n",
    "\n",
    "3.Chord length - Длина хорды, в метрах\n",
    "\n",
    "4.Free-stream velocity - Скорость свободного потока, в метрах в секунду\n",
    "\n",
    "5.Suction side displacement thickness - Толщина смещения стороны всасывания, в метрах\n",
    "\n",
    "6.Scaled sound pressure level - Масштабированный уровень звукового давления, в децибелах\n",
    "\n",
    " "
   ]
  },
  {
   "cell_type": "markdown",
   "metadata": {},
   "source": [
    "**2.Удалите дубликаты строк в наборе данных; приведите размер набора данных до и после данной операции;**"
   ]
  },
  {
   "cell_type": "code",
   "execution_count": 5,
   "metadata": {},
   "outputs": [
    {
     "name": "stdout",
     "output_type": "stream",
     "text": [
      "Размер набора данных до удаления дубликатов:  (1503, 6)\n",
      "Размер набора данных после удаления дубликатов: (1503, 6)\n"
     ]
    }
   ],
   "source": [
    "print(\"Размер набора данных до удаления дубликатов: \", nasa.shape)\n",
    "print(\"Размер набора данных после удаления дубликатов:\", nasa.drop_duplicates().dropna().shape) "
   ]
  },
  {
   "cell_type": "markdown",
   "metadata": {},
   "source": [
    "**3.Выполните масштабирование количественных признаков; Постройте диаграммы BoxPlot для признаков до и после масштабирования. Выберите способ масштабирования (например, нормализацию или стандартизацию)**"
   ]
  },
  {
   "cell_type": "code",
   "execution_count": 16,
   "metadata": {},
   "outputs": [
    {
     "name": "stdout",
     "output_type": "stream",
     "text": [
      "Количественные признаки:  ['Frequency', 'Angle of attack', 'Chord length', 'Free-stream velocity', 'Suction side displacement thickness', 'Scaled sound pressure level']\n"
     ]
    }
   ],
   "source": [
    "from sklearn.preprocessing import MinMaxScaler\n",
    "import seaborn as sns\n",
    "import matplotlib.pyplot as plt\n",
    "signs = [i for i in nasa.columns if nasa[i].dtype.name != 'object']\n",
    "print('Количественные признаки: ', signs)\n"
   ]
  },
  {
   "cell_type": "markdown",
   "metadata": {},
   "source": [
    "До масштабирования"
   ]
  },
  {
   "cell_type": "code",
   "execution_count": 7,
   "metadata": {},
   "outputs": [
    {
     "data": {
      "image/png": "[encoded data removed]",
      "text/plain": [
       "<Figure size 432x288 with 1 Axes>"
      ]
     },
     "metadata": {
      "needs_background": "light"
     },
     "output_type": "display_data"
    }
   ],
   "source": [
    "signs = ['Frequency', 'Angle of attack', 'Chord length', 'Free-stream velocity', 'Suction side displacement thickness', 'Scaled sound pressure level']\n",
    "sns.boxplot(data=nasa[signs])\n",
    "plt.show()"
   ]
  },
  {
   "cell_type": "markdown",
   "metadata": {},
   "source": [
    "После масштабирования"
   ]
  },
  {
   "cell_type": "code",
   "execution_count": 18,
   "metadata": {},
   "outputs": [
    {
     "data": {
      "text/html": [
       "<div>\n",
       "<style scoped>\n",
       "    .dataframe tbody tr th:only-of-type {\n",
       "        vertical-align: middle;\n",
       "    }\n",
       "\n",
       "    .dataframe tbody tr th {\n",
       "        vertical-align: top;\n",
       "    }\n",
       "\n",
       "    .dataframe thead th {\n",
       "        text-align: right;\n",
       "    }\n",
       "</style>\n",
       "<table border=\"1\" class=\"dataframe\">\n",
       "  <thead>\n",
       "    <tr style=\"text-align: right;\">\n",
       "      <th></th>\n",
       "      <th>Frequency</th>\n",
       "      <th>Angle of attack</th>\n",
       "      <th>Chord length</th>\n",
       "      <th>Free-stream velocity</th>\n",
       "      <th>Suction side displacement thickness</th>\n",
       "      <th>Scaled sound pressure level</th>\n",
       "    </tr>\n",
       "  </thead>\n",
       "  <tbody>\n",
       "    <tr>\n",
       "      <th>0</th>\n",
       "      <td>0.030303</td>\n",
       "      <td>0.0</td>\n",
       "      <td>1.0</td>\n",
       "      <td>0.00072</td>\n",
       "      <td>0.039005</td>\n",
       "      <td>0.606829</td>\n",
       "    </tr>\n",
       "    <tr>\n",
       "      <th>1</th>\n",
       "      <td>0.040404</td>\n",
       "      <td>0.0</td>\n",
       "      <td>1.0</td>\n",
       "      <td>0.00072</td>\n",
       "      <td>0.039005</td>\n",
       "      <td>0.580238</td>\n",
       "    </tr>\n",
       "    <tr>\n",
       "      <th>2</th>\n",
       "      <td>0.053030</td>\n",
       "      <td>0.0</td>\n",
       "      <td>1.0</td>\n",
       "      <td>0.00072</td>\n",
       "      <td>0.039005</td>\n",
       "      <td>0.600181</td>\n",
       "    </tr>\n",
       "    <tr>\n",
       "      <th>3</th>\n",
       "      <td>0.070707</td>\n",
       "      <td>0.0</td>\n",
       "      <td>1.0</td>\n",
       "      <td>0.00072</td>\n",
       "      <td>0.039005</td>\n",
       "      <td>0.643790</td>\n",
       "    </tr>\n",
       "    <tr>\n",
       "      <th>4</th>\n",
       "      <td>0.090909</td>\n",
       "      <td>0.0</td>\n",
       "      <td>1.0</td>\n",
       "      <td>0.00072</td>\n",
       "      <td>0.039005</td>\n",
       "      <td>0.640333</td>\n",
       "    </tr>\n",
       "  </tbody>\n",
       "</table>\n",
       "</div>"
      ],
      "text/plain": [
       "   Frequency  Angle of attack  Chord length  Free-stream velocity  \\\n",
       "0   0.030303              0.0           1.0               0.00072   \n",
       "1   0.040404              0.0           1.0               0.00072   \n",
       "2   0.053030              0.0           1.0               0.00072   \n",
       "3   0.070707              0.0           1.0               0.00072   \n",
       "4   0.090909              0.0           1.0               0.00072   \n",
       "\n",
       "   Suction side displacement thickness  Scaled sound pressure level  \n",
       "0                             0.039005                     0.606829  \n",
       "1                             0.039005                     0.580238  \n",
       "2                             0.039005                     0.600181  \n",
       "3                             0.039005                     0.643790  \n",
       "4                             0.039005                     0.640333  "
      ]
     },
     "execution_count": 18,
     "metadata": {},
     "output_type": "execute_result"
    }
   ],
   "source": [
    "nasa[signs] = MinMaxScaler().fit_transform(nasa[signs])\n",
    "nasa.head()"
   ]
  },
  {
   "cell_type": "code",
   "execution_count": 19,
   "metadata": {},
   "outputs": [
    {
     "data": {
      "image/png": "[encoded data removed]",
      "text/plain": [
       "<Figure size 432x288 with 1 Axes>"
      ]
     },
     "metadata": {
      "needs_background": "light"
     },
     "output_type": "display_data"
    }
   ],
   "source": [
    "signs = ['Frequency', 'Angle of attack', 'Chord length', 'Free-stream velocity', 'Suction side displacement thickness', 'Scaled sound pressure level']\n",
    "sns.boxplot(data=nasa[signs])\n",
    "plt.show()"
   ]
  },
  {
   "cell_type": "markdown",
   "metadata": {},
   "source": [
    "**4.Выполните замену категориальных признаков**\n"
   ]
  },
  {
   "cell_type": "markdown",
   "metadata": {},
   "source": [
    "В данном варианте категориальных признаков нет"
   ]
  },
  {
   "cell_type": "markdown",
   "metadata": {},
   "source": [
    "**5.Оцените корреляцию**"
   ]
  },
  {
   "cell_type": "code",
   "execution_count": 10,
   "metadata": {},
   "outputs": [
    {
     "data": {
      "text/plain": [
       "<matplotlib.axes._subplots.AxesSubplot at 0x270ddf3ee88>"
      ]
     },
     "execution_count": 10,
     "metadata": {},
     "output_type": "execute_result"
    },
    {
     "data": {
      "image/png": "[encoded data removed]",
      "text/plain": [
       "<Figure size 432x288 with 2 Axes>"
      ]
     },
     "metadata": {
      "needs_background": "light"
     },
     "output_type": "display_data"
    }
   ],
   "source": [
    "import seaborn as sns\n",
    "corr = nasa.corr()\n",
    "sns.heatmap(corr)"
   ]
  },
  {
   "cell_type": "markdown",
   "metadata": {},
   "source": [
    "**6.Заполните пропущенные значения в данных**"
   ]
  },
  {
   "cell_type": "code",
   "execution_count": 11,
   "metadata": {},
   "outputs": [
    {
     "data": {
      "text/plain": [
       "Frequency                              1503\n",
       "Angle of attack                        1503\n",
       "Chord length                           1503\n",
       "Free-stream velocity                   1503\n",
       "Suction side displacement thickness    1503\n",
       "Scaled sound pressure level            1503\n",
       "dtype: int64"
      ]
     },
     "execution_count": 11,
     "metadata": {},
     "output_type": "execute_result"
    }
   ],
   "source": [
    "nasa.count()"
   ]
  },
  {
   "cell_type": "markdown",
   "metadata": {},
   "source": [
    "Пропущенных значений в данных нет"
   ]
  },
  {
   "cell_type": "markdown",
   "metadata": {},
   "source": [
    "**7.Решите поставленную задачу регрессии в соответствии с заданием**"
   ]
  },
  {
   "cell_type": "code",
   "execution_count": 7,
   "metadata": {},
   "outputs": [],
   "source": [
    "import numpy as np\n",
    "from scipy.stats import pearsonr, spearmanr\n",
    "from sklearn.linear_model import LinearRegression, Ridge\n",
    "from sklearn.linear_model import Lasso\n",
    "from sklearn.model_selection import train_test_split, GridSearchCV"
   ]
  },
  {
   "cell_type": "markdown",
   "metadata": {},
   "source": [
    "**линейная регрессия без использования регуляризаторов**"
   ]
  },
  {
   "cell_type": "code",
   "execution_count": 8,
   "metadata": {},
   "outputs": [
    {
     "name": "stdout",
     "output_type": "stream",
     "text": [
      "61      1.963940\n",
      "1025   -7.878605\n",
      "1333   -3.084607\n",
      "817     4.469357\n",
      "725     2.700551\n",
      "569     0.797016\n",
      "1019    6.219870\n",
      "1023   -7.694367\n",
      "256     3.551818\n",
      "1079   -1.472368\n",
      "1401   -0.660119\n",
      "28      1.038045\n",
      "712    -0.707226\n",
      "981    -8.849998\n",
      "196     1.718236\n",
      "Name: Scaled sound pressure level, dtype: float64\n"
     ]
    }
   ],
   "source": [
    "data_x, data_y = nasa.drop(['Scaled sound pressure level'], axis=1),nasa['Scaled sound pressure level']\n",
    "train_x, test_x, train_y, test_y = train_test_split(data_x, data_y, test_size = 0.3, random_state = 123)\n",
    "\n",
    "reg = LinearRegression()\n",
    "reg.fit(train_x, train_y)\n",
    "pred_reg = reg.predict(test_x)\n",
    "print(pred_reg[:15] - test_y[:15])"
   ]
  },
  {
   "cell_type": "code",
   "execution_count": 10,
   "metadata": {},
   "outputs": [
    {
     "name": "stdout",
     "output_type": "stream",
     "text": [
      "Pearson correlation: 0.6823526325734806 p_value: 4.421326066927666e-63\n",
      "Spearman correlation: 0.6253071020049413 p_value: 2.649356578955047e-50\n",
      "p-value is good\n"
     ]
    }
   ],
   "source": [
    "P, p_value_P = pearsonr(pred_reg, test_y)\n",
    "S, p_value_S = spearmanr(pred_reg, test_y)\n",
    "print(f\"Pearson correlation: {P} p_value: {p_value_P}\\nSpearman correlation: {S} p_value: {p_value_S}\")\n",
    "if p_value_P < 0.05 and p_value_S < 0.05:\n",
    "    print('p-value is good')\n",
    "else:\n",
    "    print('p-value is not good')\n"
   ]
  },
  {
   "cell_type": "markdown",
   "metadata": {},
   "source": [
    "**линейная регрессия, LASSO регуляризатор**"
   ]
  },
  {
   "cell_type": "code",
   "execution_count": 12,
   "metadata": {},
   "outputs": [
    {
     "name": "stdout",
     "output_type": "stream",
     "text": [
      "Best alpha: 0.01\n"
     ]
    }
   ],
   "source": [
    "lasso = Lasso()\n",
    "params = {'alpha': np.arange(0.01, 1, 0.005)}\n",
    "grid_search = GridSearchCV(lasso, params)\n",
    "grid_search.fit(train_x, train_y)\n",
    "best = grid_search.best_estimator_.alpha\n",
    "print('Best alpha:', best)\n",
    "\n",
    "lasso = Lasso(alpha=best)\n",
    "lasso.fit(train_x,train_y)\n",
    "predict_regulate = lasso.predict(test_x)\n",
    "pearson, pearson_p_value = pearsonr(predict_regulate, test_y)\n",
    "spearman, spearman_p_value = spearmanr(predict_regulate, test_y)\n"
   ]
  },
  {
   "cell_type": "code",
   "execution_count": 14,
   "metadata": {},
   "outputs": [
    {
     "name": "stdout",
     "output_type": "stream",
     "text": [
      "Pearson correlation: 0.524817570672555 p_value: 2.75828350921463e-33\n",
      "Spearmen correlation: 0.46445210490703553 p_value: 1.638698291784637e-25\n",
      "p-value is good\n"
     ]
    }
   ],
   "source": [
    "P, p_value_P = pearsonr(pred_reg, test_y)\n",
    "S, p_value_S = spearmanr(pred_reg, test_y)\n",
    "print(f\"Pearson correlation: {P} p_value: {p_value_P}\\nSpearmen correlation: {S} p_value: {p_value_S}\")\n",
    "if p_value_P < 0.05 and p_value_S < 0.05:\n",
    "    print('p-value is good')\n",
    "else:\n",
    "    print('p-value is not good')\n"
   ]
  }
 ],
 "metadata": {
  "kernelspec": {
   "display_name": "Python 3",
   "language": "python",
   "name": "python3"
  },
  "language_info": {
   "codemirror_mode": {
    "name": "ipython",
    "version": 3
   },
   "file_extension": ".py",
   "mimetype": "text/x-python",
   "name": "python",
   "nbconvert_exporter": "python",
   "pygments_lexer": "ipython3",
   "version": "3.8.3"
  }
 },
 "nbformat": 4,
 "nbformat_minor": 4
}
