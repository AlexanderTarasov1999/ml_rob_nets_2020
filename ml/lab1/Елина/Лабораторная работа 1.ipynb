{
 "cells": [
  {
   "cell_type": "markdown",
   "metadata": {},
   "source": [
    "## Выполнила студентка группы 17-АСВ Елина Алина \n",
    " \n",
    "<b>Цель лабораторной работы</b> – получение навыков работы с библиотеками анализа данных, предварительной обработки данных, средствами визуализации.\n",
    "<b>Задание:</b> 7 вариант - Камеры: \n",
    "#### 1) Визуализируйте корреляции между признаками, находящимися в наборе данных (heatmap). Сделайте выводы\n",
    "#### 2) Вычислите корреляцию Пирсона и Спирмена между Price и Max (Min) Resolution. Сравните полученные величины корреляции. Постройте гистограммы для указанных признаков. Оцените значение p-value\n",
    "#### 3) Постройте график изменения средней цены на камеры по годам\n",
    "#### 4) Определите компанию, камеры которой наиболее часто встречаются в наборе данных\n",
    "#### 5) Добавьте в набор данных признак, являющийся произведением двух других признаков\n",
    "#### 6) Удалите строки с нулевыми значениями в данных. Выведите размер набора данных до и после удаления\n",
    "#### 7) Определите камеру с максимальной стоимостью, определите камеру с минимальной стоимостью\n",
    "#### 8) Определите год, в который было выпущено максимально количество новых камер"
   ]
  },
  {
   "cell_type": "code",
   "execution_count": 19,
   "metadata": {},
   "outputs": [
    {
     "data": {
      "text/html": [
       "<div>\n",
       "<style scoped>\n",
       "    .dataframe tbody tr th:only-of-type {\n",
       "        vertical-align: middle;\n",
       "    }\n",
       "\n",
       "    .dataframe tbody tr th {\n",
       "        vertical-align: top;\n",
       "    }\n",
       "\n",
       "    .dataframe thead th {\n",
       "        text-align: right;\n",
       "    }\n",
       "</style>\n",
       "<table border=\"1\" class=\"dataframe\">\n",
       "  <thead>\n",
       "    <tr style=\"text-align: right;\">\n",
       "      <th></th>\n",
       "      <th>Model</th>\n",
       "      <th>Release date</th>\n",
       "      <th>Max resolution</th>\n",
       "      <th>Low resolution</th>\n",
       "      <th>Effective pixels</th>\n",
       "      <th>Zoom wide (W)</th>\n",
       "      <th>Zoom tele (T)</th>\n",
       "      <th>Normal focus range</th>\n",
       "      <th>Macro focus range</th>\n",
       "      <th>Storage included</th>\n",
       "      <th>Weight (inc. batteries)</th>\n",
       "      <th>Dimensions</th>\n",
       "      <th>Price</th>\n",
       "    </tr>\n",
       "  </thead>\n",
       "  <tbody>\n",
       "    <tr>\n",
       "      <th>0</th>\n",
       "      <td>STRING</td>\n",
       "      <td>DOUBLE</td>\n",
       "      <td>DOUBLE</td>\n",
       "      <td>DOUBLE</td>\n",
       "      <td>DOUBLE</td>\n",
       "      <td>DOUBLE</td>\n",
       "      <td>DOUBLE</td>\n",
       "      <td>DOUBLE</td>\n",
       "      <td>DOUBLE</td>\n",
       "      <td>DOUBLE</td>\n",
       "      <td>DOUBLE</td>\n",
       "      <td>DOUBLE</td>\n",
       "      <td>DOUBLE</td>\n",
       "    </tr>\n",
       "    <tr>\n",
       "      <th>1</th>\n",
       "      <td>Agfa ePhoto 1280</td>\n",
       "      <td>1997</td>\n",
       "      <td>1024.0</td>\n",
       "      <td>640.0</td>\n",
       "      <td>0.0</td>\n",
       "      <td>38.0</td>\n",
       "      <td>114.0</td>\n",
       "      <td>70.0</td>\n",
       "      <td>40.0</td>\n",
       "      <td>4.0</td>\n",
       "      <td>420.0</td>\n",
       "      <td>95.0</td>\n",
       "      <td>179.0</td>\n",
       "    </tr>\n",
       "    <tr>\n",
       "      <th>2</th>\n",
       "      <td>Agfa ePhoto 1680</td>\n",
       "      <td>1998</td>\n",
       "      <td>1280.0</td>\n",
       "      <td>640.0</td>\n",
       "      <td>1.0</td>\n",
       "      <td>38.0</td>\n",
       "      <td>114.0</td>\n",
       "      <td>50.0</td>\n",
       "      <td>0.0</td>\n",
       "      <td>4.0</td>\n",
       "      <td>420.0</td>\n",
       "      <td>158.0</td>\n",
       "      <td>179.0</td>\n",
       "    </tr>\n",
       "    <tr>\n",
       "      <th>3</th>\n",
       "      <td>Agfa ePhoto CL18</td>\n",
       "      <td>2000</td>\n",
       "      <td>640.0</td>\n",
       "      <td>0.0</td>\n",
       "      <td>0.0</td>\n",
       "      <td>45.0</td>\n",
       "      <td>45.0</td>\n",
       "      <td>0.0</td>\n",
       "      <td>0.0</td>\n",
       "      <td>2.0</td>\n",
       "      <td>0.0</td>\n",
       "      <td>0.0</td>\n",
       "      <td>179.0</td>\n",
       "    </tr>\n",
       "    <tr>\n",
       "      <th>4</th>\n",
       "      <td>Agfa ePhoto CL30</td>\n",
       "      <td>1999</td>\n",
       "      <td>1152.0</td>\n",
       "      <td>640.0</td>\n",
       "      <td>0.0</td>\n",
       "      <td>35.0</td>\n",
       "      <td>35.0</td>\n",
       "      <td>0.0</td>\n",
       "      <td>0.0</td>\n",
       "      <td>4.0</td>\n",
       "      <td>0.0</td>\n",
       "      <td>0.0</td>\n",
       "      <td>269.0</td>\n",
       "    </tr>\n",
       "    <tr>\n",
       "      <th>...</th>\n",
       "      <td>...</td>\n",
       "      <td>...</td>\n",
       "      <td>...</td>\n",
       "      <td>...</td>\n",
       "      <td>...</td>\n",
       "      <td>...</td>\n",
       "      <td>...</td>\n",
       "      <td>...</td>\n",
       "      <td>...</td>\n",
       "      <td>...</td>\n",
       "      <td>...</td>\n",
       "      <td>...</td>\n",
       "      <td>...</td>\n",
       "    </tr>\n",
       "    <tr>\n",
       "      <th>1034</th>\n",
       "      <td>Toshiba PDR-M65</td>\n",
       "      <td>2001</td>\n",
       "      <td>2048.0</td>\n",
       "      <td>1024.0</td>\n",
       "      <td>3.0</td>\n",
       "      <td>38.0</td>\n",
       "      <td>114.0</td>\n",
       "      <td>10.0</td>\n",
       "      <td>10.0</td>\n",
       "      <td>8.0</td>\n",
       "      <td>320.0</td>\n",
       "      <td>120.0</td>\n",
       "      <td>62.0</td>\n",
       "    </tr>\n",
       "    <tr>\n",
       "      <th>1035</th>\n",
       "      <td>Toshiba PDR-M70</td>\n",
       "      <td>2000</td>\n",
       "      <td>2048.0</td>\n",
       "      <td>1024.0</td>\n",
       "      <td>3.0</td>\n",
       "      <td>35.0</td>\n",
       "      <td>105.0</td>\n",
       "      <td>80.0</td>\n",
       "      <td>9.0</td>\n",
       "      <td>16.0</td>\n",
       "      <td>390.0</td>\n",
       "      <td>116.0</td>\n",
       "      <td>62.0</td>\n",
       "    </tr>\n",
       "    <tr>\n",
       "      <th>1036</th>\n",
       "      <td>Toshiba PDR-M71</td>\n",
       "      <td>2001</td>\n",
       "      <td>2048.0</td>\n",
       "      <td>1024.0</td>\n",
       "      <td>3.0</td>\n",
       "      <td>35.0</td>\n",
       "      <td>98.0</td>\n",
       "      <td>80.0</td>\n",
       "      <td>10.0</td>\n",
       "      <td>8.0</td>\n",
       "      <td>340.0</td>\n",
       "      <td>107.0</td>\n",
       "      <td>62.0</td>\n",
       "    </tr>\n",
       "    <tr>\n",
       "      <th>1037</th>\n",
       "      <td>Toshiba PDR-M81</td>\n",
       "      <td>2001</td>\n",
       "      <td>2400.0</td>\n",
       "      <td>1200.0</td>\n",
       "      <td>3.0</td>\n",
       "      <td>35.0</td>\n",
       "      <td>98.0</td>\n",
       "      <td>80.0</td>\n",
       "      <td>10.0</td>\n",
       "      <td>16.0</td>\n",
       "      <td>340.0</td>\n",
       "      <td>107.0</td>\n",
       "      <td>62.0</td>\n",
       "    </tr>\n",
       "    <tr>\n",
       "      <th>1038</th>\n",
       "      <td>Toshiba PDR-T10</td>\n",
       "      <td>2002</td>\n",
       "      <td>1600.0</td>\n",
       "      <td>800.0</td>\n",
       "      <td>1.0</td>\n",
       "      <td>38.0</td>\n",
       "      <td>38.0</td>\n",
       "      <td>40.0</td>\n",
       "      <td>20.0</td>\n",
       "      <td>8.0</td>\n",
       "      <td>180.0</td>\n",
       "      <td>86.0</td>\n",
       "      <td>129.0</td>\n",
       "    </tr>\n",
       "  </tbody>\n",
       "</table>\n",
       "<p>1039 rows × 13 columns</p>\n",
       "</div>"
      ],
      "text/plain": [
       "                 Model Release date Max resolution Low resolution  \\\n",
       "0               STRING       DOUBLE         DOUBLE         DOUBLE   \n",
       "1     Agfa ePhoto 1280         1997         1024.0          640.0   \n",
       "2     Agfa ePhoto 1680         1998         1280.0          640.0   \n",
       "3     Agfa ePhoto CL18         2000          640.0            0.0   \n",
       "4     Agfa ePhoto CL30         1999         1152.0          640.0   \n",
       "...                ...          ...            ...            ...   \n",
       "1034   Toshiba PDR-M65         2001         2048.0         1024.0   \n",
       "1035   Toshiba PDR-M70         2000         2048.0         1024.0   \n",
       "1036   Toshiba PDR-M71         2001         2048.0         1024.0   \n",
       "1037   Toshiba PDR-M81         2001         2400.0         1200.0   \n",
       "1038   Toshiba PDR-T10         2002         1600.0          800.0   \n",
       "\n",
       "     Effective pixels Zoom wide (W) Zoom tele (T) Normal focus range  \\\n",
       "0              DOUBLE        DOUBLE        DOUBLE             DOUBLE   \n",
       "1                 0.0          38.0         114.0               70.0   \n",
       "2                 1.0          38.0         114.0               50.0   \n",
       "3                 0.0          45.0          45.0                0.0   \n",
       "4                 0.0          35.0          35.0                0.0   \n",
       "...               ...           ...           ...                ...   \n",
       "1034              3.0          38.0         114.0               10.0   \n",
       "1035              3.0          35.0         105.0               80.0   \n",
       "1036              3.0          35.0          98.0               80.0   \n",
       "1037              3.0          35.0          98.0               80.0   \n",
       "1038              1.0          38.0          38.0               40.0   \n",
       "\n",
       "     Macro focus range Storage included Weight (inc. batteries) Dimensions  \\\n",
       "0               DOUBLE           DOUBLE                  DOUBLE     DOUBLE   \n",
       "1                 40.0              4.0                   420.0       95.0   \n",
       "2                  0.0              4.0                   420.0      158.0   \n",
       "3                  0.0              2.0                     0.0        0.0   \n",
       "4                  0.0              4.0                     0.0        0.0   \n",
       "...                ...              ...                     ...        ...   \n",
       "1034              10.0              8.0                   320.0      120.0   \n",
       "1035               9.0             16.0                   390.0      116.0   \n",
       "1036              10.0              8.0                   340.0      107.0   \n",
       "1037              10.0             16.0                   340.0      107.0   \n",
       "1038              20.0              8.0                   180.0       86.0   \n",
       "\n",
       "       Price  \n",
       "0     DOUBLE  \n",
       "1      179.0  \n",
       "2      179.0  \n",
       "3      179.0  \n",
       "4      269.0  \n",
       "...      ...  \n",
       "1034    62.0  \n",
       "1035    62.0  \n",
       "1036    62.0  \n",
       "1037    62.0  \n",
       "1038   129.0  \n",
       "\n",
       "[1039 rows x 13 columns]"
      ]
     },
     "execution_count": 19,
     "metadata": {},
     "output_type": "execute_result"
    }
   ],
   "source": [
    "import pandas as pd\n",
    "import matplotlib as plt\n",
    "import numpy as np\n",
    "import seaborn as sns\n",
    "from scipy import stats\n",
    "\n",
    "file = pd.read_csv(\"camera.csv\", \",\")\n",
    "file"
   ]
  },
  {
   "cell_type": "markdown",
   "metadata": {},
   "source": [
    "Проверяем, все ли столбцы содержат данные нужного формата:"
   ]
  },
  {
   "cell_type": "code",
   "execution_count": 20,
   "metadata": {},
   "outputs": [
    {
     "name": "stdout",
     "output_type": "stream",
     "text": [
      "<class 'pandas.core.frame.DataFrame'>\n",
      "RangeIndex: 1039 entries, 0 to 1038\n",
      "Data columns (total 13 columns):\n",
      " #   Column                   Non-Null Count  Dtype \n",
      "---  ------                   --------------  ----- \n",
      " 0   Model                    1039 non-null   object\n",
      " 1   Release date             1039 non-null   object\n",
      " 2   Max resolution           1039 non-null   object\n",
      " 3   Low resolution           1039 non-null   object\n",
      " 4   Effective pixels         1039 non-null   object\n",
      " 5   Zoom wide (W)            1039 non-null   object\n",
      " 6   Zoom tele (T)            1039 non-null   object\n",
      " 7   Normal focus range       1039 non-null   object\n",
      " 8   Macro focus range        1038 non-null   object\n",
      " 9   Storage included         1037 non-null   object\n",
      " 10  Weight (inc. batteries)  1037 non-null   object\n",
      " 11  Dimensions               1037 non-null   object\n",
      " 12  Price                    1039 non-null   object\n",
      "dtypes: object(13)\n",
      "memory usage: 105.6+ KB\n"
     ]
    }
   ],
   "source": [
    "file.info()"
   ]
  },
  {
   "cell_type": "markdown",
   "metadata": {},
   "source": [
    "Так как в таблице все записи типа object(смешанный), необходимо сделать преобразование к нужным числовым типам:"
   ]
  },
  {
   "cell_type": "code",
   "execution_count": 21,
   "metadata": {},
   "outputs": [],
   "source": [
    "file = file.drop([0])\n",
    "file[\"Release date\"] = file[\"Release date\"].astype(\"int\")\n",
    "file[\"Max resolution\"] = file[\"Max resolution\"].astype(\"double\")\n",
    "file[\"Low resolution\"] = file[\"Low resolution\"].astype(\"double\")\n",
    "file[\"Effective pixels\"] = file[\"Effective pixels\"].astype(\"double\")\n",
    "file[\"Zoom wide (W)\"] = file[\"Zoom wide (W)\"].astype(\"double\")\n",
    "file[\"Zoom tele (T)\"] = file[\"Zoom tele (T)\"].astype(\"double\")\n",
    "file[\"Normal focus range\"] = file[\"Normal focus range\"].astype(\"double\")\n",
    "file[\"Macro focus range\"] = file[\"Macro focus range\"].astype(\"double\")\n",
    "file[\"Storage included\"] = file[\"Storage included\"].astype(\"double\")\n",
    "file[\"Weight (inc. batteries)\"] = file[\"Weight (inc. batteries)\"].astype(\"double\")\n",
    "file[\"Dimensions\"] = file[\"Dimensions\"].astype(\"double\")\n",
    "file[\"Price\"] = file[\"Price\"].astype(\"double\")"
   ]
  },
  {
   "cell_type": "markdown",
   "metadata": {},
   "source": [
    "6. <b>Удалите строки с нулевыми значениями в данных. Выведите размер набора данных до и после удаления.</b>"
   ]
  },
  {
   "cell_type": "code",
   "execution_count": 22,
   "metadata": {},
   "outputs": [
    {
     "name": "stdout",
     "output_type": "stream",
     "text": [
      "Число записей в таблице до удаления: 1038\n",
      "Число записей в таблице после удаления: 773\n"
     ]
    }
   ],
   "source": [
    "print(\"Число записей в таблице до удаления: {0}\".format(file.shape[0]))\n",
    "new_copy_file = file.copy()\n",
    "new_copy_file.replace(0.0, np.nan, inplace = True)\n",
    "new_copy_file.dropna(inplace = True)\n",
    "print(\"Число записей в таблице после удаления: {0}\".format(new_copy_file.shape[0]))"
   ]
  },
  {
   "cell_type": "markdown",
   "metadata": {},
   "source": [
    "Я удалила все нулевые строки сразу, в надежде в дальнейшем уменьшить время выполнения операций "
   ]
  },
  {
   "cell_type": "markdown",
   "metadata": {},
   "source": [
    "1. <b>Визуализируйте корреляции между признаками, находящимися в наборе данных (heatmap). Сделайте выводы.</b>"
   ]
  },
  {
   "cell_type": "markdown",
   "metadata": {},
   "source": [
    "Визуализация будет создаваться с помощью библиотеки <b>seaborn</b>, так как в ней удобно строить такого рода таблицы. Таблица будет представлять из себя зависимость <b>средней цены</b> и <b>максимального разрешения</b> камер в этот же период за 11 лет."
   ]
  },
  {
   "cell_type": "code",
   "execution_count": 26,
   "metadata": {},
   "outputs": [
    {
     "data": {
      "text/plain": [
       "<matplotlib.axes._subplots.AxesSubplot at 0x27b0fbaad88>"
      ]
     },
     "execution_count": 26,
     "metadata": {},
     "output_type": "execute_result"
    },
    {
     "data": {
      "image/png": "[encoded data removed]",
      "text/plain": [
       "<Figure size 432x288 with 2 Axes>"
      ]
     },
     "metadata": {
      "needs_background": "light"
     },
     "output_type": "display_data"
    }
   ],
   "source": [
    "table = new_copy_file.pivot_table(index = \"Release date\",\n",
    "                        columns = \"Max resolution\",\n",
    "                        values = \"Price\",\n",
    "                        aggfunc = \"mean\").fillna(0).applymap(float)\n",
    "sns.heatmap(table, annot=True, fmt=\".1f\", linewidths=.10)"
   ]
  },
  {
   "cell_type": "markdown",
   "metadata": {},
   "source": [
    "Из таблицы можно увидеть в каком году были выпущены в продажу камеры с той или иной разрешающей способностью.<br><br>\n",
    "Можно сделать вывод, что камеры с каждым годом становятся всё более продвинутыми, а их цена снижается, но при этом она растёт в зависимости от разрешающей способности."
   ]
  },
  {
   "cell_type": "markdown",
   "metadata": {},
   "source": [
    "2. <b>Вычислите корреляцию Пирсона и Спирмена между Price и Max (Min) Resolution. Сравните полученные величины корреляции. Постройте гистограммы для указанных признаков. Оцените значение p-value.</b>"
   ]
  },
  {
   "cell_type": "code",
   "execution_count": 27,
   "metadata": {},
   "outputs": [
    {
     "name": "stdout",
     "output_type": "stream",
     "text": [
      "Критерий Пирсона: -0.0951566197770678. P-значение: 0.008112393983706624;\n",
      "Критерий Спирмена: -0.03163061198225854. P-значение: 0.37982508301417606\n"
     ]
    }
   ],
   "source": [
    "kor_max = new_copy_file[\"Price\"].corr(new_copy_file[\"Max resolution\"])\n",
    "kor_min = new_copy_file[\"Price\"].corr(new_copy_file[\"Low resolution\"])\n",
    "kor_Pearson = stats.pearsonr(new_copy_file[\"Price\"], new_copy_file[\"Max resolution\"])\n",
    "print(\"Критерий Пирсона: {0}. P-значение: {1};\".format(kor_Pearson[0], kor_Pearson[1]))\n",
    "\n",
    "kor_Spearman = stats.spearmanr(new_copy_file[\"Price\"],new_copy_file[\"Max resolution\"], nan_policy=\"omit\") \n",
    "print(\"Критерий Спирмена: {0}. P-значение: {1}\".format(kor_Spearman[0], kor_Spearman[1]))"
   ]
  },
  {
   "cell_type": "markdown",
   "metadata": {},
   "source": [
    "При сравнении видно, что результаты различаются, но на небольшое значение. P-значение в случае с Пирсоном низкое, что говорит о том, что нулевая гипотеза - переменные линейно независимы - отвергается. Так как критерий отрицателен, то можно сказать, что величины обратно зависимы, т.е. чем выше значение одной переменной, тем ниже значение другой."
   ]
  },
  {
   "cell_type": "markdown",
   "metadata": {},
   "source": [
    "Гистограмма для Price:"
   ]
  },
  {
   "cell_type": "code",
   "execution_count": 28,
   "metadata": {},
   "outputs": [
    {
     "data": {
      "text/plain": [
       "<matplotlib.axes._subplots.AxesSubplot at 0x27b134a3348>"
      ]
     },
     "execution_count": 28,
     "metadata": {},
     "output_type": "execute_result"
    },
    {
     "data": {
      "image/png": "[encoded data removed]",
      "text/plain": [
       "<Figure size 432x288 with 1 Axes>"
      ]
     },
     "metadata": {
      "needs_background": "light"
     },
     "output_type": "display_data"
    }
   ],
   "source": [
    "sns.distplot(tuple(new_copy_file[\"Price\"].tolist()))"
   ]
  },
  {
   "cell_type": "markdown",
   "metadata": {},
   "source": [
    "Гистограмма для Max resolution:"
   ]
  },
  {
   "cell_type": "code",
   "execution_count": 29,
   "metadata": {},
   "outputs": [
    {
     "data": {
      "text/plain": [
       "<matplotlib.axes._subplots.AxesSubplot at 0x27b13b90208>"
      ]
     },
     "execution_count": 29,
     "metadata": {},
     "output_type": "execute_result"
    },
    {
     "data": {
      "image/png": "[encoded data removed]",
      "text/plain": [
       "<Figure size 432x288 with 1 Axes>"
      ]
     },
     "metadata": {
      "needs_background": "light"
     },
     "output_type": "display_data"
    }
   ],
   "source": [
    "sns.distplot(tuple(new_copy_file[\"Max resolution\"].tolist()))"
   ]
  },
  {
   "cell_type": "markdown",
   "metadata": {},
   "source": [
    "<b>Постройте график изменения средней цены на камеры по годам:</b>"
   ]
  },
  {
   "cell_type": "code",
   "execution_count": 30,
   "metadata": {},
   "outputs": [
    {
     "data": {
      "text/plain": [
       "Release date\n",
       "1998    382.533333\n",
       "1999    309.818182\n",
       "2000    403.400000\n",
       "2001    557.972603\n",
       "2002    475.042857\n",
       "2003    351.538462\n",
       "2004    370.840000\n",
       "2005    326.981982\n",
       "2006    250.741071\n",
       "2007    280.038462\n",
       "Name: Price, dtype: float64"
      ]
     },
     "execution_count": 30,
     "metadata": {},
     "output_type": "execute_result"
    }
   ],
   "source": [
    "new_copy_file[\"Price\"] = new_copy_file[\"Price\"][1:].astype(float)\n",
    "data = new_copy_file.groupby([\"Release date\"])[\"Price\"].mean()\n",
    "data"
   ]
  },
  {
   "cell_type": "code",
   "execution_count": 31,
   "metadata": {},
   "outputs": [
    {
     "data": {
      "text/plain": [
       "<matplotlib.axes._subplots.AxesSubplot at 0x27b13c5cc48>"
      ]
     },
     "execution_count": 31,
     "metadata": {},
     "output_type": "execute_result"
    },
    {
     "data": {
      "image/png": "[encoded data removed]",
      "text/plain": [
       "<Figure size 432x288 with 1 Axes>"
      ]
     },
     "metadata": {
      "needs_background": "light"
     },
     "output_type": "display_data"
    }
   ],
   "source": [
    "data.plot()"
   ]
  },
  {
   "cell_type": "markdown",
   "metadata": {},
   "source": [
    "4. <b>Определите компанию, камеры которой наиболее часто встречаются в наборе данных.</b>"
   ]
  },
  {
   "cell_type": "code",
   "execution_count": 39,
   "metadata": {},
   "outputs": [
    {
     "name": "stdout",
     "output_type": "stream",
     "text": [
      "Самая популярная модель: Toshiba PDR-T10\n"
     ]
    }
   ],
   "source": [
    "model = fail['Model'].max()\n",
    "print('Самая популярная модель: ' + model)"
   ]
  },
  {
   "cell_type": "markdown",
   "metadata": {},
   "source": [
    "5. <b>Добавьте в набор данных признак, являющийся произведением двух других признаков.</b>"
   ]
  },
  {
   "cell_type": "markdown",
   "metadata": {},
   "source": [
    "В таблицу было добавлено поле \"размер фото\", полученный из произведения стобцов \"максимальное разрешение\" и \"эффективные пиксели\"."
   ]
  },
  {
   "cell_type": "code",
   "execution_count": 40,
   "metadata": {},
   "outputs": [
    {
     "data": {
      "text/html": [
       "<div>\n",
       "<style scoped>\n",
       "    .dataframe tbody tr th:only-of-type {\n",
       "        vertical-align: middle;\n",
       "    }\n",
       "\n",
       "    .dataframe tbody tr th {\n",
       "        vertical-align: top;\n",
       "    }\n",
       "\n",
       "    .dataframe thead th {\n",
       "        text-align: right;\n",
       "    }\n",
       "</style>\n",
       "<table border=\"1\" class=\"dataframe\">\n",
       "  <thead>\n",
       "    <tr style=\"text-align: right;\">\n",
       "      <th></th>\n",
       "      <th>Model</th>\n",
       "      <th>Release date</th>\n",
       "      <th>Max resolution</th>\n",
       "      <th>Low resolution</th>\n",
       "      <th>Effective pixels</th>\n",
       "      <th>Zoom wide (W)</th>\n",
       "      <th>Zoom tele (T)</th>\n",
       "      <th>Normal focus range</th>\n",
       "      <th>Macro focus range</th>\n",
       "      <th>Storage included</th>\n",
       "      <th>Weight (inc. batteries)</th>\n",
       "      <th>Dimensions</th>\n",
       "      <th>Price</th>\n",
       "      <th>foto size</th>\n",
       "    </tr>\n",
       "  </thead>\n",
       "  <tbody>\n",
       "    <tr>\n",
       "      <th>6</th>\n",
       "      <td>Agfa ePhoto CL45</td>\n",
       "      <td>2001</td>\n",
       "      <td>1600.0</td>\n",
       "      <td>640.0</td>\n",
       "      <td>1.0</td>\n",
       "      <td>51.0</td>\n",
       "      <td>51.0</td>\n",
       "      <td>50.0</td>\n",
       "      <td>20.0</td>\n",
       "      <td>8.0</td>\n",
       "      <td>270.0</td>\n",
       "      <td>119.0</td>\n",
       "      <td>NaN</td>\n",
       "      <td>1600.0</td>\n",
       "    </tr>\n",
       "    <tr>\n",
       "      <th>10</th>\n",
       "      <td>Canon PowerShot A10</td>\n",
       "      <td>2001</td>\n",
       "      <td>1280.0</td>\n",
       "      <td>1024.0</td>\n",
       "      <td>1.0</td>\n",
       "      <td>35.0</td>\n",
       "      <td>105.0</td>\n",
       "      <td>76.0</td>\n",
       "      <td>16.0</td>\n",
       "      <td>8.0</td>\n",
       "      <td>375.0</td>\n",
       "      <td>110.0</td>\n",
       "      <td>139.0</td>\n",
       "      <td>1280.0</td>\n",
       "    </tr>\n",
       "    <tr>\n",
       "      <th>11</th>\n",
       "      <td>Canon PowerShot A100</td>\n",
       "      <td>2002</td>\n",
       "      <td>1280.0</td>\n",
       "      <td>1024.0</td>\n",
       "      <td>1.0</td>\n",
       "      <td>39.0</td>\n",
       "      <td>39.0</td>\n",
       "      <td>20.0</td>\n",
       "      <td>5.0</td>\n",
       "      <td>8.0</td>\n",
       "      <td>225.0</td>\n",
       "      <td>110.0</td>\n",
       "      <td>139.0</td>\n",
       "      <td>1280.0</td>\n",
       "    </tr>\n",
       "    <tr>\n",
       "      <th>12</th>\n",
       "      <td>Canon PowerShot A20</td>\n",
       "      <td>2001</td>\n",
       "      <td>1600.0</td>\n",
       "      <td>1024.0</td>\n",
       "      <td>1.0</td>\n",
       "      <td>35.0</td>\n",
       "      <td>105.0</td>\n",
       "      <td>76.0</td>\n",
       "      <td>16.0</td>\n",
       "      <td>8.0</td>\n",
       "      <td>375.0</td>\n",
       "      <td>110.0</td>\n",
       "      <td>139.0</td>\n",
       "      <td>1600.0</td>\n",
       "    </tr>\n",
       "    <tr>\n",
       "      <th>13</th>\n",
       "      <td>Canon PowerShot A200</td>\n",
       "      <td>2002</td>\n",
       "      <td>1600.0</td>\n",
       "      <td>1024.0</td>\n",
       "      <td>1.0</td>\n",
       "      <td>39.0</td>\n",
       "      <td>39.0</td>\n",
       "      <td>20.0</td>\n",
       "      <td>5.0</td>\n",
       "      <td>8.0</td>\n",
       "      <td>225.0</td>\n",
       "      <td>110.0</td>\n",
       "      <td>139.0</td>\n",
       "      <td>1600.0</td>\n",
       "    </tr>\n",
       "    <tr>\n",
       "      <th>...</th>\n",
       "      <td>...</td>\n",
       "      <td>...</td>\n",
       "      <td>...</td>\n",
       "      <td>...</td>\n",
       "      <td>...</td>\n",
       "      <td>...</td>\n",
       "      <td>...</td>\n",
       "      <td>...</td>\n",
       "      <td>...</td>\n",
       "      <td>...</td>\n",
       "      <td>...</td>\n",
       "      <td>...</td>\n",
       "      <td>...</td>\n",
       "      <td>...</td>\n",
       "    </tr>\n",
       "    <tr>\n",
       "      <th>1034</th>\n",
       "      <td>Toshiba PDR-M65</td>\n",
       "      <td>2001</td>\n",
       "      <td>2048.0</td>\n",
       "      <td>1024.0</td>\n",
       "      <td>3.0</td>\n",
       "      <td>38.0</td>\n",
       "      <td>114.0</td>\n",
       "      <td>10.0</td>\n",
       "      <td>10.0</td>\n",
       "      <td>8.0</td>\n",
       "      <td>320.0</td>\n",
       "      <td>120.0</td>\n",
       "      <td>62.0</td>\n",
       "      <td>6144.0</td>\n",
       "    </tr>\n",
       "    <tr>\n",
       "      <th>1035</th>\n",
       "      <td>Toshiba PDR-M70</td>\n",
       "      <td>2000</td>\n",
       "      <td>2048.0</td>\n",
       "      <td>1024.0</td>\n",
       "      <td>3.0</td>\n",
       "      <td>35.0</td>\n",
       "      <td>105.0</td>\n",
       "      <td>80.0</td>\n",
       "      <td>9.0</td>\n",
       "      <td>16.0</td>\n",
       "      <td>390.0</td>\n",
       "      <td>116.0</td>\n",
       "      <td>62.0</td>\n",
       "      <td>6144.0</td>\n",
       "    </tr>\n",
       "    <tr>\n",
       "      <th>1036</th>\n",
       "      <td>Toshiba PDR-M71</td>\n",
       "      <td>2001</td>\n",
       "      <td>2048.0</td>\n",
       "      <td>1024.0</td>\n",
       "      <td>3.0</td>\n",
       "      <td>35.0</td>\n",
       "      <td>98.0</td>\n",
       "      <td>80.0</td>\n",
       "      <td>10.0</td>\n",
       "      <td>8.0</td>\n",
       "      <td>340.0</td>\n",
       "      <td>107.0</td>\n",
       "      <td>62.0</td>\n",
       "      <td>6144.0</td>\n",
       "    </tr>\n",
       "    <tr>\n",
       "      <th>1037</th>\n",
       "      <td>Toshiba PDR-M81</td>\n",
       "      <td>2001</td>\n",
       "      <td>2400.0</td>\n",
       "      <td>1200.0</td>\n",
       "      <td>3.0</td>\n",
       "      <td>35.0</td>\n",
       "      <td>98.0</td>\n",
       "      <td>80.0</td>\n",
       "      <td>10.0</td>\n",
       "      <td>16.0</td>\n",
       "      <td>340.0</td>\n",
       "      <td>107.0</td>\n",
       "      <td>62.0</td>\n",
       "      <td>7200.0</td>\n",
       "    </tr>\n",
       "    <tr>\n",
       "      <th>1038</th>\n",
       "      <td>Toshiba PDR-T10</td>\n",
       "      <td>2002</td>\n",
       "      <td>1600.0</td>\n",
       "      <td>800.0</td>\n",
       "      <td>1.0</td>\n",
       "      <td>38.0</td>\n",
       "      <td>38.0</td>\n",
       "      <td>40.0</td>\n",
       "      <td>20.0</td>\n",
       "      <td>8.0</td>\n",
       "      <td>180.0</td>\n",
       "      <td>86.0</td>\n",
       "      <td>129.0</td>\n",
       "      <td>1600.0</td>\n",
       "    </tr>\n",
       "  </tbody>\n",
       "</table>\n",
       "<p>773 rows × 14 columns</p>\n",
       "</div>"
      ],
      "text/plain": [
       "                     Model  Release date  Max resolution  Low resolution  \\\n",
       "6         Agfa ePhoto CL45          2001          1600.0           640.0   \n",
       "10     Canon PowerShot A10          2001          1280.0          1024.0   \n",
       "11    Canon PowerShot A100          2002          1280.0          1024.0   \n",
       "12     Canon PowerShot A20          2001          1600.0          1024.0   \n",
       "13    Canon PowerShot A200          2002          1600.0          1024.0   \n",
       "...                    ...           ...             ...             ...   \n",
       "1034       Toshiba PDR-M65          2001          2048.0          1024.0   \n",
       "1035       Toshiba PDR-M70          2000          2048.0          1024.0   \n",
       "1036       Toshiba PDR-M71          2001          2048.0          1024.0   \n",
       "1037       Toshiba PDR-M81          2001          2400.0          1200.0   \n",
       "1038       Toshiba PDR-T10          2002          1600.0           800.0   \n",
       "\n",
       "      Effective pixels  Zoom wide (W)  Zoom tele (T)  Normal focus range  \\\n",
       "6                  1.0           51.0           51.0                50.0   \n",
       "10                 1.0           35.0          105.0                76.0   \n",
       "11                 1.0           39.0           39.0                20.0   \n",
       "12                 1.0           35.0          105.0                76.0   \n",
       "13                 1.0           39.0           39.0                20.0   \n",
       "...                ...            ...            ...                 ...   \n",
       "1034               3.0           38.0          114.0                10.0   \n",
       "1035               3.0           35.0          105.0                80.0   \n",
       "1036               3.0           35.0           98.0                80.0   \n",
       "1037               3.0           35.0           98.0                80.0   \n",
       "1038               1.0           38.0           38.0                40.0   \n",
       "\n",
       "      Macro focus range  Storage included  Weight (inc. batteries)  \\\n",
       "6                  20.0               8.0                    270.0   \n",
       "10                 16.0               8.0                    375.0   \n",
       "11                  5.0               8.0                    225.0   \n",
       "12                 16.0               8.0                    375.0   \n",
       "13                  5.0               8.0                    225.0   \n",
       "...                 ...               ...                      ...   \n",
       "1034               10.0               8.0                    320.0   \n",
       "1035                9.0              16.0                    390.0   \n",
       "1036               10.0               8.0                    340.0   \n",
       "1037               10.0              16.0                    340.0   \n",
       "1038               20.0               8.0                    180.0   \n",
       "\n",
       "      Dimensions  Price  foto size  \n",
       "6          119.0    NaN     1600.0  \n",
       "10         110.0  139.0     1280.0  \n",
       "11         110.0  139.0     1280.0  \n",
       "12         110.0  139.0     1600.0  \n",
       "13         110.0  139.0     1600.0  \n",
       "...          ...    ...        ...  \n",
       "1034       120.0   62.0     6144.0  \n",
       "1035       116.0   62.0     6144.0  \n",
       "1036       107.0   62.0     6144.0  \n",
       "1037       107.0   62.0     7200.0  \n",
       "1038        86.0  129.0     1600.0  \n",
       "\n",
       "[773 rows x 14 columns]"
      ]
     },
     "execution_count": 40,
     "metadata": {},
     "output_type": "execute_result"
    }
   ],
   "source": [
    "new_copy_file[\"foto size\"] = new_copy_file[\"Max resolution\"] * new_copy_file[\"Effective pixels\"]\n",
    "new_copy_file"
   ]
  },
  {
   "cell_type": "markdown",
   "metadata": {},
   "source": [
    "7. <b>Определите камеру с максимальной стоимостью, определите камеру с минимальной стоимостью.</b><br>\n",
    "<b>С максимальной стоимостью:</b>"
   ]
  },
  {
   "cell_type": "code",
   "execution_count": 41,
   "metadata": {},
   "outputs": [
    {
     "data": {
      "text/html": [
       "<div>\n",
       "<style scoped>\n",
       "    .dataframe tbody tr th:only-of-type {\n",
       "        vertical-align: middle;\n",
       "    }\n",
       "\n",
       "    .dataframe tbody tr th {\n",
       "        vertical-align: top;\n",
       "    }\n",
       "\n",
       "    .dataframe thead th {\n",
       "        text-align: right;\n",
       "    }\n",
       "</style>\n",
       "<table border=\"1\" class=\"dataframe\">\n",
       "  <thead>\n",
       "    <tr style=\"text-align: right;\">\n",
       "      <th></th>\n",
       "      <th>Model</th>\n",
       "      <th>Price</th>\n",
       "    </tr>\n",
       "  </thead>\n",
       "  <tbody>\n",
       "    <tr>\n",
       "      <th>826</th>\n",
       "      <td>Ricoh GR Digital</td>\n",
       "      <td>4999.0</td>\n",
       "    </tr>\n",
       "    <tr>\n",
       "      <th>835</th>\n",
       "      <td>Ricoh RDC-i500</td>\n",
       "      <td>4999.0</td>\n",
       "    </tr>\n",
       "  </tbody>\n",
       "</table>\n",
       "</div>"
      ],
      "text/plain": [
       "                Model   Price\n",
       "826  Ricoh GR Digital  4999.0\n",
       "835    Ricoh RDC-i500  4999.0"
      ]
     },
     "execution_count": 41,
     "metadata": {},
     "output_type": "execute_result"
    }
   ],
   "source": [
    "new_copy_file[new_copy_file[\"Price\"] == new_copy_file[\"Price\"].max()][[\"Model\", \"Price\"]]"
   ]
  },
  {
   "cell_type": "markdown",
   "metadata": {},
   "source": [
    "<b>С минимальной стоимостью:</b>"
   ]
  },
  {
   "cell_type": "code",
   "execution_count": 42,
   "metadata": {},
   "outputs": [
    {
     "data": {
      "text/html": [
       "<div>\n",
       "<style scoped>\n",
       "    .dataframe tbody tr th:only-of-type {\n",
       "        vertical-align: middle;\n",
       "    }\n",
       "\n",
       "    .dataframe tbody tr th {\n",
       "        vertical-align: top;\n",
       "    }\n",
       "\n",
       "    .dataframe thead th {\n",
       "        text-align: right;\n",
       "    }\n",
       "</style>\n",
       "<table border=\"1\" class=\"dataframe\">\n",
       "  <thead>\n",
       "    <tr style=\"text-align: right;\">\n",
       "      <th></th>\n",
       "      <th>Model</th>\n",
       "      <th>Price</th>\n",
       "    </tr>\n",
       "  </thead>\n",
       "  <tbody>\n",
       "    <tr>\n",
       "      <th>348</th>\n",
       "      <td>JVC GC-QX3HD</td>\n",
       "      <td>14.0</td>\n",
       "    </tr>\n",
       "    <tr>\n",
       "      <th>349</th>\n",
       "      <td>JVC GC-QX5HD</td>\n",
       "      <td>14.0</td>\n",
       "    </tr>\n",
       "  </tbody>\n",
       "</table>\n",
       "</div>"
      ],
      "text/plain": [
       "            Model  Price\n",
       "348  JVC GC-QX3HD   14.0\n",
       "349  JVC GC-QX5HD   14.0"
      ]
     },
     "execution_count": 42,
     "metadata": {},
     "output_type": "execute_result"
    }
   ],
   "source": [
    "new_copy_file[new_copy_file[\"Price\"] == new_copy_file[\"Price\"].min()][[\"Model\", \"Price\"]]"
   ]
  },
  {
   "cell_type": "markdown",
   "metadata": {},
   "source": [
    "8. <b>Определите год, в который было выпущено максимально количество новых камер.</b>"
   ]
  },
  {
   "cell_type": "code",
   "execution_count": 44,
   "metadata": {},
   "outputs": [
    {
     "data": {
      "text/plain": [
       "Release date  Max resolution\n",
       "1998          1152.0             2\n",
       "              1280.0            12\n",
       "              1536.0             1\n",
       "1999          1152.0             1\n",
       "              1280.0            13\n",
       "                                ..\n",
       "2007          3264.0            40\n",
       "              3296.0             4\n",
       "              3488.0             2\n",
       "              3648.0             9\n",
       "              4000.0            10\n",
       "Name: Model, Length: 129, dtype: int64"
      ]
     },
     "execution_count": 44,
     "metadata": {},
     "output_type": "execute_result"
    }
   ],
   "source": [
    "new_copy_file.groupby([\"Release date\", \"Max resolution\"])[\"Model\"].count()"
   ]
  },
  {
   "cell_type": "markdown",
   "metadata": {},
   "source": [
    "Из таблицы видно, что этот год - <b>2007</b>. 40 моделей с разрешением 3264 точек."
   ]
  }
 ],
 "metadata": {
  "kernelspec": {
   "display_name": "Python 3",
   "language": "python",
   "name": "python3"
  },
  "language_info": {
   "codemirror_mode": {
    "name": "ipython",
    "version": 3
   },
   "file_extension": ".py",
   "mimetype": "text/x-python",
   "name": "python",
   "nbconvert_exporter": "python",
   "pygments_lexer": "ipython3",
   "version": "3.7.6"
  }
 },
 "nbformat": 4,
 "nbformat_minor": 4
}
